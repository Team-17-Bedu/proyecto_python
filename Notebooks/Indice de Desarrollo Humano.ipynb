{
 "metadata": {
  "language_info": {
   "codemirror_mode": {
    "name": "ipython",
    "version": 3
   },
   "file_extension": ".py",
   "mimetype": "text/x-python",
   "name": "python",
   "nbconvert_exporter": "python",
   "pygments_lexer": "ipython3",
   "version": "3.6.8-final"
  },
  "orig_nbformat": 2,
  "kernelspec": {
   "name": "python3",
   "display_name": "Python 3.6.8 64-bit",
   "metadata": {
    "interpreter": {
     "hash": "58bc13ec4dd135858b8220102d0ad3358f57eb64d131366ec25c4d4365eacf63"
    }
   }
  }
 },
 "nbformat": 4,
 "nbformat_minor": 2,
 "cells": [
  {
   "source": [
    "<!-- PROJECT LOGO -->\n",
    "<br/>\n",
    "<p align=\"center\">\n",
    "    <img src=\"https://raw.githubusercontent.com/Team-17-Bedu/proyecto_python/main/img/icono.png\" alt=\"Logo\" width=\"135\" height=\"135\">\n",
    "\n",
    "  <h3 align=\"center\"><strong>Países con mayor calidad de vida</strong></h3>\n",
    "\n",
    "  <p align=\"center\">\n",
    "    Proyecto final para el modulo \"Procesamiento de datos con Python\"\n",
    "  </p>\n",
    "</p>\n",
    "\n",
    "#### Acerca del proyecto:\n",
    "\n",
    "Este proyecto tiene como proposito realizar un analisis de la calidad de vida de ciertos paises, con el fin de determinar cuál de ellos podria ser la mejor opcion para vivir o buscar un empleo, todo esto, haciendo uso de herramientas estadísticas y computacionales, siendo el principal aliado, el lenguaje de programacion Python. \n",
    "\n",
    "\n",
    "En este caso se tendra como principal objetivo en calcular el IDH por medio de la documentación proporcionada del __*Human Development Report 2020*__, presente en el siguiente [enlace](http://hdr.undp.org/sites/default/files/hdr2020_technical_notes.pdf). Y con tales resultados justificar nuestro anterior proyecto elaborado en el lenguaje R, el proyecto esta presente en el siguiente [enlace](https://github.com/Team-17-Bedu/proyecto).\n",
    "\n",
    "Todos los indicadores serán obtenidos por medio de la API proporcionada por la UNDP, de los cuales serán analizados \n",
    "* Años esperados de escolaridad \n",
    "* Ingreso nacional bruto (INB) per cápita\n",
    "* Esperanza de vida al nacer\n",
    "* Promedio de años de escolaridad\n",
    "\n",
    "#### Preparación:\n",
    "Para comenzar se importaron los modulos necesarios (dadas las limitaciones de github no es posible renderizar los widgets, para ello sera necesario visualuzar el notebook en Google Colab)\n"
   ],
   "cell_type": "markdown",
   "metadata": {}
  },
  {
   "cell_type": "code",
   "execution_count": 1,
   "metadata": {},
   "outputs": [],
   "source": [
    "import pandas as pd\n",
    "import requests\n",
    "import ipywidgets as widgets\n",
    "from IPython.display import display"
   ]
  },
  {
   "source": [
    "Debido a que el acceso a la API requiere un inicio de sesion, se recurrió al objeto `Session` del modulo `requests`  "
   ],
   "cell_type": "markdown",
   "metadata": {}
  },
  {
   "cell_type": "code",
   "execution_count": 2,
   "metadata": {},
   "outputs": [],
   "source": [
    "session = requests.Session()"
   ]
  },
  {
   "source": [
    "Mediante el modulo `widgets` se definieron dos text box para introducir los datos de autenticación, `user` y `password` respectivamente "
   ],
   "cell_type": "markdown",
   "metadata": {}
  },
  {
   "cell_type": "code",
   "execution_count": 3,
   "metadata": {},
   "outputs": [
    {
     "output_type": "display_data",
     "data": {
      "text/plain": "Text(value='')",
      "application/vnd.jupyter.widget-view+json": {
       "version_major": 2,
       "version_minor": 0,
       "model_id": "64232653dbd34ec08053c87a549ec7de"
      }
     },
     "metadata": {}
    },
    {
     "output_type": "display_data",
     "data": {
      "text/plain": "Text(value='')",
      "application/vnd.jupyter.widget-view+json": {
       "version_major": 2,
       "version_minor": 0,
       "model_id": "97b867dbd8a3491c9a52c9d104becfe7"
      }
     },
     "metadata": {}
    }
   ],
   "source": [
    "user = widgets.Text()\n",
    "password = widgets.Text()\n",
    "display(user, password)"
   ]
  },
  {
   "source": [
    "Definición de la tupla que contendra los datos de acceso"
   ],
   "cell_type": "markdown",
   "metadata": {}
  },
  {
   "cell_type": "code",
   "execution_count": 4,
   "metadata": {},
   "outputs": [],
   "source": [
    "access = (user.value, password.value)"
   ]
  },
  {
   "source": [
    "Inicio de sesión en la API de la UNDP"
   ],
   "cell_type": "markdown",
   "metadata": {}
  },
  {
   "cell_type": "code",
   "execution_count": 5,
   "metadata": {},
   "outputs": [
    {
     "output_type": "execute_result",
     "data": {
      "text/plain": [
       "<Response [200]>"
      ]
     },
     "metadata": {},
     "execution_count": 5
    }
   ],
   "source": [
    "session.get(\"http://ec2-54-174-131-205.compute-1.amazonaws.com/API/Login.php\",\n",
    "            auth=access)"
   ]
  },
  {
   "source": [
    "Dada la estructura del `json` recibido, se construyo una funcion para normalizar los datos, a modo de obtener un `DataFrame` homogeneo"
   ],
   "cell_type": "markdown",
   "metadata": {}
  },
  {
   "cell_type": "code",
   "execution_count": 6,
   "metadata": {},
   "outputs": [],
   "source": [
    "def normalize_data(data_dirt: dict, indicator_id: str) -> dict:\n",
    "    new_data = {\n",
    "        'Country': list(data_dirt['country_name'].values())\n",
    "    }\n",
    "    countries = list(data_dirt['country_name'].keys())\n",
    "    for year, year_data in data_dirt['indicator_value'].items():\n",
    "        values = []\n",
    "        last_key = ''\n",
    "        for key, val in year_data[indicator_id].items():\n",
    "            current_pos = countries.index(key)\n",
    "            last_pos = countries.index(last_key) if last_key != '' else 0\n",
    "            last_key = key\n",
    "            zeros = current_pos - last_pos\n",
    "            i = 1\n",
    "            while i < zeros and zeros != 0:\n",
    "                values.append(0)\n",
    "                i += 1\n",
    "            values.append(val)\n",
    "        new_data[year] = values\n",
    "    return  new_data"
   ]
  },
  {
   "source": [
    "### Calculo del Indice de Educación\n",
    "#### Expectativa de años de escolaridad\n",
    "Definición del indicador a consultar, en este caso el correspondiente a la expectativa de años de escolaridad"
   ],
   "cell_type": "markdown",
   "metadata": {}
  },
  {
   "cell_type": "code",
   "execution_count": 7,
   "metadata": {},
   "outputs": [],
   "source": [
    "indicator = '69706'"
   ]
  },
  {
   "source": [
    "Realización de la consulta (puesto que la estructura es diferente a la de otras peticiones, esta se realizo con un `fstring`)"
   ],
   "cell_type": "markdown",
   "metadata": {}
  },
  {
   "cell_type": "code",
   "execution_count": 8,
   "metadata": {},
   "outputs": [
    {
     "output_type": "execute_result",
     "data": {
      "text/plain": [
       "<Response [200]>"
      ]
     },
     "metadata": {},
     "execution_count": 8
    }
   ],
   "source": [
    "data = session.get(f'http://ec2-54-174-131-205.compute-1.amazonaws.com/API/HDRO_API.php/indicator_id={indicator}/structure=yic')\n",
    "data"
   ]
  },
  {
   "source": [
    "Normalizacion del `json` obtenido en la consulta"
   ],
   "cell_type": "markdown",
   "metadata": {}
  },
  {
   "cell_type": "code",
   "execution_count": 9,
   "metadata": {},
   "outputs": [],
   "source": [
    "data_clean = normalize_data(data.json(), indicator)"
   ]
  },
  {
   "source": [
    "Creación del `DataFrame` con los datos normalizados y visualización de `head` y `tail`"
   ],
   "cell_type": "markdown",
   "metadata": {}
  },
  {
   "cell_type": "code",
   "execution_count": 10,
   "metadata": {},
   "outputs": [
    {
     "output_type": "execute_result",
     "data": {
      "text/plain": [
       "                  Country    1990    1991    1992    1993    1994    1995  \\\n",
       "0             Afghanistan   2.593   2.919   3.246   3.573   3.899   4.226   \n",
       "1                  Angola   3.441   3.252   3.234   3.657   3.767   3.877   \n",
       "2                 Albania  11.603  11.764  10.664  10.127  10.091  10.166   \n",
       "3                 Andorra  10.799  10.799  10.799  10.799  10.799  10.799   \n",
       "4    United Arab Emirates  10.314  10.663  10.507  10.539  10.860  11.093   \n",
       "..                    ...     ...     ...     ...     ...     ...     ...   \n",
       "188                 Samoa  11.655  11.699  11.744  11.788  11.832  11.877   \n",
       "189                 Yemen   7.531   7.545   7.559   7.573   7.587   7.602   \n",
       "190          South Africa  11.371  11.946  12.315  12.684  12.752  13.038   \n",
       "191                Zambia   7.518   7.744   7.971   8.197   8.424   8.650   \n",
       "192              Zimbabwe   9.774  10.206   9.801   9.795   9.790   9.785   \n",
       "\n",
       "       1996    1997    1998  ...    2010    2011    2012    2013    2014  \\\n",
       "0     4.553   4.879   5.206  ...   9.532   9.478   9.973  10.172  10.262   \n",
       "1     3.987   4.096   4.206  ...   8.646   9.545   9.916  10.286  10.657   \n",
       "2    10.228  10.505  10.669  ...  13.000  13.748  14.587  14.926  15.252   \n",
       "3    10.799  10.799  10.799  ...  11.672  11.672  13.524  13.139  13.495   \n",
       "4    10.847  10.550  10.376  ...  12.208  12.361  12.514  12.666  13.005   \n",
       "..      ...     ...     ...  ...     ...     ...     ...     ...     ...   \n",
       "188  11.921  11.832  12.010  ...  12.859  12.508  12.380  12.458  12.535   \n",
       "189   7.616   7.630   7.594  ...   8.589   8.977   8.457   8.809   8.737   \n",
       "190  13.022  13.007  12.992  ...  12.808  12.793  12.872  13.147  13.406   \n",
       "191   8.876   9.103   9.329  ...  11.017  10.932  10.931  10.960  11.046   \n",
       "192   9.780   9.775   9.770  ...  10.137  10.224  10.311  10.199  10.271   \n",
       "\n",
       "       2015    2016    2017    2018    2019  \n",
       "0    10.235  10.262  10.139  10.139  10.176  \n",
       "1    11.028  11.399  11.777  11.777  11.777  \n",
       "2    15.076  14.805  14.816  14.696  14.696  \n",
       "3    13.140  13.300  13.046  13.300  13.300  \n",
       "4    13.667  13.643  13.643  14.344  14.344  \n",
       "..      ...     ...     ...     ...     ...  \n",
       "188  12.433  12.431  12.520  12.520  12.730  \n",
       "189   8.701   8.664   8.664   8.664   8.769  \n",
       "190  13.765  13.668  13.668  13.668  13.791  \n",
       "191  11.133  11.219  11.305  11.392  11.478  \n",
       "192  10.324  10.387  10.451  10.451  10.969  \n",
       "\n",
       "[193 rows x 31 columns]"
      ],
      "text/html": "<div>\n<style scoped>\n    .dataframe tbody tr th:only-of-type {\n        vertical-align: middle;\n    }\n\n    .dataframe tbody tr th {\n        vertical-align: top;\n    }\n\n    .dataframe thead th {\n        text-align: right;\n    }\n</style>\n<table border=\"1\" class=\"dataframe\">\n  <thead>\n    <tr style=\"text-align: right;\">\n      <th></th>\n      <th>Country</th>\n      <th>1990</th>\n      <th>1991</th>\n      <th>1992</th>\n      <th>1993</th>\n      <th>1994</th>\n      <th>1995</th>\n      <th>1996</th>\n      <th>1997</th>\n      <th>1998</th>\n      <th>...</th>\n      <th>2010</th>\n      <th>2011</th>\n      <th>2012</th>\n      <th>2013</th>\n      <th>2014</th>\n      <th>2015</th>\n      <th>2016</th>\n      <th>2017</th>\n      <th>2018</th>\n      <th>2019</th>\n    </tr>\n  </thead>\n  <tbody>\n    <tr>\n      <th>0</th>\n      <td>Afghanistan</td>\n      <td>2.593</td>\n      <td>2.919</td>\n      <td>3.246</td>\n      <td>3.573</td>\n      <td>3.899</td>\n      <td>4.226</td>\n      <td>4.553</td>\n      <td>4.879</td>\n      <td>5.206</td>\n      <td>...</td>\n      <td>9.532</td>\n      <td>9.478</td>\n      <td>9.973</td>\n      <td>10.172</td>\n      <td>10.262</td>\n      <td>10.235</td>\n      <td>10.262</td>\n      <td>10.139</td>\n      <td>10.139</td>\n      <td>10.176</td>\n    </tr>\n    <tr>\n      <th>1</th>\n      <td>Angola</td>\n      <td>3.441</td>\n      <td>3.252</td>\n      <td>3.234</td>\n      <td>3.657</td>\n      <td>3.767</td>\n      <td>3.877</td>\n      <td>3.987</td>\n      <td>4.096</td>\n      <td>4.206</td>\n      <td>...</td>\n      <td>8.646</td>\n      <td>9.545</td>\n      <td>9.916</td>\n      <td>10.286</td>\n      <td>10.657</td>\n      <td>11.028</td>\n      <td>11.399</td>\n      <td>11.777</td>\n      <td>11.777</td>\n      <td>11.777</td>\n    </tr>\n    <tr>\n      <th>2</th>\n      <td>Albania</td>\n      <td>11.603</td>\n      <td>11.764</td>\n      <td>10.664</td>\n      <td>10.127</td>\n      <td>10.091</td>\n      <td>10.166</td>\n      <td>10.228</td>\n      <td>10.505</td>\n      <td>10.669</td>\n      <td>...</td>\n      <td>13.000</td>\n      <td>13.748</td>\n      <td>14.587</td>\n      <td>14.926</td>\n      <td>15.252</td>\n      <td>15.076</td>\n      <td>14.805</td>\n      <td>14.816</td>\n      <td>14.696</td>\n      <td>14.696</td>\n    </tr>\n    <tr>\n      <th>3</th>\n      <td>Andorra</td>\n      <td>10.799</td>\n      <td>10.799</td>\n      <td>10.799</td>\n      <td>10.799</td>\n      <td>10.799</td>\n      <td>10.799</td>\n      <td>10.799</td>\n      <td>10.799</td>\n      <td>10.799</td>\n      <td>...</td>\n      <td>11.672</td>\n      <td>11.672</td>\n      <td>13.524</td>\n      <td>13.139</td>\n      <td>13.495</td>\n      <td>13.140</td>\n      <td>13.300</td>\n      <td>13.046</td>\n      <td>13.300</td>\n      <td>13.300</td>\n    </tr>\n    <tr>\n      <th>4</th>\n      <td>United Arab Emirates</td>\n      <td>10.314</td>\n      <td>10.663</td>\n      <td>10.507</td>\n      <td>10.539</td>\n      <td>10.860</td>\n      <td>11.093</td>\n      <td>10.847</td>\n      <td>10.550</td>\n      <td>10.376</td>\n      <td>...</td>\n      <td>12.208</td>\n      <td>12.361</td>\n      <td>12.514</td>\n      <td>12.666</td>\n      <td>13.005</td>\n      <td>13.667</td>\n      <td>13.643</td>\n      <td>13.643</td>\n      <td>14.344</td>\n      <td>14.344</td>\n    </tr>\n    <tr>\n      <th>...</th>\n      <td>...</td>\n      <td>...</td>\n      <td>...</td>\n      <td>...</td>\n      <td>...</td>\n      <td>...</td>\n      <td>...</td>\n      <td>...</td>\n      <td>...</td>\n      <td>...</td>\n      <td>...</td>\n      <td>...</td>\n      <td>...</td>\n      <td>...</td>\n      <td>...</td>\n      <td>...</td>\n      <td>...</td>\n      <td>...</td>\n      <td>...</td>\n      <td>...</td>\n      <td>...</td>\n    </tr>\n    <tr>\n      <th>188</th>\n      <td>Samoa</td>\n      <td>11.655</td>\n      <td>11.699</td>\n      <td>11.744</td>\n      <td>11.788</td>\n      <td>11.832</td>\n      <td>11.877</td>\n      <td>11.921</td>\n      <td>11.832</td>\n      <td>12.010</td>\n      <td>...</td>\n      <td>12.859</td>\n      <td>12.508</td>\n      <td>12.380</td>\n      <td>12.458</td>\n      <td>12.535</td>\n      <td>12.433</td>\n      <td>12.431</td>\n      <td>12.520</td>\n      <td>12.520</td>\n      <td>12.730</td>\n    </tr>\n    <tr>\n      <th>189</th>\n      <td>Yemen</td>\n      <td>7.531</td>\n      <td>7.545</td>\n      <td>7.559</td>\n      <td>7.573</td>\n      <td>7.587</td>\n      <td>7.602</td>\n      <td>7.616</td>\n      <td>7.630</td>\n      <td>7.594</td>\n      <td>...</td>\n      <td>8.589</td>\n      <td>8.977</td>\n      <td>8.457</td>\n      <td>8.809</td>\n      <td>8.737</td>\n      <td>8.701</td>\n      <td>8.664</td>\n      <td>8.664</td>\n      <td>8.664</td>\n      <td>8.769</td>\n    </tr>\n    <tr>\n      <th>190</th>\n      <td>South Africa</td>\n      <td>11.371</td>\n      <td>11.946</td>\n      <td>12.315</td>\n      <td>12.684</td>\n      <td>12.752</td>\n      <td>13.038</td>\n      <td>13.022</td>\n      <td>13.007</td>\n      <td>12.992</td>\n      <td>...</td>\n      <td>12.808</td>\n      <td>12.793</td>\n      <td>12.872</td>\n      <td>13.147</td>\n      <td>13.406</td>\n      <td>13.765</td>\n      <td>13.668</td>\n      <td>13.668</td>\n      <td>13.668</td>\n      <td>13.791</td>\n    </tr>\n    <tr>\n      <th>191</th>\n      <td>Zambia</td>\n      <td>7.518</td>\n      <td>7.744</td>\n      <td>7.971</td>\n      <td>8.197</td>\n      <td>8.424</td>\n      <td>8.650</td>\n      <td>8.876</td>\n      <td>9.103</td>\n      <td>9.329</td>\n      <td>...</td>\n      <td>11.017</td>\n      <td>10.932</td>\n      <td>10.931</td>\n      <td>10.960</td>\n      <td>11.046</td>\n      <td>11.133</td>\n      <td>11.219</td>\n      <td>11.305</td>\n      <td>11.392</td>\n      <td>11.478</td>\n    </tr>\n    <tr>\n      <th>192</th>\n      <td>Zimbabwe</td>\n      <td>9.774</td>\n      <td>10.206</td>\n      <td>9.801</td>\n      <td>9.795</td>\n      <td>9.790</td>\n      <td>9.785</td>\n      <td>9.780</td>\n      <td>9.775</td>\n      <td>9.770</td>\n      <td>...</td>\n      <td>10.137</td>\n      <td>10.224</td>\n      <td>10.311</td>\n      <td>10.199</td>\n      <td>10.271</td>\n      <td>10.324</td>\n      <td>10.387</td>\n      <td>10.451</td>\n      <td>10.451</td>\n      <td>10.969</td>\n    </tr>\n  </tbody>\n</table>\n<p>193 rows × 31 columns</p>\n</div>"
     },
     "metadata": {},
     "execution_count": 10
    }
   ],
   "source": [
    "expectativa = pd.DataFrame(data_clean)\n",
    "expectativa"
   ]
  },
  {
   "source": [
    "* Dimensiones del `DataFrame`\n",
    "    * 193 filas\n",
    "    * 31 columnas"
   ],
   "cell_type": "markdown",
   "metadata": {}
  },
  {
   "cell_type": "code",
   "execution_count": 11,
   "metadata": {},
   "outputs": [
    {
     "output_type": "execute_result",
     "data": {
      "text/plain": [
       "(193, 31)"
      ]
     },
     "metadata": {},
     "execution_count": 11
    }
   ],
   "source": [
    "expectativa.shape"
   ]
  },
  {
   "source": [
    "* Nombre de las columnas"
   ],
   "cell_type": "markdown",
   "metadata": {}
  },
  {
   "cell_type": "code",
   "execution_count": 12,
   "metadata": {},
   "outputs": [
    {
     "output_type": "execute_result",
     "data": {
      "text/plain": [
       "Index(['Country', '1990', '1991', '1992', '1993', '1994', '1995', '1996',\n",
       "       '1997', '1998', '1999', '2000', '2001', '2002', '2003', '2004', '2005',\n",
       "       '2006', '2007', '2008', '2009', '2010', '2011', '2012', '2013', '2014',\n",
       "       '2015', '2016', '2017', '2018', '2019'],\n",
       "      dtype='object')"
      ]
     },
     "metadata": {},
     "execution_count": 12
    }
   ],
   "source": [
    "expectativa.columns"
   ]
  },
  {
   "source": [
    "#### Calculo del indice de expectativa de años de escolaridad por paises\n",
    "\n",
    "Se explica a continuación como se realizo el calculo del indice de expectativa de años de escolaaridad por pais.\n",
    "Primeramente se presenta lo que es la formula que se uso:\n",
    "\n",
    "$$\\Huge\\Huge\\frac{\\alpha - \\theta}{\\gamma - \\theta}$$\n",
    "\n",
    "Donde:\n",
    "\n",
    "* $\\alpha$ : La expectativa de escolaridad en el pais.\n",
    "* $\\theta$ : Es la expectativa minima de años de escolaridad. En el documento __*Human Development Report 2020*__ se usa 0 años como minimo.\n",
    "* $\\gamma$ : Es la expectativa maxima de años de escolaridad. En el documento __*Human Development Report 2020*__ se usa 18 años como maximo.\n",
    "\n",
    "\n",
    "Este calculo se realizo por cada pais en cada uno de los años."
   ],
   "cell_type": "markdown",
   "metadata": {}
  },
  {
   "cell_type": "code",
   "execution_count": 13,
   "metadata": {},
   "outputs": [],
   "source": [
    "for year in range(1990, 2020):\n",
    "    year = str(year)\n",
    "    indices = []\n",
    "    for cell in expectativa[year]:\n",
    "        try:\n",
    "            indices.append((float(cell) - 0) / (18 - 0))\n",
    "        except:\n",
    "            indices.append(0)\n",
    "    expectativa[f'Indice_Expect_Educacion_{year}'] = indices\n",
    "\n",
    "expectativa = expectativa.drop([str(i) for i in range(1990, 2020)],axis=1)"
   ]
  },
  {
   "cell_type": "code",
   "execution_count": 14,
   "metadata": {},
   "outputs": [
    {
     "output_type": "execute_result",
     "data": {
      "text/plain": [
       "                Country  Indice_Expect_Educacion_1990  \\\n",
       "0           Afghanistan                      0.144056   \n",
       "1                Angola                      0.191167   \n",
       "2               Albania                      0.644611   \n",
       "3               Andorra                      0.599944   \n",
       "4  United Arab Emirates                      0.573000   \n",
       "\n",
       "   Indice_Expect_Educacion_1991  Indice_Expect_Educacion_1992  \\\n",
       "0                      0.162167                      0.180333   \n",
       "1                      0.180667                      0.179667   \n",
       "2                      0.653556                      0.592444   \n",
       "3                      0.599944                      0.599944   \n",
       "4                      0.592389                      0.583722   \n",
       "\n",
       "   Indice_Expect_Educacion_1993  Indice_Expect_Educacion_1994  \\\n",
       "0                      0.198500                      0.216611   \n",
       "1                      0.203167                      0.209278   \n",
       "2                      0.562611                      0.560611   \n",
       "3                      0.599944                      0.599944   \n",
       "4                      0.585500                      0.603333   \n",
       "\n",
       "   Indice_Expect_Educacion_1995  Indice_Expect_Educacion_1996  \\\n",
       "0                      0.234778                      0.252944   \n",
       "1                      0.215389                      0.221500   \n",
       "2                      0.564778                      0.568222   \n",
       "3                      0.599944                      0.599944   \n",
       "4                      0.616278                      0.602611   \n",
       "\n",
       "   Indice_Expect_Educacion_1997  Indice_Expect_Educacion_1998  ...  \\\n",
       "0                      0.271056                      0.289222  ...   \n",
       "1                      0.227556                      0.233667  ...   \n",
       "2                      0.583611                      0.592722  ...   \n",
       "3                      0.599944                      0.599944  ...   \n",
       "4                      0.586111                      0.576444  ...   \n",
       "\n",
       "   Indice_Expect_Educacion_2010  Indice_Expect_Educacion_2011  \\\n",
       "0                      0.529556                      0.526556   \n",
       "1                      0.480333                      0.530278   \n",
       "2                      0.722222                      0.763778   \n",
       "3                      0.648444                      0.648444   \n",
       "4                      0.678222                      0.686722   \n",
       "\n",
       "   Indice_Expect_Educacion_2012  Indice_Expect_Educacion_2013  \\\n",
       "0                      0.554056                      0.565111   \n",
       "1                      0.550889                      0.571444   \n",
       "2                      0.810389                      0.829222   \n",
       "3                      0.751333                      0.729944   \n",
       "4                      0.695222                      0.703667   \n",
       "\n",
       "   Indice_Expect_Educacion_2014  Indice_Expect_Educacion_2015  \\\n",
       "0                      0.570111                      0.568611   \n",
       "1                      0.592056                      0.612667   \n",
       "2                      0.847333                      0.837556   \n",
       "3                      0.749722                      0.730000   \n",
       "4                      0.722500                      0.759278   \n",
       "\n",
       "   Indice_Expect_Educacion_2016  Indice_Expect_Educacion_2017  \\\n",
       "0                      0.570111                      0.563278   \n",
       "1                      0.633278                      0.654278   \n",
       "2                      0.822500                      0.823111   \n",
       "3                      0.738889                      0.724778   \n",
       "4                      0.757944                      0.757944   \n",
       "\n",
       "   Indice_Expect_Educacion_2018  Indice_Expect_Educacion_2019  \n",
       "0                      0.563278                      0.565333  \n",
       "1                      0.654278                      0.654278  \n",
       "2                      0.816444                      0.816444  \n",
       "3                      0.738889                      0.738889  \n",
       "4                      0.796889                      0.796889  \n",
       "\n",
       "[5 rows x 31 columns]"
      ],
      "text/html": "<div>\n<style scoped>\n    .dataframe tbody tr th:only-of-type {\n        vertical-align: middle;\n    }\n\n    .dataframe tbody tr th {\n        vertical-align: top;\n    }\n\n    .dataframe thead th {\n        text-align: right;\n    }\n</style>\n<table border=\"1\" class=\"dataframe\">\n  <thead>\n    <tr style=\"text-align: right;\">\n      <th></th>\n      <th>Country</th>\n      <th>Indice_Expect_Educacion_1990</th>\n      <th>Indice_Expect_Educacion_1991</th>\n      <th>Indice_Expect_Educacion_1992</th>\n      <th>Indice_Expect_Educacion_1993</th>\n      <th>Indice_Expect_Educacion_1994</th>\n      <th>Indice_Expect_Educacion_1995</th>\n      <th>Indice_Expect_Educacion_1996</th>\n      <th>Indice_Expect_Educacion_1997</th>\n      <th>Indice_Expect_Educacion_1998</th>\n      <th>...</th>\n      <th>Indice_Expect_Educacion_2010</th>\n      <th>Indice_Expect_Educacion_2011</th>\n      <th>Indice_Expect_Educacion_2012</th>\n      <th>Indice_Expect_Educacion_2013</th>\n      <th>Indice_Expect_Educacion_2014</th>\n      <th>Indice_Expect_Educacion_2015</th>\n      <th>Indice_Expect_Educacion_2016</th>\n      <th>Indice_Expect_Educacion_2017</th>\n      <th>Indice_Expect_Educacion_2018</th>\n      <th>Indice_Expect_Educacion_2019</th>\n    </tr>\n  </thead>\n  <tbody>\n    <tr>\n      <th>0</th>\n      <td>Afghanistan</td>\n      <td>0.144056</td>\n      <td>0.162167</td>\n      <td>0.180333</td>\n      <td>0.198500</td>\n      <td>0.216611</td>\n      <td>0.234778</td>\n      <td>0.252944</td>\n      <td>0.271056</td>\n      <td>0.289222</td>\n      <td>...</td>\n      <td>0.529556</td>\n      <td>0.526556</td>\n      <td>0.554056</td>\n      <td>0.565111</td>\n      <td>0.570111</td>\n      <td>0.568611</td>\n      <td>0.570111</td>\n      <td>0.563278</td>\n      <td>0.563278</td>\n      <td>0.565333</td>\n    </tr>\n    <tr>\n      <th>1</th>\n      <td>Angola</td>\n      <td>0.191167</td>\n      <td>0.180667</td>\n      <td>0.179667</td>\n      <td>0.203167</td>\n      <td>0.209278</td>\n      <td>0.215389</td>\n      <td>0.221500</td>\n      <td>0.227556</td>\n      <td>0.233667</td>\n      <td>...</td>\n      <td>0.480333</td>\n      <td>0.530278</td>\n      <td>0.550889</td>\n      <td>0.571444</td>\n      <td>0.592056</td>\n      <td>0.612667</td>\n      <td>0.633278</td>\n      <td>0.654278</td>\n      <td>0.654278</td>\n      <td>0.654278</td>\n    </tr>\n    <tr>\n      <th>2</th>\n      <td>Albania</td>\n      <td>0.644611</td>\n      <td>0.653556</td>\n      <td>0.592444</td>\n      <td>0.562611</td>\n      <td>0.560611</td>\n      <td>0.564778</td>\n      <td>0.568222</td>\n      <td>0.583611</td>\n      <td>0.592722</td>\n      <td>...</td>\n      <td>0.722222</td>\n      <td>0.763778</td>\n      <td>0.810389</td>\n      <td>0.829222</td>\n      <td>0.847333</td>\n      <td>0.837556</td>\n      <td>0.822500</td>\n      <td>0.823111</td>\n      <td>0.816444</td>\n      <td>0.816444</td>\n    </tr>\n    <tr>\n      <th>3</th>\n      <td>Andorra</td>\n      <td>0.599944</td>\n      <td>0.599944</td>\n      <td>0.599944</td>\n      <td>0.599944</td>\n      <td>0.599944</td>\n      <td>0.599944</td>\n      <td>0.599944</td>\n      <td>0.599944</td>\n      <td>0.599944</td>\n      <td>...</td>\n      <td>0.648444</td>\n      <td>0.648444</td>\n      <td>0.751333</td>\n      <td>0.729944</td>\n      <td>0.749722</td>\n      <td>0.730000</td>\n      <td>0.738889</td>\n      <td>0.724778</td>\n      <td>0.738889</td>\n      <td>0.738889</td>\n    </tr>\n    <tr>\n      <th>4</th>\n      <td>United Arab Emirates</td>\n      <td>0.573000</td>\n      <td>0.592389</td>\n      <td>0.583722</td>\n      <td>0.585500</td>\n      <td>0.603333</td>\n      <td>0.616278</td>\n      <td>0.602611</td>\n      <td>0.586111</td>\n      <td>0.576444</td>\n      <td>...</td>\n      <td>0.678222</td>\n      <td>0.686722</td>\n      <td>0.695222</td>\n      <td>0.703667</td>\n      <td>0.722500</td>\n      <td>0.759278</td>\n      <td>0.757944</td>\n      <td>0.757944</td>\n      <td>0.796889</td>\n      <td>0.796889</td>\n    </tr>\n  </tbody>\n</table>\n<p>5 rows × 31 columns</p>\n</div>"
     },
     "metadata": {},
     "execution_count": 14
    }
   ],
   "source": [
    "expectativa.head()"
   ]
  },
  {
   "source": [
    "#### Expectativa de años de escolaridad\n",
    "Definición del indicador a consultar, en este caso el correspondiente al promedio de años de escolaridad"
   ],
   "cell_type": "markdown",
   "metadata": {}
  },
  {
   "cell_type": "code",
   "execution_count": 15,
   "metadata": {},
   "outputs": [],
   "source": [
    "indicator = '103006'"
   ]
  },
  {
   "source": [
    "Realización de la consulta (puesto que la estructura es diferente a la de otras peticiones, esta se realizo con un `fstring`)"
   ],
   "cell_type": "markdown",
   "metadata": {}
  },
  {
   "cell_type": "code",
   "execution_count": 16,
   "metadata": {},
   "outputs": [
    {
     "output_type": "execute_result",
     "data": {
      "text/plain": [
       "<Response [200]>"
      ]
     },
     "metadata": {},
     "execution_count": 16
    }
   ],
   "source": [
    "data = session.get(f'http://ec2-54-174-131-205.compute-1.amazonaws.com/API/HDRO_API.php/indicator_id={indicator}/structure=yic')\n",
    "data"
   ]
  },
  {
   "source": [
    "Normalizacion del `json` obtenido en la consulta"
   ],
   "cell_type": "markdown",
   "metadata": {}
  },
  {
   "cell_type": "code",
   "execution_count": 17,
   "metadata": {},
   "outputs": [],
   "source": [
    "data_clean = normalize_data(data.json(), indicator)"
   ]
  },
  {
   "source": [
    "Creación del `DataFrame` con los datos normalizados y visualización de `head` y `tail`"
   ],
   "cell_type": "markdown",
   "metadata": {}
  },
  {
   "cell_type": "code",
   "execution_count": 18,
   "metadata": {},
   "outputs": [
    {
     "output_type": "execute_result",
     "data": {
      "text/plain": [
       "                  Country   1990   1991   1992   1993   1994   1995   1996  \\\n",
       "0             Afghanistan  1.490  1.564  1.638  1.712  1.786  1.860  1.920   \n",
       "1                  Angola  0.000  0.000  0.000  0.000  0.000  0.000  0.000   \n",
       "2                 Albania  7.830  7.828  7.826  7.824  7.822  8.027  8.175   \n",
       "3                 Andorra  0.000  0.000  0.000  0.000  0.000  0.000  0.000   \n",
       "4    United Arab Emirates  5.623  5.915  6.207  6.500  6.792  7.084  7.323   \n",
       "..                    ...    ...    ...    ...    ...    ...    ...    ...   \n",
       "185                 Samoa  7.602  7.724  7.845  7.966  8.088  8.209  8.331   \n",
       "186                 Yemen  0.290  0.362  0.434  0.506  0.578  0.650  0.760   \n",
       "187          South Africa  6.490  6.600  7.177  7.523  7.869  8.215  8.327   \n",
       "188                Zambia  4.680  4.952  5.224  5.496  5.768  6.040  6.008   \n",
       "189              Zimbabwe  4.530  4.732  4.934  5.136  5.338  5.540  5.729   \n",
       "\n",
       "      1997   1998  ...    2010    2011    2012    2013    2014    2015  \\\n",
       "0    1.980  2.040  ...   3.230   3.310   3.390   3.470   3.550   3.630   \n",
       "1    0.000  0.000  ...   4.726   4.726   4.788   4.851   4.915   4.980   \n",
       "2    8.323  8.471  ...   9.292   9.958  10.025  10.025  10.025  10.025   \n",
       "3    0.000  0.000  ...  10.364  10.402  10.439  10.477  10.515  10.590   \n",
       "4    7.562  7.802  ...   9.883  10.036  10.189  10.342  10.495  10.648   \n",
       "..     ...    ...  ...     ...     ...     ...     ...     ...     ...   \n",
       "185  8.452  8.573  ...  10.030  10.490  10.511  10.532  10.553  10.574   \n",
       "186  0.870  0.980  ...   2.600   2.800   3.000   3.000   3.000   3.000   \n",
       "187  8.438  8.549  ...  10.215   9.574   9.821   9.905   9.989  10.134   \n",
       "188  5.976  5.944  ...   6.600   6.674   6.748   6.822   6.769   6.864   \n",
       "189  5.919  6.108  ...   7.250   7.250   7.865   8.007   8.150   8.201   \n",
       "\n",
       "       2016    2017    2018    2019  \n",
       "0     3.630   3.780   3.930   3.930  \n",
       "1     5.100   5.125   5.174   5.174  \n",
       "2    10.025  10.055  10.055  10.146  \n",
       "3    10.590  10.519  10.502  10.502  \n",
       "4    10.923  12.111  12.111  12.111  \n",
       "..      ...     ...     ...     ...  \n",
       "185  10.595  10.595  10.595  10.779  \n",
       "186   3.000   3.000   3.200   3.200  \n",
       "187  10.155  10.155  10.241  10.241  \n",
       "188   6.960   7.056   7.104   7.152  \n",
       "189   8.292   8.342   8.378   8.467  \n",
       "\n",
       "[190 rows x 31 columns]"
      ],
      "text/html": "<div>\n<style scoped>\n    .dataframe tbody tr th:only-of-type {\n        vertical-align: middle;\n    }\n\n    .dataframe tbody tr th {\n        vertical-align: top;\n    }\n\n    .dataframe thead th {\n        text-align: right;\n    }\n</style>\n<table border=\"1\" class=\"dataframe\">\n  <thead>\n    <tr style=\"text-align: right;\">\n      <th></th>\n      <th>Country</th>\n      <th>1990</th>\n      <th>1991</th>\n      <th>1992</th>\n      <th>1993</th>\n      <th>1994</th>\n      <th>1995</th>\n      <th>1996</th>\n      <th>1997</th>\n      <th>1998</th>\n      <th>...</th>\n      <th>2010</th>\n      <th>2011</th>\n      <th>2012</th>\n      <th>2013</th>\n      <th>2014</th>\n      <th>2015</th>\n      <th>2016</th>\n      <th>2017</th>\n      <th>2018</th>\n      <th>2019</th>\n    </tr>\n  </thead>\n  <tbody>\n    <tr>\n      <th>0</th>\n      <td>Afghanistan</td>\n      <td>1.490</td>\n      <td>1.564</td>\n      <td>1.638</td>\n      <td>1.712</td>\n      <td>1.786</td>\n      <td>1.860</td>\n      <td>1.920</td>\n      <td>1.980</td>\n      <td>2.040</td>\n      <td>...</td>\n      <td>3.230</td>\n      <td>3.310</td>\n      <td>3.390</td>\n      <td>3.470</td>\n      <td>3.550</td>\n      <td>3.630</td>\n      <td>3.630</td>\n      <td>3.780</td>\n      <td>3.930</td>\n      <td>3.930</td>\n    </tr>\n    <tr>\n      <th>1</th>\n      <td>Angola</td>\n      <td>0.000</td>\n      <td>0.000</td>\n      <td>0.000</td>\n      <td>0.000</td>\n      <td>0.000</td>\n      <td>0.000</td>\n      <td>0.000</td>\n      <td>0.000</td>\n      <td>0.000</td>\n      <td>...</td>\n      <td>4.726</td>\n      <td>4.726</td>\n      <td>4.788</td>\n      <td>4.851</td>\n      <td>4.915</td>\n      <td>4.980</td>\n      <td>5.100</td>\n      <td>5.125</td>\n      <td>5.174</td>\n      <td>5.174</td>\n    </tr>\n    <tr>\n      <th>2</th>\n      <td>Albania</td>\n      <td>7.830</td>\n      <td>7.828</td>\n      <td>7.826</td>\n      <td>7.824</td>\n      <td>7.822</td>\n      <td>8.027</td>\n      <td>8.175</td>\n      <td>8.323</td>\n      <td>8.471</td>\n      <td>...</td>\n      <td>9.292</td>\n      <td>9.958</td>\n      <td>10.025</td>\n      <td>10.025</td>\n      <td>10.025</td>\n      <td>10.025</td>\n      <td>10.025</td>\n      <td>10.055</td>\n      <td>10.055</td>\n      <td>10.146</td>\n    </tr>\n    <tr>\n      <th>3</th>\n      <td>Andorra</td>\n      <td>0.000</td>\n      <td>0.000</td>\n      <td>0.000</td>\n      <td>0.000</td>\n      <td>0.000</td>\n      <td>0.000</td>\n      <td>0.000</td>\n      <td>0.000</td>\n      <td>0.000</td>\n      <td>...</td>\n      <td>10.364</td>\n      <td>10.402</td>\n      <td>10.439</td>\n      <td>10.477</td>\n      <td>10.515</td>\n      <td>10.590</td>\n      <td>10.590</td>\n      <td>10.519</td>\n      <td>10.502</td>\n      <td>10.502</td>\n    </tr>\n    <tr>\n      <th>4</th>\n      <td>United Arab Emirates</td>\n      <td>5.623</td>\n      <td>5.915</td>\n      <td>6.207</td>\n      <td>6.500</td>\n      <td>6.792</td>\n      <td>7.084</td>\n      <td>7.323</td>\n      <td>7.562</td>\n      <td>7.802</td>\n      <td>...</td>\n      <td>9.883</td>\n      <td>10.036</td>\n      <td>10.189</td>\n      <td>10.342</td>\n      <td>10.495</td>\n      <td>10.648</td>\n      <td>10.923</td>\n      <td>12.111</td>\n      <td>12.111</td>\n      <td>12.111</td>\n    </tr>\n    <tr>\n      <th>...</th>\n      <td>...</td>\n      <td>...</td>\n      <td>...</td>\n      <td>...</td>\n      <td>...</td>\n      <td>...</td>\n      <td>...</td>\n      <td>...</td>\n      <td>...</td>\n      <td>...</td>\n      <td>...</td>\n      <td>...</td>\n      <td>...</td>\n      <td>...</td>\n      <td>...</td>\n      <td>...</td>\n      <td>...</td>\n      <td>...</td>\n      <td>...</td>\n      <td>...</td>\n      <td>...</td>\n    </tr>\n    <tr>\n      <th>185</th>\n      <td>Samoa</td>\n      <td>7.602</td>\n      <td>7.724</td>\n      <td>7.845</td>\n      <td>7.966</td>\n      <td>8.088</td>\n      <td>8.209</td>\n      <td>8.331</td>\n      <td>8.452</td>\n      <td>8.573</td>\n      <td>...</td>\n      <td>10.030</td>\n      <td>10.490</td>\n      <td>10.511</td>\n      <td>10.532</td>\n      <td>10.553</td>\n      <td>10.574</td>\n      <td>10.595</td>\n      <td>10.595</td>\n      <td>10.595</td>\n      <td>10.779</td>\n    </tr>\n    <tr>\n      <th>186</th>\n      <td>Yemen</td>\n      <td>0.290</td>\n      <td>0.362</td>\n      <td>0.434</td>\n      <td>0.506</td>\n      <td>0.578</td>\n      <td>0.650</td>\n      <td>0.760</td>\n      <td>0.870</td>\n      <td>0.980</td>\n      <td>...</td>\n      <td>2.600</td>\n      <td>2.800</td>\n      <td>3.000</td>\n      <td>3.000</td>\n      <td>3.000</td>\n      <td>3.000</td>\n      <td>3.000</td>\n      <td>3.000</td>\n      <td>3.200</td>\n      <td>3.200</td>\n    </tr>\n    <tr>\n      <th>187</th>\n      <td>South Africa</td>\n      <td>6.490</td>\n      <td>6.600</td>\n      <td>7.177</td>\n      <td>7.523</td>\n      <td>7.869</td>\n      <td>8.215</td>\n      <td>8.327</td>\n      <td>8.438</td>\n      <td>8.549</td>\n      <td>...</td>\n      <td>10.215</td>\n      <td>9.574</td>\n      <td>9.821</td>\n      <td>9.905</td>\n      <td>9.989</td>\n      <td>10.134</td>\n      <td>10.155</td>\n      <td>10.155</td>\n      <td>10.241</td>\n      <td>10.241</td>\n    </tr>\n    <tr>\n      <th>188</th>\n      <td>Zambia</td>\n      <td>4.680</td>\n      <td>4.952</td>\n      <td>5.224</td>\n      <td>5.496</td>\n      <td>5.768</td>\n      <td>6.040</td>\n      <td>6.008</td>\n      <td>5.976</td>\n      <td>5.944</td>\n      <td>...</td>\n      <td>6.600</td>\n      <td>6.674</td>\n      <td>6.748</td>\n      <td>6.822</td>\n      <td>6.769</td>\n      <td>6.864</td>\n      <td>6.960</td>\n      <td>7.056</td>\n      <td>7.104</td>\n      <td>7.152</td>\n    </tr>\n    <tr>\n      <th>189</th>\n      <td>Zimbabwe</td>\n      <td>4.530</td>\n      <td>4.732</td>\n      <td>4.934</td>\n      <td>5.136</td>\n      <td>5.338</td>\n      <td>5.540</td>\n      <td>5.729</td>\n      <td>5.919</td>\n      <td>6.108</td>\n      <td>...</td>\n      <td>7.250</td>\n      <td>7.250</td>\n      <td>7.865</td>\n      <td>8.007</td>\n      <td>8.150</td>\n      <td>8.201</td>\n      <td>8.292</td>\n      <td>8.342</td>\n      <td>8.378</td>\n      <td>8.467</td>\n    </tr>\n  </tbody>\n</table>\n<p>190 rows × 31 columns</p>\n</div>"
     },
     "metadata": {},
     "execution_count": 18
    }
   ],
   "source": [
    "promedio = pd.DataFrame(data_clean)\n",
    "promedio"
   ]
  },
  {
   "source": [
    "* Dimensiones del `DataFrame`\n",
    "    * 190 filas\n",
    "    * 31 columnas"
   ],
   "cell_type": "markdown",
   "metadata": {}
  },
  {
   "cell_type": "code",
   "execution_count": 19,
   "metadata": {},
   "outputs": [
    {
     "output_type": "execute_result",
     "data": {
      "text/plain": [
       "(190, 31)"
      ]
     },
     "metadata": {},
     "execution_count": 19
    }
   ],
   "source": [
    "promedio.shape"
   ]
  },
  {
   "source": [
    "* Nombre de las columnas"
   ],
   "cell_type": "markdown",
   "metadata": {}
  },
  {
   "cell_type": "code",
   "execution_count": 20,
   "metadata": {},
   "outputs": [
    {
     "output_type": "execute_result",
     "data": {
      "text/plain": [
       "Index(['Country', '1990', '1991', '1992', '1993', '1994', '1995', '1996',\n",
       "       '1997', '1998', '1999', '2000', '2001', '2002', '2003', '2004', '2005',\n",
       "       '2006', '2007', '2008', '2009', '2010', '2011', '2012', '2013', '2014',\n",
       "       '2015', '2016', '2017', '2018', '2019'],\n",
       "      dtype='object')"
      ]
     },
     "metadata": {},
     "execution_count": 20
    }
   ],
   "source": [
    "promedio.columns"
   ]
  },
  {
   "source": [
    "#### Calculo del indice de promedio de años de escolaridad por país\n",
    "\n",
    "Se explica a continuación como se realizo el calculo del indice de promedio de años de escolaridad por pais.\n",
    "Primeramente se presenta lo que es la formula que se uso:\n",
    "\n",
    "$$\\Huge\\Huge\\frac{\\alpha - \\theta}{\\gamma - \\theta}$$\n",
    "\n",
    "Donde:\n",
    "\n",
    "* $\\alpha$ : El promedio de años de escolaridad en el pais.\n",
    "* $\\theta$ : Es la expectativa minima del promedio de años de escolaridad. En el documento __*Human Development Report 2020*__ se usa 0 años como minimo.\n",
    "* $\\gamma$ : Es la expectativa maxima del promedio de años de escolaridad. En el documento __*Human Development Report 2020*__ se usa 15 años como maximo.\n",
    "\n",
    "\n",
    "Este calculo se realizo por cada pais en cada uno de los años. "
   ],
   "cell_type": "markdown",
   "metadata": {}
  },
  {
   "cell_type": "code",
   "execution_count": 21,
   "metadata": {},
   "outputs": [],
   "source": [
    "for year in range(1990, 2020):\n",
    "    year = str(year)\n",
    "    indices = []\n",
    "    for cell in promedio[year]:\n",
    "        try:\n",
    "            indices.append((float(cell) - 0) / (15 - 0))\n",
    "        except:\n",
    "            indices.append(0)\n",
    "    promedio[f'Indice_Promedio_Edu_{year}'] = indices\n",
    "\n",
    "promedio = promedio.drop([str(i) for i in range(1990, 2020)], axis=1)"
   ]
  },
  {
   "source": [
    "Resultado del calculo del indice del promedio de años de escolaridad por cada país en cada uno de sus periodos."
   ],
   "cell_type": "markdown",
   "metadata": {}
  },
  {
   "cell_type": "code",
   "execution_count": 22,
   "metadata": {},
   "outputs": [
    {
     "output_type": "execute_result",
     "data": {
      "text/plain": [
       "                Country  Indice_Promedio_Edu_1990  Indice_Promedio_Edu_1991  \\\n",
       "0           Afghanistan                  0.099333                  0.104267   \n",
       "1                Angola                  0.000000                  0.000000   \n",
       "2               Albania                  0.522000                  0.521867   \n",
       "3               Andorra                  0.000000                  0.000000   \n",
       "4  United Arab Emirates                  0.374867                  0.394333   \n",
       "\n",
       "   Indice_Promedio_Edu_1992  Indice_Promedio_Edu_1993  \\\n",
       "0                  0.109200                  0.114133   \n",
       "1                  0.000000                  0.000000   \n",
       "2                  0.521733                  0.521600   \n",
       "3                  0.000000                  0.000000   \n",
       "4                  0.413800                  0.433333   \n",
       "\n",
       "   Indice_Promedio_Edu_1994  Indice_Promedio_Edu_1995  \\\n",
       "0                  0.119067                  0.124000   \n",
       "1                  0.000000                  0.000000   \n",
       "2                  0.521467                  0.535133   \n",
       "3                  0.000000                  0.000000   \n",
       "4                  0.452800                  0.472267   \n",
       "\n",
       "   Indice_Promedio_Edu_1996  Indice_Promedio_Edu_1997  \\\n",
       "0                    0.1280                  0.132000   \n",
       "1                    0.0000                  0.000000   \n",
       "2                    0.5450                  0.554867   \n",
       "3                    0.0000                  0.000000   \n",
       "4                    0.4882                  0.504133   \n",
       "\n",
       "   Indice_Promedio_Edu_1998  ...  Indice_Promedio_Edu_2010  \\\n",
       "0                  0.136000  ...                  0.215333   \n",
       "1                  0.000000  ...                  0.315067   \n",
       "2                  0.564733  ...                  0.619467   \n",
       "3                  0.000000  ...                  0.690933   \n",
       "4                  0.520133  ...                  0.658867   \n",
       "\n",
       "   Indice_Promedio_Edu_2011  Indice_Promedio_Edu_2012  \\\n",
       "0                  0.220667                  0.226000   \n",
       "1                  0.315067                  0.319200   \n",
       "2                  0.663867                  0.668333   \n",
       "3                  0.693467                  0.695933   \n",
       "4                  0.669067                  0.679267   \n",
       "\n",
       "   Indice_Promedio_Edu_2013  Indice_Promedio_Edu_2014  \\\n",
       "0                  0.231333                  0.236667   \n",
       "1                  0.323400                  0.327667   \n",
       "2                  0.668333                  0.668333   \n",
       "3                  0.698467                  0.701000   \n",
       "4                  0.689467                  0.699667   \n",
       "\n",
       "   Indice_Promedio_Edu_2015  Indice_Promedio_Edu_2016  \\\n",
       "0                  0.242000                  0.242000   \n",
       "1                  0.332000                  0.340000   \n",
       "2                  0.668333                  0.668333   \n",
       "3                  0.706000                  0.706000   \n",
       "4                  0.709867                  0.728200   \n",
       "\n",
       "   Indice_Promedio_Edu_2017  Indice_Promedio_Edu_2018  \\\n",
       "0                  0.252000                  0.262000   \n",
       "1                  0.341667                  0.344933   \n",
       "2                  0.670333                  0.670333   \n",
       "3                  0.701267                  0.700133   \n",
       "4                  0.807400                  0.807400   \n",
       "\n",
       "   Indice_Promedio_Edu_2019  \n",
       "0                  0.262000  \n",
       "1                  0.344933  \n",
       "2                  0.676400  \n",
       "3                  0.700133  \n",
       "4                  0.807400  \n",
       "\n",
       "[5 rows x 31 columns]"
      ],
      "text/html": "<div>\n<style scoped>\n    .dataframe tbody tr th:only-of-type {\n        vertical-align: middle;\n    }\n\n    .dataframe tbody tr th {\n        vertical-align: top;\n    }\n\n    .dataframe thead th {\n        text-align: right;\n    }\n</style>\n<table border=\"1\" class=\"dataframe\">\n  <thead>\n    <tr style=\"text-align: right;\">\n      <th></th>\n      <th>Country</th>\n      <th>Indice_Promedio_Edu_1990</th>\n      <th>Indice_Promedio_Edu_1991</th>\n      <th>Indice_Promedio_Edu_1992</th>\n      <th>Indice_Promedio_Edu_1993</th>\n      <th>Indice_Promedio_Edu_1994</th>\n      <th>Indice_Promedio_Edu_1995</th>\n      <th>Indice_Promedio_Edu_1996</th>\n      <th>Indice_Promedio_Edu_1997</th>\n      <th>Indice_Promedio_Edu_1998</th>\n      <th>...</th>\n      <th>Indice_Promedio_Edu_2010</th>\n      <th>Indice_Promedio_Edu_2011</th>\n      <th>Indice_Promedio_Edu_2012</th>\n      <th>Indice_Promedio_Edu_2013</th>\n      <th>Indice_Promedio_Edu_2014</th>\n      <th>Indice_Promedio_Edu_2015</th>\n      <th>Indice_Promedio_Edu_2016</th>\n      <th>Indice_Promedio_Edu_2017</th>\n      <th>Indice_Promedio_Edu_2018</th>\n      <th>Indice_Promedio_Edu_2019</th>\n    </tr>\n  </thead>\n  <tbody>\n    <tr>\n      <th>0</th>\n      <td>Afghanistan</td>\n      <td>0.099333</td>\n      <td>0.104267</td>\n      <td>0.109200</td>\n      <td>0.114133</td>\n      <td>0.119067</td>\n      <td>0.124000</td>\n      <td>0.1280</td>\n      <td>0.132000</td>\n      <td>0.136000</td>\n      <td>...</td>\n      <td>0.215333</td>\n      <td>0.220667</td>\n      <td>0.226000</td>\n      <td>0.231333</td>\n      <td>0.236667</td>\n      <td>0.242000</td>\n      <td>0.242000</td>\n      <td>0.252000</td>\n      <td>0.262000</td>\n      <td>0.262000</td>\n    </tr>\n    <tr>\n      <th>1</th>\n      <td>Angola</td>\n      <td>0.000000</td>\n      <td>0.000000</td>\n      <td>0.000000</td>\n      <td>0.000000</td>\n      <td>0.000000</td>\n      <td>0.000000</td>\n      <td>0.0000</td>\n      <td>0.000000</td>\n      <td>0.000000</td>\n      <td>...</td>\n      <td>0.315067</td>\n      <td>0.315067</td>\n      <td>0.319200</td>\n      <td>0.323400</td>\n      <td>0.327667</td>\n      <td>0.332000</td>\n      <td>0.340000</td>\n      <td>0.341667</td>\n      <td>0.344933</td>\n      <td>0.344933</td>\n    </tr>\n    <tr>\n      <th>2</th>\n      <td>Albania</td>\n      <td>0.522000</td>\n      <td>0.521867</td>\n      <td>0.521733</td>\n      <td>0.521600</td>\n      <td>0.521467</td>\n      <td>0.535133</td>\n      <td>0.5450</td>\n      <td>0.554867</td>\n      <td>0.564733</td>\n      <td>...</td>\n      <td>0.619467</td>\n      <td>0.663867</td>\n      <td>0.668333</td>\n      <td>0.668333</td>\n      <td>0.668333</td>\n      <td>0.668333</td>\n      <td>0.668333</td>\n      <td>0.670333</td>\n      <td>0.670333</td>\n      <td>0.676400</td>\n    </tr>\n    <tr>\n      <th>3</th>\n      <td>Andorra</td>\n      <td>0.000000</td>\n      <td>0.000000</td>\n      <td>0.000000</td>\n      <td>0.000000</td>\n      <td>0.000000</td>\n      <td>0.000000</td>\n      <td>0.0000</td>\n      <td>0.000000</td>\n      <td>0.000000</td>\n      <td>...</td>\n      <td>0.690933</td>\n      <td>0.693467</td>\n      <td>0.695933</td>\n      <td>0.698467</td>\n      <td>0.701000</td>\n      <td>0.706000</td>\n      <td>0.706000</td>\n      <td>0.701267</td>\n      <td>0.700133</td>\n      <td>0.700133</td>\n    </tr>\n    <tr>\n      <th>4</th>\n      <td>United Arab Emirates</td>\n      <td>0.374867</td>\n      <td>0.394333</td>\n      <td>0.413800</td>\n      <td>0.433333</td>\n      <td>0.452800</td>\n      <td>0.472267</td>\n      <td>0.4882</td>\n      <td>0.504133</td>\n      <td>0.520133</td>\n      <td>...</td>\n      <td>0.658867</td>\n      <td>0.669067</td>\n      <td>0.679267</td>\n      <td>0.689467</td>\n      <td>0.699667</td>\n      <td>0.709867</td>\n      <td>0.728200</td>\n      <td>0.807400</td>\n      <td>0.807400</td>\n      <td>0.807400</td>\n    </tr>\n  </tbody>\n</table>\n<p>5 rows × 31 columns</p>\n</div>"
     },
     "metadata": {},
     "execution_count": 22
    }
   ],
   "source": [
    "promedio.head()"
   ]
  },
  {
   "source": [
    "#### Calculo del Indice de Educacion\n",
    "Creación de un `DataFrame` vacío para almacenar todos los resultados del calculo "
   ],
   "cell_type": "markdown",
   "metadata": {}
  },
  {
   "cell_type": "code",
   "execution_count": 23,
   "metadata": {},
   "outputs": [],
   "source": [
    "header = ['Pais']\n",
    "indices = pd.DataFrame({}, columns=header)"
   ]
  },
  {
   "source": [
    "### Calculo del indice de Educación por país\n",
    "\n",
    "Se explica a continuación como se realizo el calculo del indice de educación por país.\n",
    "Primeramente se presenta lo que es la formula que se uso:\n",
    "\n",
    "$$\\Huge\\Huge\\frac{\\alpha + \\beta}{2}$$\n",
    "\n",
    "Donde:\n",
    "\n",
    "* $\\alpha$ : El indice de la expectativa de años de escolaridad en el pais.\n",
    "* $\\beta$ : El indice del promedio de años de escolaridad en el país\n",
    "\n",
    "Este calculo se realizo por cada pais en cada uno de los años. \n"
   ],
   "cell_type": "markdown",
   "metadata": {}
  },
  {
   "cell_type": "code",
   "execution_count": 24,
   "metadata": {},
   "outputs": [],
   "source": [
    "def calcular_indice(_pais, expect, prom):\n",
    "    dicci = {\n",
    "        \"Pais\": _pais\n",
    "    }\n",
    "    prom, expect = prom[0][1:], expect[0][1:]\n",
    "    indice = [(float(prom[i]) + float(expect[i])) / 2 for i in range(0, len(prom))]\n",
    "\n",
    "    for i in range(1990, 2020):\n",
    "        dicci[str(i)] = indice[i - 1990]\n",
    "    return dicci\n",
    "\n",
    "\n",
    "for country in promedio[\"Country\"]:\n",
    "    expect = expectativa.loc[expectativa.Country == country].to_numpy()\n",
    "    prom = promedio.loc[promedio.Country == country].to_numpy()\n",
    "    if len(expect) > 0 and len(prom) > 0:\n",
    "        indices = indices.append(calcular_indice(country, expect, prom), ignore_index= True)\n"
   ]
  },
  {
   "source": [
    "Resultado del calculo del indice de educción por cada país en cada uno de sus periodos."
   ],
   "cell_type": "markdown",
   "metadata": {}
  },
  {
   "cell_type": "code",
   "execution_count": 25,
   "metadata": {},
   "outputs": [
    {
     "output_type": "execute_result",
     "data": {
      "text/plain": [
       "                   Pais      1990      1991      1992      1993      1994  \\\n",
       "0           Afghanistan  0.121694  0.133217  0.144767  0.156317  0.167839   \n",
       "1                Angola  0.095583  0.090333  0.089833  0.101583  0.104639   \n",
       "2               Albania  0.583306  0.587711  0.557089  0.542106  0.541039   \n",
       "3               Andorra  0.299972  0.299972  0.299972  0.299972  0.299972   \n",
       "4  United Arab Emirates  0.473933  0.493361  0.498761  0.509417  0.528067   \n",
       "\n",
       "       1995      1996      1997      1998  ...      2010      2011      2012  \\\n",
       "0  0.179389  0.190472  0.201528  0.212611  ...  0.372444  0.373611  0.390028   \n",
       "1  0.107694  0.110750  0.113778  0.116833  ...  0.397700  0.422672  0.435044   \n",
       "2  0.549956  0.556611  0.569239  0.578728  ...  0.670844  0.713822  0.739361   \n",
       "3  0.299972  0.299972  0.299972  0.299972  ...  0.669689  0.670956  0.723633   \n",
       "4  0.544272  0.545406  0.545122  0.548289  ...  0.668544  0.677894  0.687244   \n",
       "\n",
       "       2013      2014      2015      2016      2017      2018      2019  \n",
       "0  0.398222  0.403389  0.405306  0.406056  0.407639  0.412639  0.413667  \n",
       "1  0.447422  0.459861  0.472333  0.486639  0.497972  0.499606  0.499606  \n",
       "2  0.748778  0.757833  0.752944  0.745417  0.746722  0.743389  0.746422  \n",
       "3  0.714206  0.725361  0.718000  0.722444  0.713022  0.719511  0.719511  \n",
       "4  0.696567  0.711083  0.734572  0.743072  0.782672  0.802144  0.802144  \n",
       "\n",
       "[5 rows x 31 columns]"
      ],
      "text/html": "<div>\n<style scoped>\n    .dataframe tbody tr th:only-of-type {\n        vertical-align: middle;\n    }\n\n    .dataframe tbody tr th {\n        vertical-align: top;\n    }\n\n    .dataframe thead th {\n        text-align: right;\n    }\n</style>\n<table border=\"1\" class=\"dataframe\">\n  <thead>\n    <tr style=\"text-align: right;\">\n      <th></th>\n      <th>Pais</th>\n      <th>1990</th>\n      <th>1991</th>\n      <th>1992</th>\n      <th>1993</th>\n      <th>1994</th>\n      <th>1995</th>\n      <th>1996</th>\n      <th>1997</th>\n      <th>1998</th>\n      <th>...</th>\n      <th>2010</th>\n      <th>2011</th>\n      <th>2012</th>\n      <th>2013</th>\n      <th>2014</th>\n      <th>2015</th>\n      <th>2016</th>\n      <th>2017</th>\n      <th>2018</th>\n      <th>2019</th>\n    </tr>\n  </thead>\n  <tbody>\n    <tr>\n      <th>0</th>\n      <td>Afghanistan</td>\n      <td>0.121694</td>\n      <td>0.133217</td>\n      <td>0.144767</td>\n      <td>0.156317</td>\n      <td>0.167839</td>\n      <td>0.179389</td>\n      <td>0.190472</td>\n      <td>0.201528</td>\n      <td>0.212611</td>\n      <td>...</td>\n      <td>0.372444</td>\n      <td>0.373611</td>\n      <td>0.390028</td>\n      <td>0.398222</td>\n      <td>0.403389</td>\n      <td>0.405306</td>\n      <td>0.406056</td>\n      <td>0.407639</td>\n      <td>0.412639</td>\n      <td>0.413667</td>\n    </tr>\n    <tr>\n      <th>1</th>\n      <td>Angola</td>\n      <td>0.095583</td>\n      <td>0.090333</td>\n      <td>0.089833</td>\n      <td>0.101583</td>\n      <td>0.104639</td>\n      <td>0.107694</td>\n      <td>0.110750</td>\n      <td>0.113778</td>\n      <td>0.116833</td>\n      <td>...</td>\n      <td>0.397700</td>\n      <td>0.422672</td>\n      <td>0.435044</td>\n      <td>0.447422</td>\n      <td>0.459861</td>\n      <td>0.472333</td>\n      <td>0.486639</td>\n      <td>0.497972</td>\n      <td>0.499606</td>\n      <td>0.499606</td>\n    </tr>\n    <tr>\n      <th>2</th>\n      <td>Albania</td>\n      <td>0.583306</td>\n      <td>0.587711</td>\n      <td>0.557089</td>\n      <td>0.542106</td>\n      <td>0.541039</td>\n      <td>0.549956</td>\n      <td>0.556611</td>\n      <td>0.569239</td>\n      <td>0.578728</td>\n      <td>...</td>\n      <td>0.670844</td>\n      <td>0.713822</td>\n      <td>0.739361</td>\n      <td>0.748778</td>\n      <td>0.757833</td>\n      <td>0.752944</td>\n      <td>0.745417</td>\n      <td>0.746722</td>\n      <td>0.743389</td>\n      <td>0.746422</td>\n    </tr>\n    <tr>\n      <th>3</th>\n      <td>Andorra</td>\n      <td>0.299972</td>\n      <td>0.299972</td>\n      <td>0.299972</td>\n      <td>0.299972</td>\n      <td>0.299972</td>\n      <td>0.299972</td>\n      <td>0.299972</td>\n      <td>0.299972</td>\n      <td>0.299972</td>\n      <td>...</td>\n      <td>0.669689</td>\n      <td>0.670956</td>\n      <td>0.723633</td>\n      <td>0.714206</td>\n      <td>0.725361</td>\n      <td>0.718000</td>\n      <td>0.722444</td>\n      <td>0.713022</td>\n      <td>0.719511</td>\n      <td>0.719511</td>\n    </tr>\n    <tr>\n      <th>4</th>\n      <td>United Arab Emirates</td>\n      <td>0.473933</td>\n      <td>0.493361</td>\n      <td>0.498761</td>\n      <td>0.509417</td>\n      <td>0.528067</td>\n      <td>0.544272</td>\n      <td>0.545406</td>\n      <td>0.545122</td>\n      <td>0.548289</td>\n      <td>...</td>\n      <td>0.668544</td>\n      <td>0.677894</td>\n      <td>0.687244</td>\n      <td>0.696567</td>\n      <td>0.711083</td>\n      <td>0.734572</td>\n      <td>0.743072</td>\n      <td>0.782672</td>\n      <td>0.802144</td>\n      <td>0.802144</td>\n    </tr>\n  </tbody>\n</table>\n<p>5 rows × 31 columns</p>\n</div>"
     },
     "metadata": {},
     "execution_count": 25
    }
   ],
   "source": [
    "indices.head()"
   ]
  },
  {
   "cell_type": "code",
   "execution_count": null,
   "metadata": {},
   "outputs": [],
   "source": []
  }
 ]
}