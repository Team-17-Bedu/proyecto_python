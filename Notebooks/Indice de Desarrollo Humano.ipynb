{
 "metadata": {
  "language_info": {
   "codemirror_mode": {
    "name": "ipython",
    "version": 3
   },
   "file_extension": ".py",
   "mimetype": "text/x-python",
   "name": "python",
   "nbconvert_exporter": "python",
   "pygments_lexer": "ipython3",
   "version": "3.6.8-final"
  },
  "orig_nbformat": 2,
  "kernelspec": {
   "name": "python3",
   "display_name": "Python 3.6.8 64-bit",
   "metadata": {
    "interpreter": {
     "hash": "58bc13ec4dd135858b8220102d0ad3358f57eb64d131366ec25c4d4365eacf63"
    }
   }
  }
 },
 "nbformat": 4,
 "nbformat_minor": 2,
 "cells": [
  {
   "source": [
    "<!-- PROJECT LOGO -->\n",
    "<br/>\n",
    "<p align=\"center\">\n",
    "    <img src=\"https://raw.githubusercontent.com/Team-17-Bedu/proyecto_python/main/img/icono.png\" alt=\"Logo\" width=\"135\" height=\"135\">\n",
    "\n",
    "  <h3 align=\"center\"><strong>Países con mayor calidad de vida</strong></h3>\n",
    "\n",
    "  <p align=\"center\">\n",
    "    Proyecto final para el modulo \"Procesamiento de datos con Python\"\n",
    "  </p>\n",
    "</p>\n",
    "\n",
    "#### Acerca del proyecto:\n",
    "\n",
    "Este proyecto tiene como proposito realizar un analisis de la calidad de vida de ciertos paises, con el fin de determinar cuál de ellos podria ser la mejor opcion para vivir o buscar un empleo, todo esto, haciendo uso de herramientas estadísticas y computacionales, siendo el principal aliado, el lenguaje de programacion Python. \n",
    "\n",
    "\n",
    "En este caso se tendra como principal objetivo en calcular el IDH por medio de la documentación proporcionada del __*Human Development Report 2020*__, presente en el siguiente [enlace](http://hdr.undp.org/sites/default/files/hdr2020_technical_notes.pdf). Y con tales resultados justificar nuestro anterior proyecto elaborado en el lenguaje R, el proyecto esta presente en el siguiente [enlace](https://github.com/Team-17-Bedu/proyecto).\n",
    "\n",
    "Todos los indicadores serán obtenidos por medio de la API proporcionada por la [UNDP](http://ec2-54-174-131-205.compute-1.amazonaws.com/API/Login.php), de los cuales serán analizados \n",
    "* Años esperados de escolaridad \n",
    "* Ingreso nacional bruto (INB) per cápita\n",
    "* Esperanza de vida al nacer\n",
    "* Promedio de años de escolaridad\n",
    "\n",
    "<br/>\n",
    "<p align=\"center\">\n",
    "    <img src=\"https://raw.githubusercontent.com/Team-17-Bedu/proyecto_python/main/img/logo-undp.jpg\">\n",
    "</p>\n",
    "\n",
    "### Preparación:\n",
    "Para comenzar se importaron los modulos necesarios (dadas las limitaciones de github no es posible renderizar los widgets, para ello sera necesario visualuzar el notebook en Google Colab)\n"
   ],
   "cell_type": "markdown",
   "metadata": {}
  },
  {
   "cell_type": "code",
   "execution_count": 10,
   "metadata": {},
   "outputs": [],
   "source": [
    "import requests\n",
    "import pandas as pd\n",
    "import numpy as np\n",
    "import ipywidgets as widgets\n",
    "from IPython.display import display"
   ]
  },
  {
   "source": [
    "Debido a que el acceso a la API requiere un inicio de sesion, se recurrió al objeto `Session` del modulo `requests`  "
   ],
   "cell_type": "markdown",
   "metadata": {}
  },
  {
   "cell_type": "code",
   "execution_count": 11,
   "metadata": {},
   "outputs": [],
   "source": [
    "session = requests.Session()"
   ]
  },
  {
   "source": [
    "Mediante el modulo `widgets` se definieron dos text box para introducir los datos de autenticación, `user` y `password` respectivamente "
   ],
   "cell_type": "markdown",
   "metadata": {}
  },
  {
   "cell_type": "code",
   "execution_count": 12,
   "metadata": {},
   "outputs": [
    {
     "output_type": "display_data",
     "data": {
      "text/plain": "Text(value='')",
      "application/vnd.jupyter.widget-view+json": {
       "version_major": 2,
       "version_minor": 0,
       "model_id": "8b45de2bd36046ac91d93aa03dc43ca7"
      }
     },
     "metadata": {}
    },
    {
     "output_type": "display_data",
     "data": {
      "text/plain": "Text(value='')",
      "application/vnd.jupyter.widget-view+json": {
       "version_major": 2,
       "version_minor": 0,
       "model_id": "406c431539e6409ab39395fd5806b7bd"
      }
     },
     "metadata": {}
    }
   ],
   "source": [
    "user = widgets.Text()\n",
    "password = widgets.Text()\n",
    "display(user, password)"
   ]
  },
  {
   "source": [
    "Definición de la tupla que contendra los datos de acceso"
   ],
   "cell_type": "markdown",
   "metadata": {}
  },
  {
   "cell_type": "code",
   "execution_count": 13,
   "metadata": {},
   "outputs": [],
   "source": [
    "access = (user.value, password.value)"
   ]
  },
  {
   "source": [
    "Inicio de sesión en la API de la UNDP"
   ],
   "cell_type": "markdown",
   "metadata": {}
  },
  {
   "cell_type": "code",
   "execution_count": 14,
   "metadata": {},
   "outputs": [
    {
     "output_type": "execute_result",
     "data": {
      "text/plain": [
       "<Response [200]>"
      ]
     },
     "metadata": {},
     "execution_count": 14
    }
   ],
   "source": [
    "session.get(\"http://ec2-54-174-131-205.compute-1.amazonaws.com/API/Login.php\",\n",
    "            auth=access)"
   ]
  },
  {
   "source": [
    "Puesto que el `json` recibido como respuesta presenta una estructura un tanto caotica, fue necesario crear un algoritmo que se encargara de normalizar los datos, a modo de obtener un `DataFrame` homogeneo, para ello se definio la funcion `normalize_data`"
   ],
   "cell_type": "markdown",
   "metadata": {}
  },
  {
   "cell_type": "code",
   "execution_count": 15,
   "metadata": {},
   "outputs": [],
   "source": [
    "def normalize_data(data_dirt: dict, indicator_id: str) -> dict:\n",
    "    new_data = {\n",
    "        'Country': list(data_dirt['country_name'].values())\n",
    "    }\n",
    "    countries = list(data_dirt['country_name'].keys())\n",
    "    for year, year_data in data_dirt['indicator_value'].items():\n",
    "        values = []\n",
    "        last_key = ''\n",
    "        for key, val in year_data[indicator_id].items():\n",
    "            current_pos = countries.index(key)\n",
    "            last_pos = countries.index(last_key) if last_key != '' else 0\n",
    "            last_key = key\n",
    "            zeros = current_pos - last_pos\n",
    "            i = 1\n",
    "            while i < zeros and zeros != 0:\n",
    "                values.append(0)\n",
    "                i += 1\n",
    "            values.append(val)\n",
    "        new_data[year] = values\n",
    "    return  new_data"
   ]
  },
  {
   "source": [
    "Se declara la función `get_data` que construira la url mediante un `fstring` para la petición, esto es porque la url para la peticion tiene una sintaxis diferente, posteriormente se solicitarán los datos y se harán pasar por el normalizado definido con anterioridad"
   ],
   "cell_type": "markdown",
   "metadata": {}
  },
  {
   "cell_type": "code",
   "execution_count": 16,
   "metadata": {},
   "outputs": [],
   "source": [
    "def get_data(indicator: str) -> dict :\n",
    "    url = f'http://ec2-54-174-131-205.compute-1.amazonaws.com/API/HDRO_API.php/indicator_id={indicator}/structure=yic'\n",
    "    return normalize_data(session.get(url).json(), indicator)"
   ]
  },
  {
   "source": [
    "### Calculo del Indice de Educación\n",
    "#### Expectativa de años de escolaridad\n",
    "Obtencion de los registros del indicador correspondiente a la expectativa de años de escolaridad (`ID` = 69706)"
   ],
   "cell_type": "markdown",
   "metadata": {}
  },
  {
   "cell_type": "code",
   "execution_count": 17,
   "metadata": {},
   "outputs": [],
   "source": [
    "data = get_data('69706')"
   ]
  },
  {
   "source": [
    "Creación del `DataFrame` con los datos normalizados y visualización de `head` y `tail`"
   ],
   "cell_type": "markdown",
   "metadata": {}
  },
  {
   "cell_type": "code",
   "execution_count": 18,
   "metadata": {},
   "outputs": [
    {
     "output_type": "execute_result",
     "data": {
      "text/plain": [
       "                  Country    1990    1991    1992    1993    1994    1995  \\\n",
       "0             Afghanistan   2.593   2.919   3.246   3.573   3.899   4.226   \n",
       "1                  Angola   3.441   3.252   3.234   3.657   3.767   3.877   \n",
       "2                 Albania  11.603  11.764  10.664  10.127  10.091  10.166   \n",
       "3                 Andorra  10.799  10.799  10.799  10.799  10.799  10.799   \n",
       "4    United Arab Emirates  10.314  10.663  10.507  10.539  10.860  11.093   \n",
       "..                    ...     ...     ...     ...     ...     ...     ...   \n",
       "188                 Samoa  11.655  11.699  11.744  11.788  11.832  11.877   \n",
       "189                 Yemen   7.531   7.545   7.559   7.573   7.587   7.602   \n",
       "190          South Africa  11.371  11.946  12.315  12.684  12.752  13.038   \n",
       "191                Zambia   7.518   7.744   7.971   8.197   8.424   8.650   \n",
       "192              Zimbabwe   9.774  10.206   9.801   9.795   9.790   9.785   \n",
       "\n",
       "       1996    1997    1998  ...    2010    2011    2012    2013    2014  \\\n",
       "0     4.553   4.879   5.206  ...   9.532   9.478   9.973  10.172  10.262   \n",
       "1     3.987   4.096   4.206  ...   8.646   9.545   9.916  10.286  10.657   \n",
       "2    10.228  10.505  10.669  ...  13.000  13.748  14.587  14.926  15.252   \n",
       "3    10.799  10.799  10.799  ...  11.672  11.672  13.524  13.139  13.495   \n",
       "4    10.847  10.550  10.376  ...  12.208  12.361  12.514  12.666  13.005   \n",
       "..      ...     ...     ...  ...     ...     ...     ...     ...     ...   \n",
       "188  11.921  11.832  12.010  ...  12.859  12.508  12.380  12.458  12.535   \n",
       "189   7.616   7.630   7.594  ...   8.589   8.977   8.457   8.809   8.737   \n",
       "190  13.022  13.007  12.992  ...  12.808  12.793  12.872  13.147  13.406   \n",
       "191   8.876   9.103   9.329  ...  11.017  10.932  10.931  10.960  11.046   \n",
       "192   9.780   9.775   9.770  ...  10.137  10.224  10.311  10.199  10.271   \n",
       "\n",
       "       2015    2016    2017    2018    2019  \n",
       "0    10.235  10.262  10.139  10.139  10.176  \n",
       "1    11.028  11.399  11.777  11.777  11.777  \n",
       "2    15.076  14.805  14.816  14.696  14.696  \n",
       "3    13.140  13.300  13.046  13.300  13.300  \n",
       "4    13.667  13.643  13.643  14.344  14.344  \n",
       "..      ...     ...     ...     ...     ...  \n",
       "188  12.433  12.431  12.520  12.520  12.730  \n",
       "189   8.701   8.664   8.664   8.664   8.769  \n",
       "190  13.765  13.668  13.668  13.668  13.791  \n",
       "191  11.133  11.219  11.305  11.392  11.478  \n",
       "192  10.324  10.387  10.451  10.451  10.969  \n",
       "\n",
       "[193 rows x 31 columns]"
      ],
      "text/html": "<div>\n<style scoped>\n    .dataframe tbody tr th:only-of-type {\n        vertical-align: middle;\n    }\n\n    .dataframe tbody tr th {\n        vertical-align: top;\n    }\n\n    .dataframe thead th {\n        text-align: right;\n    }\n</style>\n<table border=\"1\" class=\"dataframe\">\n  <thead>\n    <tr style=\"text-align: right;\">\n      <th></th>\n      <th>Country</th>\n      <th>1990</th>\n      <th>1991</th>\n      <th>1992</th>\n      <th>1993</th>\n      <th>1994</th>\n      <th>1995</th>\n      <th>1996</th>\n      <th>1997</th>\n      <th>1998</th>\n      <th>...</th>\n      <th>2010</th>\n      <th>2011</th>\n      <th>2012</th>\n      <th>2013</th>\n      <th>2014</th>\n      <th>2015</th>\n      <th>2016</th>\n      <th>2017</th>\n      <th>2018</th>\n      <th>2019</th>\n    </tr>\n  </thead>\n  <tbody>\n    <tr>\n      <th>0</th>\n      <td>Afghanistan</td>\n      <td>2.593</td>\n      <td>2.919</td>\n      <td>3.246</td>\n      <td>3.573</td>\n      <td>3.899</td>\n      <td>4.226</td>\n      <td>4.553</td>\n      <td>4.879</td>\n      <td>5.206</td>\n      <td>...</td>\n      <td>9.532</td>\n      <td>9.478</td>\n      <td>9.973</td>\n      <td>10.172</td>\n      <td>10.262</td>\n      <td>10.235</td>\n      <td>10.262</td>\n      <td>10.139</td>\n      <td>10.139</td>\n      <td>10.176</td>\n    </tr>\n    <tr>\n      <th>1</th>\n      <td>Angola</td>\n      <td>3.441</td>\n      <td>3.252</td>\n      <td>3.234</td>\n      <td>3.657</td>\n      <td>3.767</td>\n      <td>3.877</td>\n      <td>3.987</td>\n      <td>4.096</td>\n      <td>4.206</td>\n      <td>...</td>\n      <td>8.646</td>\n      <td>9.545</td>\n      <td>9.916</td>\n      <td>10.286</td>\n      <td>10.657</td>\n      <td>11.028</td>\n      <td>11.399</td>\n      <td>11.777</td>\n      <td>11.777</td>\n      <td>11.777</td>\n    </tr>\n    <tr>\n      <th>2</th>\n      <td>Albania</td>\n      <td>11.603</td>\n      <td>11.764</td>\n      <td>10.664</td>\n      <td>10.127</td>\n      <td>10.091</td>\n      <td>10.166</td>\n      <td>10.228</td>\n      <td>10.505</td>\n      <td>10.669</td>\n      <td>...</td>\n      <td>13.000</td>\n      <td>13.748</td>\n      <td>14.587</td>\n      <td>14.926</td>\n      <td>15.252</td>\n      <td>15.076</td>\n      <td>14.805</td>\n      <td>14.816</td>\n      <td>14.696</td>\n      <td>14.696</td>\n    </tr>\n    <tr>\n      <th>3</th>\n      <td>Andorra</td>\n      <td>10.799</td>\n      <td>10.799</td>\n      <td>10.799</td>\n      <td>10.799</td>\n      <td>10.799</td>\n      <td>10.799</td>\n      <td>10.799</td>\n      <td>10.799</td>\n      <td>10.799</td>\n      <td>...</td>\n      <td>11.672</td>\n      <td>11.672</td>\n      <td>13.524</td>\n      <td>13.139</td>\n      <td>13.495</td>\n      <td>13.140</td>\n      <td>13.300</td>\n      <td>13.046</td>\n      <td>13.300</td>\n      <td>13.300</td>\n    </tr>\n    <tr>\n      <th>4</th>\n      <td>United Arab Emirates</td>\n      <td>10.314</td>\n      <td>10.663</td>\n      <td>10.507</td>\n      <td>10.539</td>\n      <td>10.860</td>\n      <td>11.093</td>\n      <td>10.847</td>\n      <td>10.550</td>\n      <td>10.376</td>\n      <td>...</td>\n      <td>12.208</td>\n      <td>12.361</td>\n      <td>12.514</td>\n      <td>12.666</td>\n      <td>13.005</td>\n      <td>13.667</td>\n      <td>13.643</td>\n      <td>13.643</td>\n      <td>14.344</td>\n      <td>14.344</td>\n    </tr>\n    <tr>\n      <th>...</th>\n      <td>...</td>\n      <td>...</td>\n      <td>...</td>\n      <td>...</td>\n      <td>...</td>\n      <td>...</td>\n      <td>...</td>\n      <td>...</td>\n      <td>...</td>\n      <td>...</td>\n      <td>...</td>\n      <td>...</td>\n      <td>...</td>\n      <td>...</td>\n      <td>...</td>\n      <td>...</td>\n      <td>...</td>\n      <td>...</td>\n      <td>...</td>\n      <td>...</td>\n      <td>...</td>\n    </tr>\n    <tr>\n      <th>188</th>\n      <td>Samoa</td>\n      <td>11.655</td>\n      <td>11.699</td>\n      <td>11.744</td>\n      <td>11.788</td>\n      <td>11.832</td>\n      <td>11.877</td>\n      <td>11.921</td>\n      <td>11.832</td>\n      <td>12.010</td>\n      <td>...</td>\n      <td>12.859</td>\n      <td>12.508</td>\n      <td>12.380</td>\n      <td>12.458</td>\n      <td>12.535</td>\n      <td>12.433</td>\n      <td>12.431</td>\n      <td>12.520</td>\n      <td>12.520</td>\n      <td>12.730</td>\n    </tr>\n    <tr>\n      <th>189</th>\n      <td>Yemen</td>\n      <td>7.531</td>\n      <td>7.545</td>\n      <td>7.559</td>\n      <td>7.573</td>\n      <td>7.587</td>\n      <td>7.602</td>\n      <td>7.616</td>\n      <td>7.630</td>\n      <td>7.594</td>\n      <td>...</td>\n      <td>8.589</td>\n      <td>8.977</td>\n      <td>8.457</td>\n      <td>8.809</td>\n      <td>8.737</td>\n      <td>8.701</td>\n      <td>8.664</td>\n      <td>8.664</td>\n      <td>8.664</td>\n      <td>8.769</td>\n    </tr>\n    <tr>\n      <th>190</th>\n      <td>South Africa</td>\n      <td>11.371</td>\n      <td>11.946</td>\n      <td>12.315</td>\n      <td>12.684</td>\n      <td>12.752</td>\n      <td>13.038</td>\n      <td>13.022</td>\n      <td>13.007</td>\n      <td>12.992</td>\n      <td>...</td>\n      <td>12.808</td>\n      <td>12.793</td>\n      <td>12.872</td>\n      <td>13.147</td>\n      <td>13.406</td>\n      <td>13.765</td>\n      <td>13.668</td>\n      <td>13.668</td>\n      <td>13.668</td>\n      <td>13.791</td>\n    </tr>\n    <tr>\n      <th>191</th>\n      <td>Zambia</td>\n      <td>7.518</td>\n      <td>7.744</td>\n      <td>7.971</td>\n      <td>8.197</td>\n      <td>8.424</td>\n      <td>8.650</td>\n      <td>8.876</td>\n      <td>9.103</td>\n      <td>9.329</td>\n      <td>...</td>\n      <td>11.017</td>\n      <td>10.932</td>\n      <td>10.931</td>\n      <td>10.960</td>\n      <td>11.046</td>\n      <td>11.133</td>\n      <td>11.219</td>\n      <td>11.305</td>\n      <td>11.392</td>\n      <td>11.478</td>\n    </tr>\n    <tr>\n      <th>192</th>\n      <td>Zimbabwe</td>\n      <td>9.774</td>\n      <td>10.206</td>\n      <td>9.801</td>\n      <td>9.795</td>\n      <td>9.790</td>\n      <td>9.785</td>\n      <td>9.780</td>\n      <td>9.775</td>\n      <td>9.770</td>\n      <td>...</td>\n      <td>10.137</td>\n      <td>10.224</td>\n      <td>10.311</td>\n      <td>10.199</td>\n      <td>10.271</td>\n      <td>10.324</td>\n      <td>10.387</td>\n      <td>10.451</td>\n      <td>10.451</td>\n      <td>10.969</td>\n    </tr>\n  </tbody>\n</table>\n<p>193 rows × 31 columns</p>\n</div>"
     },
     "metadata": {},
     "execution_count": 18
    }
   ],
   "source": [
    "expectativa = pd.DataFrame(data)\n",
    "expectativa"
   ]
  },
  {
   "source": [
    "* Dimensiones del `DataFrame`\n",
    "    * 193 filas\n",
    "    * 31 columnas"
   ],
   "cell_type": "markdown",
   "metadata": {}
  },
  {
   "cell_type": "code",
   "execution_count": 19,
   "metadata": {},
   "outputs": [
    {
     "output_type": "execute_result",
     "data": {
      "text/plain": [
       "(193, 31)"
      ]
     },
     "metadata": {},
     "execution_count": 19
    }
   ],
   "source": [
    "expectativa.shape"
   ]
  },
  {
   "source": [
    "* Nombre de las columnas"
   ],
   "cell_type": "markdown",
   "metadata": {}
  },
  {
   "cell_type": "code",
   "execution_count": 20,
   "metadata": {},
   "outputs": [
    {
     "output_type": "execute_result",
     "data": {
      "text/plain": [
       "Index(['Country', '1990', '1991', '1992', '1993', '1994', '1995', '1996',\n",
       "       '1997', '1998', '1999', '2000', '2001', '2002', '2003', '2004', '2005',\n",
       "       '2006', '2007', '2008', '2009', '2010', '2011', '2012', '2013', '2014',\n",
       "       '2015', '2016', '2017', '2018', '2019'],\n",
       "      dtype='object')"
      ]
     },
     "metadata": {},
     "execution_count": 20
    }
   ],
   "source": [
    "expectativa.columns"
   ]
  },
  {
   "source": [
    "#### Calculo del indice de expectativa de años de escolaridad por paises\n",
    "\n",
    "Se explica a continuación como se realizo el calculo del indice de expectativa de años de escolaaridad por pais.\n",
    "Primeramente se presenta lo que es la formula que se uso:\n",
    "\n",
    "$$\\Huge\\Huge\\frac{\\alpha - \\theta}{\\gamma - \\theta}$$\n",
    "\n",
    "Donde:\n",
    "\n",
    "* $\\alpha$ : Es la expectativa de años de escolaridad en el pais.\n",
    "* $\\theta$ : Es la expectativa minima de años de escolaridad. En el documento __*Human Development Report 2020*__ se especifican 0 años.\n",
    "* $\\gamma$ : Es la expectativa maxima de años de escolaridad. En el documento __*Human Development Report 2020*__ se especifican 18 años.\n",
    "\n",
    "\n",
    "Este calculo se realizo por cada pais en cada uno de los años."
   ],
   "cell_type": "markdown",
   "metadata": {}
  },
  {
   "cell_type": "code",
   "execution_count": 21,
   "metadata": {},
   "outputs": [],
   "source": [
    "for year in range(1990, 2020):\n",
    "    year = str(year)\n",
    "    indices = []\n",
    "    for cell in expectativa[year]:\n",
    "        try:\n",
    "            indices.append((float(cell) - 0) / (18 - 0))\n",
    "        except:\n",
    "            indices.append(0)\n",
    "    expectativa[f'Indice_Expect_Educacion_{year}'] = indices\n",
    "\n",
    "expectativa = expectativa.drop([str(i) for i in range(1990, 2020)],axis=1)"
   ]
  },
  {
   "cell_type": "code",
   "execution_count": 61,
   "metadata": {},
   "outputs": [
    {
     "output_type": "execute_result",
     "data": {
      "text/plain": [
       "                  Country  Indice_Expect_Educacion_1990  \\\n",
       "0             Afghanistan                      0.144056   \n",
       "1                  Angola                      0.191167   \n",
       "2                 Albania                      0.644611   \n",
       "3                 Andorra                      0.599944   \n",
       "4    United Arab Emirates                      0.573000   \n",
       "..                    ...                           ...   \n",
       "188                 Samoa                      0.647500   \n",
       "189                 Yemen                      0.418389   \n",
       "190          South Africa                      0.631722   \n",
       "191                Zambia                      0.417667   \n",
       "192              Zimbabwe                      0.543000   \n",
       "\n",
       "     Indice_Expect_Educacion_1991  Indice_Expect_Educacion_1992  \\\n",
       "0                        0.162167                      0.180333   \n",
       "1                        0.180667                      0.179667   \n",
       "2                        0.653556                      0.592444   \n",
       "3                        0.599944                      0.599944   \n",
       "4                        0.592389                      0.583722   \n",
       "..                            ...                           ...   \n",
       "188                      0.649944                      0.652444   \n",
       "189                      0.419167                      0.419944   \n",
       "190                      0.663667                      0.684167   \n",
       "191                      0.430222                      0.442833   \n",
       "192                      0.567000                      0.544500   \n",
       "\n",
       "     Indice_Expect_Educacion_1993  Indice_Expect_Educacion_1994  \\\n",
       "0                        0.198500                      0.216611   \n",
       "1                        0.203167                      0.209278   \n",
       "2                        0.562611                      0.560611   \n",
       "3                        0.599944                      0.599944   \n",
       "4                        0.585500                      0.603333   \n",
       "..                            ...                           ...   \n",
       "188                      0.654889                      0.657333   \n",
       "189                      0.420722                      0.421500   \n",
       "190                      0.704667                      0.708444   \n",
       "191                      0.455389                      0.468000   \n",
       "192                      0.544167                      0.543889   \n",
       "\n",
       "     Indice_Expect_Educacion_1995  Indice_Expect_Educacion_1996  \\\n",
       "0                        0.234778                      0.252944   \n",
       "1                        0.215389                      0.221500   \n",
       "2                        0.564778                      0.568222   \n",
       "3                        0.599944                      0.599944   \n",
       "4                        0.616278                      0.602611   \n",
       "..                            ...                           ...   \n",
       "188                      0.659833                      0.662278   \n",
       "189                      0.422333                      0.423111   \n",
       "190                      0.724333                      0.723444   \n",
       "191                      0.480556                      0.493111   \n",
       "192                      0.543611                      0.543333   \n",
       "\n",
       "     Indice_Expect_Educacion_1997  Indice_Expect_Educacion_1998  ...  \\\n",
       "0                        0.271056                      0.289222  ...   \n",
       "1                        0.227556                      0.233667  ...   \n",
       "2                        0.583611                      0.592722  ...   \n",
       "3                        0.599944                      0.599944  ...   \n",
       "4                        0.586111                      0.576444  ...   \n",
       "..                            ...                           ...  ...   \n",
       "188                      0.657333                      0.667222  ...   \n",
       "189                      0.423889                      0.421889  ...   \n",
       "190                      0.722611                      0.721778  ...   \n",
       "191                      0.505722                      0.518278  ...   \n",
       "192                      0.543056                      0.542778  ...   \n",
       "\n",
       "     Indice_Expect_Educacion_2010  Indice_Expect_Educacion_2011  \\\n",
       "0                        0.529556                      0.526556   \n",
       "1                        0.480333                      0.530278   \n",
       "2                        0.722222                      0.763778   \n",
       "3                        0.648444                      0.648444   \n",
       "4                        0.678222                      0.686722   \n",
       "..                            ...                           ...   \n",
       "188                      0.714389                      0.694889   \n",
       "189                      0.477167                      0.498722   \n",
       "190                      0.711556                      0.710722   \n",
       "191                      0.612056                      0.607333   \n",
       "192                      0.563167                      0.568000   \n",
       "\n",
       "     Indice_Expect_Educacion_2012  Indice_Expect_Educacion_2013  \\\n",
       "0                        0.554056                      0.565111   \n",
       "1                        0.550889                      0.571444   \n",
       "2                        0.810389                      0.829222   \n",
       "3                        0.751333                      0.729944   \n",
       "4                        0.695222                      0.703667   \n",
       "..                            ...                           ...   \n",
       "188                      0.687778                      0.692111   \n",
       "189                      0.469833                      0.489389   \n",
       "190                      0.715111                      0.730389   \n",
       "191                      0.607278                      0.608889   \n",
       "192                      0.572833                      0.566611   \n",
       "\n",
       "     Indice_Expect_Educacion_2014  Indice_Expect_Educacion_2015  \\\n",
       "0                        0.570111                      0.568611   \n",
       "1                        0.592056                      0.612667   \n",
       "2                        0.847333                      0.837556   \n",
       "3                        0.749722                      0.730000   \n",
       "4                        0.722500                      0.759278   \n",
       "..                            ...                           ...   \n",
       "188                      0.696389                      0.690722   \n",
       "189                      0.485389                      0.483389   \n",
       "190                      0.744778                      0.764722   \n",
       "191                      0.613667                      0.618500   \n",
       "192                      0.570611                      0.573556   \n",
       "\n",
       "     Indice_Expect_Educacion_2016  Indice_Expect_Educacion_2017  \\\n",
       "0                        0.570111                      0.563278   \n",
       "1                        0.633278                      0.654278   \n",
       "2                        0.822500                      0.823111   \n",
       "3                        0.738889                      0.724778   \n",
       "4                        0.757944                      0.757944   \n",
       "..                            ...                           ...   \n",
       "188                      0.690611                      0.695556   \n",
       "189                      0.481333                      0.481333   \n",
       "190                      0.759333                      0.759333   \n",
       "191                      0.623278                      0.628056   \n",
       "192                      0.577056                      0.580611   \n",
       "\n",
       "     Indice_Expect_Educacion_2018  Indice_Expect_Educacion_2019  \n",
       "0                        0.563278                      0.565333  \n",
       "1                        0.654278                      0.654278  \n",
       "2                        0.816444                      0.816444  \n",
       "3                        0.738889                      0.738889  \n",
       "4                        0.796889                      0.796889  \n",
       "..                            ...                           ...  \n",
       "188                      0.695556                      0.707222  \n",
       "189                      0.481333                      0.487167  \n",
       "190                      0.759333                      0.766167  \n",
       "191                      0.632889                      0.637667  \n",
       "192                      0.580611                      0.609389  \n",
       "\n",
       "[193 rows x 31 columns]"
      ],
      "text/html": "<div>\n<style scoped>\n    .dataframe tbody tr th:only-of-type {\n        vertical-align: middle;\n    }\n\n    .dataframe tbody tr th {\n        vertical-align: top;\n    }\n\n    .dataframe thead th {\n        text-align: right;\n    }\n</style>\n<table border=\"1\" class=\"dataframe\">\n  <thead>\n    <tr style=\"text-align: right;\">\n      <th></th>\n      <th>Country</th>\n      <th>Indice_Expect_Educacion_1990</th>\n      <th>Indice_Expect_Educacion_1991</th>\n      <th>Indice_Expect_Educacion_1992</th>\n      <th>Indice_Expect_Educacion_1993</th>\n      <th>Indice_Expect_Educacion_1994</th>\n      <th>Indice_Expect_Educacion_1995</th>\n      <th>Indice_Expect_Educacion_1996</th>\n      <th>Indice_Expect_Educacion_1997</th>\n      <th>Indice_Expect_Educacion_1998</th>\n      <th>...</th>\n      <th>Indice_Expect_Educacion_2010</th>\n      <th>Indice_Expect_Educacion_2011</th>\n      <th>Indice_Expect_Educacion_2012</th>\n      <th>Indice_Expect_Educacion_2013</th>\n      <th>Indice_Expect_Educacion_2014</th>\n      <th>Indice_Expect_Educacion_2015</th>\n      <th>Indice_Expect_Educacion_2016</th>\n      <th>Indice_Expect_Educacion_2017</th>\n      <th>Indice_Expect_Educacion_2018</th>\n      <th>Indice_Expect_Educacion_2019</th>\n    </tr>\n  </thead>\n  <tbody>\n    <tr>\n      <th>0</th>\n      <td>Afghanistan</td>\n      <td>0.144056</td>\n      <td>0.162167</td>\n      <td>0.180333</td>\n      <td>0.198500</td>\n      <td>0.216611</td>\n      <td>0.234778</td>\n      <td>0.252944</td>\n      <td>0.271056</td>\n      <td>0.289222</td>\n      <td>...</td>\n      <td>0.529556</td>\n      <td>0.526556</td>\n      <td>0.554056</td>\n      <td>0.565111</td>\n      <td>0.570111</td>\n      <td>0.568611</td>\n      <td>0.570111</td>\n      <td>0.563278</td>\n      <td>0.563278</td>\n      <td>0.565333</td>\n    </tr>\n    <tr>\n      <th>1</th>\n      <td>Angola</td>\n      <td>0.191167</td>\n      <td>0.180667</td>\n      <td>0.179667</td>\n      <td>0.203167</td>\n      <td>0.209278</td>\n      <td>0.215389</td>\n      <td>0.221500</td>\n      <td>0.227556</td>\n      <td>0.233667</td>\n      <td>...</td>\n      <td>0.480333</td>\n      <td>0.530278</td>\n      <td>0.550889</td>\n      <td>0.571444</td>\n      <td>0.592056</td>\n      <td>0.612667</td>\n      <td>0.633278</td>\n      <td>0.654278</td>\n      <td>0.654278</td>\n      <td>0.654278</td>\n    </tr>\n    <tr>\n      <th>2</th>\n      <td>Albania</td>\n      <td>0.644611</td>\n      <td>0.653556</td>\n      <td>0.592444</td>\n      <td>0.562611</td>\n      <td>0.560611</td>\n      <td>0.564778</td>\n      <td>0.568222</td>\n      <td>0.583611</td>\n      <td>0.592722</td>\n      <td>...</td>\n      <td>0.722222</td>\n      <td>0.763778</td>\n      <td>0.810389</td>\n      <td>0.829222</td>\n      <td>0.847333</td>\n      <td>0.837556</td>\n      <td>0.822500</td>\n      <td>0.823111</td>\n      <td>0.816444</td>\n      <td>0.816444</td>\n    </tr>\n    <tr>\n      <th>3</th>\n      <td>Andorra</td>\n      <td>0.599944</td>\n      <td>0.599944</td>\n      <td>0.599944</td>\n      <td>0.599944</td>\n      <td>0.599944</td>\n      <td>0.599944</td>\n      <td>0.599944</td>\n      <td>0.599944</td>\n      <td>0.599944</td>\n      <td>...</td>\n      <td>0.648444</td>\n      <td>0.648444</td>\n      <td>0.751333</td>\n      <td>0.729944</td>\n      <td>0.749722</td>\n      <td>0.730000</td>\n      <td>0.738889</td>\n      <td>0.724778</td>\n      <td>0.738889</td>\n      <td>0.738889</td>\n    </tr>\n    <tr>\n      <th>4</th>\n      <td>United Arab Emirates</td>\n      <td>0.573000</td>\n      <td>0.592389</td>\n      <td>0.583722</td>\n      <td>0.585500</td>\n      <td>0.603333</td>\n      <td>0.616278</td>\n      <td>0.602611</td>\n      <td>0.586111</td>\n      <td>0.576444</td>\n      <td>...</td>\n      <td>0.678222</td>\n      <td>0.686722</td>\n      <td>0.695222</td>\n      <td>0.703667</td>\n      <td>0.722500</td>\n      <td>0.759278</td>\n      <td>0.757944</td>\n      <td>0.757944</td>\n      <td>0.796889</td>\n      <td>0.796889</td>\n    </tr>\n    <tr>\n      <th>...</th>\n      <td>...</td>\n      <td>...</td>\n      <td>...</td>\n      <td>...</td>\n      <td>...</td>\n      <td>...</td>\n      <td>...</td>\n      <td>...</td>\n      <td>...</td>\n      <td>...</td>\n      <td>...</td>\n      <td>...</td>\n      <td>...</td>\n      <td>...</td>\n      <td>...</td>\n      <td>...</td>\n      <td>...</td>\n      <td>...</td>\n      <td>...</td>\n      <td>...</td>\n      <td>...</td>\n    </tr>\n    <tr>\n      <th>188</th>\n      <td>Samoa</td>\n      <td>0.647500</td>\n      <td>0.649944</td>\n      <td>0.652444</td>\n      <td>0.654889</td>\n      <td>0.657333</td>\n      <td>0.659833</td>\n      <td>0.662278</td>\n      <td>0.657333</td>\n      <td>0.667222</td>\n      <td>...</td>\n      <td>0.714389</td>\n      <td>0.694889</td>\n      <td>0.687778</td>\n      <td>0.692111</td>\n      <td>0.696389</td>\n      <td>0.690722</td>\n      <td>0.690611</td>\n      <td>0.695556</td>\n      <td>0.695556</td>\n      <td>0.707222</td>\n    </tr>\n    <tr>\n      <th>189</th>\n      <td>Yemen</td>\n      <td>0.418389</td>\n      <td>0.419167</td>\n      <td>0.419944</td>\n      <td>0.420722</td>\n      <td>0.421500</td>\n      <td>0.422333</td>\n      <td>0.423111</td>\n      <td>0.423889</td>\n      <td>0.421889</td>\n      <td>...</td>\n      <td>0.477167</td>\n      <td>0.498722</td>\n      <td>0.469833</td>\n      <td>0.489389</td>\n      <td>0.485389</td>\n      <td>0.483389</td>\n      <td>0.481333</td>\n      <td>0.481333</td>\n      <td>0.481333</td>\n      <td>0.487167</td>\n    </tr>\n    <tr>\n      <th>190</th>\n      <td>South Africa</td>\n      <td>0.631722</td>\n      <td>0.663667</td>\n      <td>0.684167</td>\n      <td>0.704667</td>\n      <td>0.708444</td>\n      <td>0.724333</td>\n      <td>0.723444</td>\n      <td>0.722611</td>\n      <td>0.721778</td>\n      <td>...</td>\n      <td>0.711556</td>\n      <td>0.710722</td>\n      <td>0.715111</td>\n      <td>0.730389</td>\n      <td>0.744778</td>\n      <td>0.764722</td>\n      <td>0.759333</td>\n      <td>0.759333</td>\n      <td>0.759333</td>\n      <td>0.766167</td>\n    </tr>\n    <tr>\n      <th>191</th>\n      <td>Zambia</td>\n      <td>0.417667</td>\n      <td>0.430222</td>\n      <td>0.442833</td>\n      <td>0.455389</td>\n      <td>0.468000</td>\n      <td>0.480556</td>\n      <td>0.493111</td>\n      <td>0.505722</td>\n      <td>0.518278</td>\n      <td>...</td>\n      <td>0.612056</td>\n      <td>0.607333</td>\n      <td>0.607278</td>\n      <td>0.608889</td>\n      <td>0.613667</td>\n      <td>0.618500</td>\n      <td>0.623278</td>\n      <td>0.628056</td>\n      <td>0.632889</td>\n      <td>0.637667</td>\n    </tr>\n    <tr>\n      <th>192</th>\n      <td>Zimbabwe</td>\n      <td>0.543000</td>\n      <td>0.567000</td>\n      <td>0.544500</td>\n      <td>0.544167</td>\n      <td>0.543889</td>\n      <td>0.543611</td>\n      <td>0.543333</td>\n      <td>0.543056</td>\n      <td>0.542778</td>\n      <td>...</td>\n      <td>0.563167</td>\n      <td>0.568000</td>\n      <td>0.572833</td>\n      <td>0.566611</td>\n      <td>0.570611</td>\n      <td>0.573556</td>\n      <td>0.577056</td>\n      <td>0.580611</td>\n      <td>0.580611</td>\n      <td>0.609389</td>\n    </tr>\n  </tbody>\n</table>\n<p>193 rows × 31 columns</p>\n</div>"
     },
     "metadata": {},
     "execution_count": 61
    }
   ],
   "source": [
    "expectativa"
   ]
  },
  {
   "source": [
    "#### Expectativa de años de escolaridad\n",
    "Obtencion de los registros del indicador correspondiente al promedio de años de escolaridad (`ID` = 103006)"
   ],
   "cell_type": "markdown",
   "metadata": {}
  },
  {
   "cell_type": "code",
   "execution_count": 23,
   "metadata": {},
   "outputs": [],
   "source": [
    "data = get_data('103006')"
   ]
  },
  {
   "source": [
    "Creación del `DataFrame` con los datos normalizados y visualización de `head` y `tail`"
   ],
   "cell_type": "markdown",
   "metadata": {}
  },
  {
   "cell_type": "code",
   "execution_count": 24,
   "metadata": {},
   "outputs": [
    {
     "output_type": "execute_result",
     "data": {
      "text/plain": [
       "                  Country   1990   1991   1992   1993   1994   1995   1996  \\\n",
       "0             Afghanistan  1.490  1.564  1.638  1.712  1.786  1.860  1.920   \n",
       "1                  Angola  0.000  0.000  0.000  0.000  0.000  0.000  0.000   \n",
       "2                 Albania  7.830  7.828  7.826  7.824  7.822  8.027  8.175   \n",
       "3                 Andorra  0.000  0.000  0.000  0.000  0.000  0.000  0.000   \n",
       "4    United Arab Emirates  5.623  5.915  6.207  6.500  6.792  7.084  7.323   \n",
       "..                    ...    ...    ...    ...    ...    ...    ...    ...   \n",
       "185                 Samoa  7.602  7.724  7.845  7.966  8.088  8.209  8.331   \n",
       "186                 Yemen  0.290  0.362  0.434  0.506  0.578  0.650  0.760   \n",
       "187          South Africa  6.490  6.600  7.177  7.523  7.869  8.215  8.327   \n",
       "188                Zambia  4.680  4.952  5.224  5.496  5.768  6.040  6.008   \n",
       "189              Zimbabwe  4.530  4.732  4.934  5.136  5.338  5.540  5.729   \n",
       "\n",
       "      1997   1998  ...    2010    2011    2012    2013    2014    2015  \\\n",
       "0    1.980  2.040  ...   3.230   3.310   3.390   3.470   3.550   3.630   \n",
       "1    0.000  0.000  ...   4.726   4.726   4.788   4.851   4.915   4.980   \n",
       "2    8.323  8.471  ...   9.292   9.958  10.025  10.025  10.025  10.025   \n",
       "3    0.000  0.000  ...  10.364  10.402  10.439  10.477  10.515  10.590   \n",
       "4    7.562  7.802  ...   9.883  10.036  10.189  10.342  10.495  10.648   \n",
       "..     ...    ...  ...     ...     ...     ...     ...     ...     ...   \n",
       "185  8.452  8.573  ...  10.030  10.490  10.511  10.532  10.553  10.574   \n",
       "186  0.870  0.980  ...   2.600   2.800   3.000   3.000   3.000   3.000   \n",
       "187  8.438  8.549  ...  10.215   9.574   9.821   9.905   9.989  10.134   \n",
       "188  5.976  5.944  ...   6.600   6.674   6.748   6.822   6.769   6.864   \n",
       "189  5.919  6.108  ...   7.250   7.250   7.865   8.007   8.150   8.201   \n",
       "\n",
       "       2016    2017    2018    2019  \n",
       "0     3.630   3.780   3.930   3.930  \n",
       "1     5.100   5.125   5.174   5.174  \n",
       "2    10.025  10.055  10.055  10.146  \n",
       "3    10.590  10.519  10.502  10.502  \n",
       "4    10.923  12.111  12.111  12.111  \n",
       "..      ...     ...     ...     ...  \n",
       "185  10.595  10.595  10.595  10.779  \n",
       "186   3.000   3.000   3.200   3.200  \n",
       "187  10.155  10.155  10.241  10.241  \n",
       "188   6.960   7.056   7.104   7.152  \n",
       "189   8.292   8.342   8.378   8.467  \n",
       "\n",
       "[190 rows x 31 columns]"
      ],
      "text/html": "<div>\n<style scoped>\n    .dataframe tbody tr th:only-of-type {\n        vertical-align: middle;\n    }\n\n    .dataframe tbody tr th {\n        vertical-align: top;\n    }\n\n    .dataframe thead th {\n        text-align: right;\n    }\n</style>\n<table border=\"1\" class=\"dataframe\">\n  <thead>\n    <tr style=\"text-align: right;\">\n      <th></th>\n      <th>Country</th>\n      <th>1990</th>\n      <th>1991</th>\n      <th>1992</th>\n      <th>1993</th>\n      <th>1994</th>\n      <th>1995</th>\n      <th>1996</th>\n      <th>1997</th>\n      <th>1998</th>\n      <th>...</th>\n      <th>2010</th>\n      <th>2011</th>\n      <th>2012</th>\n      <th>2013</th>\n      <th>2014</th>\n      <th>2015</th>\n      <th>2016</th>\n      <th>2017</th>\n      <th>2018</th>\n      <th>2019</th>\n    </tr>\n  </thead>\n  <tbody>\n    <tr>\n      <th>0</th>\n      <td>Afghanistan</td>\n      <td>1.490</td>\n      <td>1.564</td>\n      <td>1.638</td>\n      <td>1.712</td>\n      <td>1.786</td>\n      <td>1.860</td>\n      <td>1.920</td>\n      <td>1.980</td>\n      <td>2.040</td>\n      <td>...</td>\n      <td>3.230</td>\n      <td>3.310</td>\n      <td>3.390</td>\n      <td>3.470</td>\n      <td>3.550</td>\n      <td>3.630</td>\n      <td>3.630</td>\n      <td>3.780</td>\n      <td>3.930</td>\n      <td>3.930</td>\n    </tr>\n    <tr>\n      <th>1</th>\n      <td>Angola</td>\n      <td>0.000</td>\n      <td>0.000</td>\n      <td>0.000</td>\n      <td>0.000</td>\n      <td>0.000</td>\n      <td>0.000</td>\n      <td>0.000</td>\n      <td>0.000</td>\n      <td>0.000</td>\n      <td>...</td>\n      <td>4.726</td>\n      <td>4.726</td>\n      <td>4.788</td>\n      <td>4.851</td>\n      <td>4.915</td>\n      <td>4.980</td>\n      <td>5.100</td>\n      <td>5.125</td>\n      <td>5.174</td>\n      <td>5.174</td>\n    </tr>\n    <tr>\n      <th>2</th>\n      <td>Albania</td>\n      <td>7.830</td>\n      <td>7.828</td>\n      <td>7.826</td>\n      <td>7.824</td>\n      <td>7.822</td>\n      <td>8.027</td>\n      <td>8.175</td>\n      <td>8.323</td>\n      <td>8.471</td>\n      <td>...</td>\n      <td>9.292</td>\n      <td>9.958</td>\n      <td>10.025</td>\n      <td>10.025</td>\n      <td>10.025</td>\n      <td>10.025</td>\n      <td>10.025</td>\n      <td>10.055</td>\n      <td>10.055</td>\n      <td>10.146</td>\n    </tr>\n    <tr>\n      <th>3</th>\n      <td>Andorra</td>\n      <td>0.000</td>\n      <td>0.000</td>\n      <td>0.000</td>\n      <td>0.000</td>\n      <td>0.000</td>\n      <td>0.000</td>\n      <td>0.000</td>\n      <td>0.000</td>\n      <td>0.000</td>\n      <td>...</td>\n      <td>10.364</td>\n      <td>10.402</td>\n      <td>10.439</td>\n      <td>10.477</td>\n      <td>10.515</td>\n      <td>10.590</td>\n      <td>10.590</td>\n      <td>10.519</td>\n      <td>10.502</td>\n      <td>10.502</td>\n    </tr>\n    <tr>\n      <th>4</th>\n      <td>United Arab Emirates</td>\n      <td>5.623</td>\n      <td>5.915</td>\n      <td>6.207</td>\n      <td>6.500</td>\n      <td>6.792</td>\n      <td>7.084</td>\n      <td>7.323</td>\n      <td>7.562</td>\n      <td>7.802</td>\n      <td>...</td>\n      <td>9.883</td>\n      <td>10.036</td>\n      <td>10.189</td>\n      <td>10.342</td>\n      <td>10.495</td>\n      <td>10.648</td>\n      <td>10.923</td>\n      <td>12.111</td>\n      <td>12.111</td>\n      <td>12.111</td>\n    </tr>\n    <tr>\n      <th>...</th>\n      <td>...</td>\n      <td>...</td>\n      <td>...</td>\n      <td>...</td>\n      <td>...</td>\n      <td>...</td>\n      <td>...</td>\n      <td>...</td>\n      <td>...</td>\n      <td>...</td>\n      <td>...</td>\n      <td>...</td>\n      <td>...</td>\n      <td>...</td>\n      <td>...</td>\n      <td>...</td>\n      <td>...</td>\n      <td>...</td>\n      <td>...</td>\n      <td>...</td>\n      <td>...</td>\n    </tr>\n    <tr>\n      <th>185</th>\n      <td>Samoa</td>\n      <td>7.602</td>\n      <td>7.724</td>\n      <td>7.845</td>\n      <td>7.966</td>\n      <td>8.088</td>\n      <td>8.209</td>\n      <td>8.331</td>\n      <td>8.452</td>\n      <td>8.573</td>\n      <td>...</td>\n      <td>10.030</td>\n      <td>10.490</td>\n      <td>10.511</td>\n      <td>10.532</td>\n      <td>10.553</td>\n      <td>10.574</td>\n      <td>10.595</td>\n      <td>10.595</td>\n      <td>10.595</td>\n      <td>10.779</td>\n    </tr>\n    <tr>\n      <th>186</th>\n      <td>Yemen</td>\n      <td>0.290</td>\n      <td>0.362</td>\n      <td>0.434</td>\n      <td>0.506</td>\n      <td>0.578</td>\n      <td>0.650</td>\n      <td>0.760</td>\n      <td>0.870</td>\n      <td>0.980</td>\n      <td>...</td>\n      <td>2.600</td>\n      <td>2.800</td>\n      <td>3.000</td>\n      <td>3.000</td>\n      <td>3.000</td>\n      <td>3.000</td>\n      <td>3.000</td>\n      <td>3.000</td>\n      <td>3.200</td>\n      <td>3.200</td>\n    </tr>\n    <tr>\n      <th>187</th>\n      <td>South Africa</td>\n      <td>6.490</td>\n      <td>6.600</td>\n      <td>7.177</td>\n      <td>7.523</td>\n      <td>7.869</td>\n      <td>8.215</td>\n      <td>8.327</td>\n      <td>8.438</td>\n      <td>8.549</td>\n      <td>...</td>\n      <td>10.215</td>\n      <td>9.574</td>\n      <td>9.821</td>\n      <td>9.905</td>\n      <td>9.989</td>\n      <td>10.134</td>\n      <td>10.155</td>\n      <td>10.155</td>\n      <td>10.241</td>\n      <td>10.241</td>\n    </tr>\n    <tr>\n      <th>188</th>\n      <td>Zambia</td>\n      <td>4.680</td>\n      <td>4.952</td>\n      <td>5.224</td>\n      <td>5.496</td>\n      <td>5.768</td>\n      <td>6.040</td>\n      <td>6.008</td>\n      <td>5.976</td>\n      <td>5.944</td>\n      <td>...</td>\n      <td>6.600</td>\n      <td>6.674</td>\n      <td>6.748</td>\n      <td>6.822</td>\n      <td>6.769</td>\n      <td>6.864</td>\n      <td>6.960</td>\n      <td>7.056</td>\n      <td>7.104</td>\n      <td>7.152</td>\n    </tr>\n    <tr>\n      <th>189</th>\n      <td>Zimbabwe</td>\n      <td>4.530</td>\n      <td>4.732</td>\n      <td>4.934</td>\n      <td>5.136</td>\n      <td>5.338</td>\n      <td>5.540</td>\n      <td>5.729</td>\n      <td>5.919</td>\n      <td>6.108</td>\n      <td>...</td>\n      <td>7.250</td>\n      <td>7.250</td>\n      <td>7.865</td>\n      <td>8.007</td>\n      <td>8.150</td>\n      <td>8.201</td>\n      <td>8.292</td>\n      <td>8.342</td>\n      <td>8.378</td>\n      <td>8.467</td>\n    </tr>\n  </tbody>\n</table>\n<p>190 rows × 31 columns</p>\n</div>"
     },
     "metadata": {},
     "execution_count": 24
    }
   ],
   "source": [
    "promedio = pd.DataFrame(data)\n",
    "promedio"
   ]
  },
  {
   "source": [
    "* Dimensiones del `DataFrame`\n",
    "    * 190 filas\n",
    "    * 31 columnas"
   ],
   "cell_type": "markdown",
   "metadata": {}
  },
  {
   "cell_type": "code",
   "execution_count": 25,
   "metadata": {},
   "outputs": [
    {
     "output_type": "execute_result",
     "data": {
      "text/plain": [
       "(190, 31)"
      ]
     },
     "metadata": {},
     "execution_count": 25
    }
   ],
   "source": [
    "promedio.shape"
   ]
  },
  {
   "source": [
    "* Nombre de las columnas"
   ],
   "cell_type": "markdown",
   "metadata": {}
  },
  {
   "cell_type": "code",
   "execution_count": 26,
   "metadata": {},
   "outputs": [
    {
     "output_type": "execute_result",
     "data": {
      "text/plain": [
       "Index(['Country', '1990', '1991', '1992', '1993', '1994', '1995', '1996',\n",
       "       '1997', '1998', '1999', '2000', '2001', '2002', '2003', '2004', '2005',\n",
       "       '2006', '2007', '2008', '2009', '2010', '2011', '2012', '2013', '2014',\n",
       "       '2015', '2016', '2017', '2018', '2019'],\n",
       "      dtype='object')"
      ]
     },
     "metadata": {},
     "execution_count": 26
    }
   ],
   "source": [
    "promedio.columns"
   ]
  },
  {
   "source": [
    "#### Calculo del indice de promedio de años de escolaridad por país\n",
    "\n",
    "Se explica a continuación como se realizo el calculo del indice de promedio de años de escolaridad por pais.\n",
    "Primeramente se presenta lo que es la formula que se uso:\n",
    "\n",
    "$$\\Huge\\Huge\\frac{\\alpha - \\theta}{\\gamma - \\theta}$$\n",
    "\n",
    "Donde:\n",
    "\n",
    "* $\\alpha$ : Es el promedio de años de escolaridad en el pais.\n",
    "* $\\theta$ : Es el promedio minimo de años de escolaridad. En el documento __*Human Development Report 2020*__ se especifican 0 años.\n",
    "* $\\gamma$ : Es el promedio maximo de años de escolaridad. En el documento __*Human Development Report 2020*__ se especifican 15 años.\n",
    "\n",
    "\n",
    "Este calculo se realizo por cada pais en cada uno de los años. "
   ],
   "cell_type": "markdown",
   "metadata": {}
  },
  {
   "cell_type": "code",
   "execution_count": 27,
   "metadata": {},
   "outputs": [],
   "source": [
    "for year in range(1990, 2020):\n",
    "    year = str(year)\n",
    "    indices = []\n",
    "    for cell in promedio[year]:\n",
    "        try:\n",
    "            indices.append((float(cell) - 0) / (15 - 0))\n",
    "        except:\n",
    "            indices.append(0)\n",
    "    promedio[f'Indice_Promedio_Edu_{year}'] = indices\n",
    "\n",
    "promedio = promedio.drop([str(i) for i in range(1990, 2020)], axis=1)"
   ]
  },
  {
   "source": [
    "Resultado del calculo del indice del promedio de años de escolaridad por cada país en cada uno de sus periodos."
   ],
   "cell_type": "markdown",
   "metadata": {}
  },
  {
   "cell_type": "code",
   "execution_count": 60,
   "metadata": {},
   "outputs": [
    {
     "output_type": "execute_result",
     "data": {
      "text/plain": [
       "                  Country  Indice_Promedio_Edu_1990  Indice_Promedio_Edu_1991  \\\n",
       "0             Afghanistan                  0.099333                  0.104267   \n",
       "1                  Angola                  0.000000                  0.000000   \n",
       "2                 Albania                  0.522000                  0.521867   \n",
       "3                 Andorra                  0.000000                  0.000000   \n",
       "4    United Arab Emirates                  0.374867                  0.394333   \n",
       "..                    ...                       ...                       ...   \n",
       "185                 Samoa                  0.506800                  0.514933   \n",
       "186                 Yemen                  0.019333                  0.024133   \n",
       "187          South Africa                  0.432667                  0.440000   \n",
       "188                Zambia                  0.312000                  0.330133   \n",
       "189              Zimbabwe                  0.302000                  0.315467   \n",
       "\n",
       "     Indice_Promedio_Edu_1992  Indice_Promedio_Edu_1993  \\\n",
       "0                    0.109200                  0.114133   \n",
       "1                    0.000000                  0.000000   \n",
       "2                    0.521733                  0.521600   \n",
       "3                    0.000000                  0.000000   \n",
       "4                    0.413800                  0.433333   \n",
       "..                        ...                       ...   \n",
       "185                  0.523000                  0.531067   \n",
       "186                  0.028933                  0.033733   \n",
       "187                  0.478467                  0.501533   \n",
       "188                  0.348267                  0.366400   \n",
       "189                  0.328933                  0.342400   \n",
       "\n",
       "     Indice_Promedio_Edu_1994  Indice_Promedio_Edu_1995  \\\n",
       "0                    0.119067                  0.124000   \n",
       "1                    0.000000                  0.000000   \n",
       "2                    0.521467                  0.535133   \n",
       "3                    0.000000                  0.000000   \n",
       "4                    0.452800                  0.472267   \n",
       "..                        ...                       ...   \n",
       "185                  0.539200                  0.547267   \n",
       "186                  0.038533                  0.043333   \n",
       "187                  0.524600                  0.547667   \n",
       "188                  0.384533                  0.402667   \n",
       "189                  0.355867                  0.369333   \n",
       "\n",
       "     Indice_Promedio_Edu_1996  Indice_Promedio_Edu_1997  \\\n",
       "0                    0.128000                  0.132000   \n",
       "1                    0.000000                  0.000000   \n",
       "2                    0.545000                  0.554867   \n",
       "3                    0.000000                  0.000000   \n",
       "4                    0.488200                  0.504133   \n",
       "..                        ...                       ...   \n",
       "185                  0.555400                  0.563467   \n",
       "186                  0.050667                  0.058000   \n",
       "187                  0.555133                  0.562533   \n",
       "188                  0.400533                  0.398400   \n",
       "189                  0.381933                  0.394600   \n",
       "\n",
       "     Indice_Promedio_Edu_1998  ...  Indice_Promedio_Edu_2010  \\\n",
       "0                    0.136000  ...                  0.215333   \n",
       "1                    0.000000  ...                  0.315067   \n",
       "2                    0.564733  ...                  0.619467   \n",
       "3                    0.000000  ...                  0.690933   \n",
       "4                    0.520133  ...                  0.658867   \n",
       "..                        ...  ...                       ...   \n",
       "185                  0.571533  ...                  0.668667   \n",
       "186                  0.065333  ...                  0.173333   \n",
       "187                  0.569933  ...                  0.681000   \n",
       "188                  0.396267  ...                  0.440000   \n",
       "189                  0.407200  ...                  0.483333   \n",
       "\n",
       "     Indice_Promedio_Edu_2011  Indice_Promedio_Edu_2012  \\\n",
       "0                    0.220667                  0.226000   \n",
       "1                    0.315067                  0.319200   \n",
       "2                    0.663867                  0.668333   \n",
       "3                    0.693467                  0.695933   \n",
       "4                    0.669067                  0.679267   \n",
       "..                        ...                       ...   \n",
       "185                  0.699333                  0.700733   \n",
       "186                  0.186667                  0.200000   \n",
       "187                  0.638267                  0.654733   \n",
       "188                  0.444933                  0.449867   \n",
       "189                  0.483333                  0.524333   \n",
       "\n",
       "     Indice_Promedio_Edu_2013  Indice_Promedio_Edu_2014  \\\n",
       "0                    0.231333                  0.236667   \n",
       "1                    0.323400                  0.327667   \n",
       "2                    0.668333                  0.668333   \n",
       "3                    0.698467                  0.701000   \n",
       "4                    0.689467                  0.699667   \n",
       "..                        ...                       ...   \n",
       "185                  0.702133                  0.703533   \n",
       "186                  0.200000                  0.200000   \n",
       "187                  0.660333                  0.665933   \n",
       "188                  0.454800                  0.451267   \n",
       "189                  0.533800                  0.543333   \n",
       "\n",
       "     Indice_Promedio_Edu_2015  Indice_Promedio_Edu_2016  \\\n",
       "0                    0.242000                  0.242000   \n",
       "1                    0.332000                  0.340000   \n",
       "2                    0.668333                  0.668333   \n",
       "3                    0.706000                  0.706000   \n",
       "4                    0.709867                  0.728200   \n",
       "..                        ...                       ...   \n",
       "185                  0.704933                  0.706333   \n",
       "186                  0.200000                  0.200000   \n",
       "187                  0.675600                  0.677000   \n",
       "188                  0.457600                  0.464000   \n",
       "189                  0.546733                  0.552800   \n",
       "\n",
       "     Indice_Promedio_Edu_2017  Indice_Promedio_Edu_2018  \\\n",
       "0                    0.252000                  0.262000   \n",
       "1                    0.341667                  0.344933   \n",
       "2                    0.670333                  0.670333   \n",
       "3                    0.701267                  0.700133   \n",
       "4                    0.807400                  0.807400   \n",
       "..                        ...                       ...   \n",
       "185                  0.706333                  0.706333   \n",
       "186                  0.200000                  0.213333   \n",
       "187                  0.677000                  0.682733   \n",
       "188                  0.470400                  0.473600   \n",
       "189                  0.556133                  0.558533   \n",
       "\n",
       "     Indice_Promedio_Edu_2019  \n",
       "0                    0.262000  \n",
       "1                    0.344933  \n",
       "2                    0.676400  \n",
       "3                    0.700133  \n",
       "4                    0.807400  \n",
       "..                        ...  \n",
       "185                  0.718600  \n",
       "186                  0.213333  \n",
       "187                  0.682733  \n",
       "188                  0.476800  \n",
       "189                  0.564467  \n",
       "\n",
       "[190 rows x 31 columns]"
      ],
      "text/html": "<div>\n<style scoped>\n    .dataframe tbody tr th:only-of-type {\n        vertical-align: middle;\n    }\n\n    .dataframe tbody tr th {\n        vertical-align: top;\n    }\n\n    .dataframe thead th {\n        text-align: right;\n    }\n</style>\n<table border=\"1\" class=\"dataframe\">\n  <thead>\n    <tr style=\"text-align: right;\">\n      <th></th>\n      <th>Country</th>\n      <th>Indice_Promedio_Edu_1990</th>\n      <th>Indice_Promedio_Edu_1991</th>\n      <th>Indice_Promedio_Edu_1992</th>\n      <th>Indice_Promedio_Edu_1993</th>\n      <th>Indice_Promedio_Edu_1994</th>\n      <th>Indice_Promedio_Edu_1995</th>\n      <th>Indice_Promedio_Edu_1996</th>\n      <th>Indice_Promedio_Edu_1997</th>\n      <th>Indice_Promedio_Edu_1998</th>\n      <th>...</th>\n      <th>Indice_Promedio_Edu_2010</th>\n      <th>Indice_Promedio_Edu_2011</th>\n      <th>Indice_Promedio_Edu_2012</th>\n      <th>Indice_Promedio_Edu_2013</th>\n      <th>Indice_Promedio_Edu_2014</th>\n      <th>Indice_Promedio_Edu_2015</th>\n      <th>Indice_Promedio_Edu_2016</th>\n      <th>Indice_Promedio_Edu_2017</th>\n      <th>Indice_Promedio_Edu_2018</th>\n      <th>Indice_Promedio_Edu_2019</th>\n    </tr>\n  </thead>\n  <tbody>\n    <tr>\n      <th>0</th>\n      <td>Afghanistan</td>\n      <td>0.099333</td>\n      <td>0.104267</td>\n      <td>0.109200</td>\n      <td>0.114133</td>\n      <td>0.119067</td>\n      <td>0.124000</td>\n      <td>0.128000</td>\n      <td>0.132000</td>\n      <td>0.136000</td>\n      <td>...</td>\n      <td>0.215333</td>\n      <td>0.220667</td>\n      <td>0.226000</td>\n      <td>0.231333</td>\n      <td>0.236667</td>\n      <td>0.242000</td>\n      <td>0.242000</td>\n      <td>0.252000</td>\n      <td>0.262000</td>\n      <td>0.262000</td>\n    </tr>\n    <tr>\n      <th>1</th>\n      <td>Angola</td>\n      <td>0.000000</td>\n      <td>0.000000</td>\n      <td>0.000000</td>\n      <td>0.000000</td>\n      <td>0.000000</td>\n      <td>0.000000</td>\n      <td>0.000000</td>\n      <td>0.000000</td>\n      <td>0.000000</td>\n      <td>...</td>\n      <td>0.315067</td>\n      <td>0.315067</td>\n      <td>0.319200</td>\n      <td>0.323400</td>\n      <td>0.327667</td>\n      <td>0.332000</td>\n      <td>0.340000</td>\n      <td>0.341667</td>\n      <td>0.344933</td>\n      <td>0.344933</td>\n    </tr>\n    <tr>\n      <th>2</th>\n      <td>Albania</td>\n      <td>0.522000</td>\n      <td>0.521867</td>\n      <td>0.521733</td>\n      <td>0.521600</td>\n      <td>0.521467</td>\n      <td>0.535133</td>\n      <td>0.545000</td>\n      <td>0.554867</td>\n      <td>0.564733</td>\n      <td>...</td>\n      <td>0.619467</td>\n      <td>0.663867</td>\n      <td>0.668333</td>\n      <td>0.668333</td>\n      <td>0.668333</td>\n      <td>0.668333</td>\n      <td>0.668333</td>\n      <td>0.670333</td>\n      <td>0.670333</td>\n      <td>0.676400</td>\n    </tr>\n    <tr>\n      <th>3</th>\n      <td>Andorra</td>\n      <td>0.000000</td>\n      <td>0.000000</td>\n      <td>0.000000</td>\n      <td>0.000000</td>\n      <td>0.000000</td>\n      <td>0.000000</td>\n      <td>0.000000</td>\n      <td>0.000000</td>\n      <td>0.000000</td>\n      <td>...</td>\n      <td>0.690933</td>\n      <td>0.693467</td>\n      <td>0.695933</td>\n      <td>0.698467</td>\n      <td>0.701000</td>\n      <td>0.706000</td>\n      <td>0.706000</td>\n      <td>0.701267</td>\n      <td>0.700133</td>\n      <td>0.700133</td>\n    </tr>\n    <tr>\n      <th>4</th>\n      <td>United Arab Emirates</td>\n      <td>0.374867</td>\n      <td>0.394333</td>\n      <td>0.413800</td>\n      <td>0.433333</td>\n      <td>0.452800</td>\n      <td>0.472267</td>\n      <td>0.488200</td>\n      <td>0.504133</td>\n      <td>0.520133</td>\n      <td>...</td>\n      <td>0.658867</td>\n      <td>0.669067</td>\n      <td>0.679267</td>\n      <td>0.689467</td>\n      <td>0.699667</td>\n      <td>0.709867</td>\n      <td>0.728200</td>\n      <td>0.807400</td>\n      <td>0.807400</td>\n      <td>0.807400</td>\n    </tr>\n    <tr>\n      <th>...</th>\n      <td>...</td>\n      <td>...</td>\n      <td>...</td>\n      <td>...</td>\n      <td>...</td>\n      <td>...</td>\n      <td>...</td>\n      <td>...</td>\n      <td>...</td>\n      <td>...</td>\n      <td>...</td>\n      <td>...</td>\n      <td>...</td>\n      <td>...</td>\n      <td>...</td>\n      <td>...</td>\n      <td>...</td>\n      <td>...</td>\n      <td>...</td>\n      <td>...</td>\n      <td>...</td>\n    </tr>\n    <tr>\n      <th>185</th>\n      <td>Samoa</td>\n      <td>0.506800</td>\n      <td>0.514933</td>\n      <td>0.523000</td>\n      <td>0.531067</td>\n      <td>0.539200</td>\n      <td>0.547267</td>\n      <td>0.555400</td>\n      <td>0.563467</td>\n      <td>0.571533</td>\n      <td>...</td>\n      <td>0.668667</td>\n      <td>0.699333</td>\n      <td>0.700733</td>\n      <td>0.702133</td>\n      <td>0.703533</td>\n      <td>0.704933</td>\n      <td>0.706333</td>\n      <td>0.706333</td>\n      <td>0.706333</td>\n      <td>0.718600</td>\n    </tr>\n    <tr>\n      <th>186</th>\n      <td>Yemen</td>\n      <td>0.019333</td>\n      <td>0.024133</td>\n      <td>0.028933</td>\n      <td>0.033733</td>\n      <td>0.038533</td>\n      <td>0.043333</td>\n      <td>0.050667</td>\n      <td>0.058000</td>\n      <td>0.065333</td>\n      <td>...</td>\n      <td>0.173333</td>\n      <td>0.186667</td>\n      <td>0.200000</td>\n      <td>0.200000</td>\n      <td>0.200000</td>\n      <td>0.200000</td>\n      <td>0.200000</td>\n      <td>0.200000</td>\n      <td>0.213333</td>\n      <td>0.213333</td>\n    </tr>\n    <tr>\n      <th>187</th>\n      <td>South Africa</td>\n      <td>0.432667</td>\n      <td>0.440000</td>\n      <td>0.478467</td>\n      <td>0.501533</td>\n      <td>0.524600</td>\n      <td>0.547667</td>\n      <td>0.555133</td>\n      <td>0.562533</td>\n      <td>0.569933</td>\n      <td>...</td>\n      <td>0.681000</td>\n      <td>0.638267</td>\n      <td>0.654733</td>\n      <td>0.660333</td>\n      <td>0.665933</td>\n      <td>0.675600</td>\n      <td>0.677000</td>\n      <td>0.677000</td>\n      <td>0.682733</td>\n      <td>0.682733</td>\n    </tr>\n    <tr>\n      <th>188</th>\n      <td>Zambia</td>\n      <td>0.312000</td>\n      <td>0.330133</td>\n      <td>0.348267</td>\n      <td>0.366400</td>\n      <td>0.384533</td>\n      <td>0.402667</td>\n      <td>0.400533</td>\n      <td>0.398400</td>\n      <td>0.396267</td>\n      <td>...</td>\n      <td>0.440000</td>\n      <td>0.444933</td>\n      <td>0.449867</td>\n      <td>0.454800</td>\n      <td>0.451267</td>\n      <td>0.457600</td>\n      <td>0.464000</td>\n      <td>0.470400</td>\n      <td>0.473600</td>\n      <td>0.476800</td>\n    </tr>\n    <tr>\n      <th>189</th>\n      <td>Zimbabwe</td>\n      <td>0.302000</td>\n      <td>0.315467</td>\n      <td>0.328933</td>\n      <td>0.342400</td>\n      <td>0.355867</td>\n      <td>0.369333</td>\n      <td>0.381933</td>\n      <td>0.394600</td>\n      <td>0.407200</td>\n      <td>...</td>\n      <td>0.483333</td>\n      <td>0.483333</td>\n      <td>0.524333</td>\n      <td>0.533800</td>\n      <td>0.543333</td>\n      <td>0.546733</td>\n      <td>0.552800</td>\n      <td>0.556133</td>\n      <td>0.558533</td>\n      <td>0.564467</td>\n    </tr>\n  </tbody>\n</table>\n<p>190 rows × 31 columns</p>\n</div>"
     },
     "metadata": {},
     "execution_count": 60
    }
   ],
   "source": [
    "promedio"
   ]
  },
  {
   "source": [
    "#### Calculo del Indice de Educacion\n",
    "Creación de un `DataFrame` vacío para almacenar todos los resultados del calculo "
   ],
   "cell_type": "markdown",
   "metadata": {}
  },
  {
   "cell_type": "code",
   "execution_count": 55,
   "metadata": {},
   "outputs": [],
   "source": [
    "header = ['Country']\n",
    "educacion = pd.DataFrame({}, columns=header)"
   ]
  },
  {
   "source": [
    "### Calculo del indice de Educación por país\n",
    "\n",
    "Se explica a continuación como se realizo el calculo del indice de educación por país.\n",
    "Primeramente se presenta lo que es la formula que se uso:\n",
    "\n",
    "$$\\Huge\\Huge\\frac{\\alpha + \\beta}{2}$$\n",
    "\n",
    "Donde:\n",
    "\n",
    "* $\\alpha$ : El indice de la expectativa de años de escolaridad en el pais.\n",
    "* $\\beta$ : El indice del promedio de años de escolaridad en el país\n",
    "\n",
    "Este calculo se realizo por cada pais en cada uno de los años. \n"
   ],
   "cell_type": "markdown",
   "metadata": {}
  },
  {
   "cell_type": "code",
   "execution_count": 56,
   "metadata": {},
   "outputs": [],
   "source": [
    "def calcular_indice(_pais, expect, prom):\n",
    "    dicci = {\n",
    "        \"Country\": _pais\n",
    "    }\n",
    "    prom, expect = prom[0][1:], expect[0][1:]\n",
    "    indice = [(float(prom[i]) + float(expect[i])) / 2 for i in range(0, len(prom))]\n",
    "\n",
    "    for i in range(1990, 2020):\n",
    "        dicci[str(i)] = indice[i - 1990]\n",
    "    return dicci\n",
    "\n",
    "\n",
    "for country in promedio[\"Country\"]:\n",
    "    expect = expectativa.loc[expectativa.Country == country].to_numpy()\n",
    "    prom = promedio.loc[promedio.Country == country].to_numpy()\n",
    "    if len(expect) > 0 and len(prom) > 0:\n",
    "        educacion = educacion.append(calcular_indice(country, expect, prom), ignore_index= True)\n"
   ]
  },
  {
   "source": [
    "Resultado del calculo del indice de educación por cada país en cada uno de sus periodos."
   ],
   "cell_type": "markdown",
   "metadata": {}
  },
  {
   "cell_type": "code",
   "execution_count": 59,
   "metadata": {},
   "outputs": [
    {
     "output_type": "execute_result",
     "data": {
      "text/plain": [
       "                  Country      1990      1991      1992      1993      1994  \\\n",
       "0             Afghanistan  0.121694  0.133217  0.144767  0.156317  0.167839   \n",
       "1                  Angola  0.095583  0.090333  0.089833  0.101583  0.104639   \n",
       "2                 Albania  0.583306  0.587711  0.557089  0.542106  0.541039   \n",
       "3                 Andorra  0.299972  0.299972  0.299972  0.299972  0.299972   \n",
       "4    United Arab Emirates  0.473933  0.493361  0.498761  0.509417  0.528067   \n",
       "..                    ...       ...       ...       ...       ...       ...   \n",
       "184                 Samoa  0.577150  0.582439  0.587722  0.592978  0.598267   \n",
       "185                 Yemen  0.218861  0.221650  0.224439  0.227228  0.230017   \n",
       "186          South Africa  0.532194  0.551833  0.581317  0.603100  0.616522   \n",
       "187                Zambia  0.364833  0.380178  0.395550  0.410894  0.426267   \n",
       "188              Zimbabwe  0.422500  0.441233  0.436717  0.443283  0.449878   \n",
       "\n",
       "         1995      1996      1997      1998  ...      2010      2011  \\\n",
       "0    0.179389  0.190472  0.201528  0.212611  ...  0.372444  0.373611   \n",
       "1    0.107694  0.110750  0.113778  0.116833  ...  0.397700  0.422672   \n",
       "2    0.549956  0.556611  0.569239  0.578728  ...  0.670844  0.713822   \n",
       "3    0.299972  0.299972  0.299972  0.299972  ...  0.669689  0.670956   \n",
       "4    0.544272  0.545406  0.545122  0.548289  ...  0.668544  0.677894   \n",
       "..        ...       ...       ...       ...  ...       ...       ...   \n",
       "184  0.603550  0.608839  0.610400  0.619378  ...  0.691528  0.697111   \n",
       "185  0.232833  0.236889  0.240944  0.243611  ...  0.325250  0.342694   \n",
       "186  0.636000  0.639289  0.642572  0.645856  ...  0.696278  0.674494   \n",
       "187  0.441611  0.446822  0.452061  0.457272  ...  0.526028  0.526133   \n",
       "188  0.456472  0.462633  0.468828  0.474989  ...  0.523250  0.525667   \n",
       "\n",
       "         2012      2013      2014      2015      2016      2017      2018  \\\n",
       "0    0.390028  0.398222  0.403389  0.405306  0.406056  0.407639  0.412639   \n",
       "1    0.435044  0.447422  0.459861  0.472333  0.486639  0.497972  0.499606   \n",
       "2    0.739361  0.748778  0.757833  0.752944  0.745417  0.746722  0.743389   \n",
       "3    0.723633  0.714206  0.725361  0.718000  0.722444  0.713022  0.719511   \n",
       "4    0.687244  0.696567  0.711083  0.734572  0.743072  0.782672  0.802144   \n",
       "..        ...       ...       ...       ...       ...       ...       ...   \n",
       "184  0.694256  0.697122  0.699961  0.697828  0.698472  0.700944  0.700944   \n",
       "185  0.334917  0.344694  0.342694  0.341694  0.340667  0.340667  0.347333   \n",
       "186  0.684922  0.695361  0.705356  0.720161  0.718167  0.718167  0.721033   \n",
       "187  0.528572  0.531844  0.532467  0.538050  0.543639  0.549228  0.553244   \n",
       "188  0.548583  0.550206  0.556972  0.560144  0.564928  0.568372  0.569572   \n",
       "\n",
       "         2019  \n",
       "0    0.413667  \n",
       "1    0.499606  \n",
       "2    0.746422  \n",
       "3    0.719511  \n",
       "4    0.802144  \n",
       "..        ...  \n",
       "184  0.712911  \n",
       "185  0.350250  \n",
       "186  0.724450  \n",
       "187  0.557233  \n",
       "188  0.586928  \n",
       "\n",
       "[189 rows x 31 columns]"
      ],
      "text/html": "<div>\n<style scoped>\n    .dataframe tbody tr th:only-of-type {\n        vertical-align: middle;\n    }\n\n    .dataframe tbody tr th {\n        vertical-align: top;\n    }\n\n    .dataframe thead th {\n        text-align: right;\n    }\n</style>\n<table border=\"1\" class=\"dataframe\">\n  <thead>\n    <tr style=\"text-align: right;\">\n      <th></th>\n      <th>Country</th>\n      <th>1990</th>\n      <th>1991</th>\n      <th>1992</th>\n      <th>1993</th>\n      <th>1994</th>\n      <th>1995</th>\n      <th>1996</th>\n      <th>1997</th>\n      <th>1998</th>\n      <th>...</th>\n      <th>2010</th>\n      <th>2011</th>\n      <th>2012</th>\n      <th>2013</th>\n      <th>2014</th>\n      <th>2015</th>\n      <th>2016</th>\n      <th>2017</th>\n      <th>2018</th>\n      <th>2019</th>\n    </tr>\n  </thead>\n  <tbody>\n    <tr>\n      <th>0</th>\n      <td>Afghanistan</td>\n      <td>0.121694</td>\n      <td>0.133217</td>\n      <td>0.144767</td>\n      <td>0.156317</td>\n      <td>0.167839</td>\n      <td>0.179389</td>\n      <td>0.190472</td>\n      <td>0.201528</td>\n      <td>0.212611</td>\n      <td>...</td>\n      <td>0.372444</td>\n      <td>0.373611</td>\n      <td>0.390028</td>\n      <td>0.398222</td>\n      <td>0.403389</td>\n      <td>0.405306</td>\n      <td>0.406056</td>\n      <td>0.407639</td>\n      <td>0.412639</td>\n      <td>0.413667</td>\n    </tr>\n    <tr>\n      <th>1</th>\n      <td>Angola</td>\n      <td>0.095583</td>\n      <td>0.090333</td>\n      <td>0.089833</td>\n      <td>0.101583</td>\n      <td>0.104639</td>\n      <td>0.107694</td>\n      <td>0.110750</td>\n      <td>0.113778</td>\n      <td>0.116833</td>\n      <td>...</td>\n      <td>0.397700</td>\n      <td>0.422672</td>\n      <td>0.435044</td>\n      <td>0.447422</td>\n      <td>0.459861</td>\n      <td>0.472333</td>\n      <td>0.486639</td>\n      <td>0.497972</td>\n      <td>0.499606</td>\n      <td>0.499606</td>\n    </tr>\n    <tr>\n      <th>2</th>\n      <td>Albania</td>\n      <td>0.583306</td>\n      <td>0.587711</td>\n      <td>0.557089</td>\n      <td>0.542106</td>\n      <td>0.541039</td>\n      <td>0.549956</td>\n      <td>0.556611</td>\n      <td>0.569239</td>\n      <td>0.578728</td>\n      <td>...</td>\n      <td>0.670844</td>\n      <td>0.713822</td>\n      <td>0.739361</td>\n      <td>0.748778</td>\n      <td>0.757833</td>\n      <td>0.752944</td>\n      <td>0.745417</td>\n      <td>0.746722</td>\n      <td>0.743389</td>\n      <td>0.746422</td>\n    </tr>\n    <tr>\n      <th>3</th>\n      <td>Andorra</td>\n      <td>0.299972</td>\n      <td>0.299972</td>\n      <td>0.299972</td>\n      <td>0.299972</td>\n      <td>0.299972</td>\n      <td>0.299972</td>\n      <td>0.299972</td>\n      <td>0.299972</td>\n      <td>0.299972</td>\n      <td>...</td>\n      <td>0.669689</td>\n      <td>0.670956</td>\n      <td>0.723633</td>\n      <td>0.714206</td>\n      <td>0.725361</td>\n      <td>0.718000</td>\n      <td>0.722444</td>\n      <td>0.713022</td>\n      <td>0.719511</td>\n      <td>0.719511</td>\n    </tr>\n    <tr>\n      <th>4</th>\n      <td>United Arab Emirates</td>\n      <td>0.473933</td>\n      <td>0.493361</td>\n      <td>0.498761</td>\n      <td>0.509417</td>\n      <td>0.528067</td>\n      <td>0.544272</td>\n      <td>0.545406</td>\n      <td>0.545122</td>\n      <td>0.548289</td>\n      <td>...</td>\n      <td>0.668544</td>\n      <td>0.677894</td>\n      <td>0.687244</td>\n      <td>0.696567</td>\n      <td>0.711083</td>\n      <td>0.734572</td>\n      <td>0.743072</td>\n      <td>0.782672</td>\n      <td>0.802144</td>\n      <td>0.802144</td>\n    </tr>\n    <tr>\n      <th>...</th>\n      <td>...</td>\n      <td>...</td>\n      <td>...</td>\n      <td>...</td>\n      <td>...</td>\n      <td>...</td>\n      <td>...</td>\n      <td>...</td>\n      <td>...</td>\n      <td>...</td>\n      <td>...</td>\n      <td>...</td>\n      <td>...</td>\n      <td>...</td>\n      <td>...</td>\n      <td>...</td>\n      <td>...</td>\n      <td>...</td>\n      <td>...</td>\n      <td>...</td>\n      <td>...</td>\n    </tr>\n    <tr>\n      <th>184</th>\n      <td>Samoa</td>\n      <td>0.577150</td>\n      <td>0.582439</td>\n      <td>0.587722</td>\n      <td>0.592978</td>\n      <td>0.598267</td>\n      <td>0.603550</td>\n      <td>0.608839</td>\n      <td>0.610400</td>\n      <td>0.619378</td>\n      <td>...</td>\n      <td>0.691528</td>\n      <td>0.697111</td>\n      <td>0.694256</td>\n      <td>0.697122</td>\n      <td>0.699961</td>\n      <td>0.697828</td>\n      <td>0.698472</td>\n      <td>0.700944</td>\n      <td>0.700944</td>\n      <td>0.712911</td>\n    </tr>\n    <tr>\n      <th>185</th>\n      <td>Yemen</td>\n      <td>0.218861</td>\n      <td>0.221650</td>\n      <td>0.224439</td>\n      <td>0.227228</td>\n      <td>0.230017</td>\n      <td>0.232833</td>\n      <td>0.236889</td>\n      <td>0.240944</td>\n      <td>0.243611</td>\n      <td>...</td>\n      <td>0.325250</td>\n      <td>0.342694</td>\n      <td>0.334917</td>\n      <td>0.344694</td>\n      <td>0.342694</td>\n      <td>0.341694</td>\n      <td>0.340667</td>\n      <td>0.340667</td>\n      <td>0.347333</td>\n      <td>0.350250</td>\n    </tr>\n    <tr>\n      <th>186</th>\n      <td>South Africa</td>\n      <td>0.532194</td>\n      <td>0.551833</td>\n      <td>0.581317</td>\n      <td>0.603100</td>\n      <td>0.616522</td>\n      <td>0.636000</td>\n      <td>0.639289</td>\n      <td>0.642572</td>\n      <td>0.645856</td>\n      <td>...</td>\n      <td>0.696278</td>\n      <td>0.674494</td>\n      <td>0.684922</td>\n      <td>0.695361</td>\n      <td>0.705356</td>\n      <td>0.720161</td>\n      <td>0.718167</td>\n      <td>0.718167</td>\n      <td>0.721033</td>\n      <td>0.724450</td>\n    </tr>\n    <tr>\n      <th>187</th>\n      <td>Zambia</td>\n      <td>0.364833</td>\n      <td>0.380178</td>\n      <td>0.395550</td>\n      <td>0.410894</td>\n      <td>0.426267</td>\n      <td>0.441611</td>\n      <td>0.446822</td>\n      <td>0.452061</td>\n      <td>0.457272</td>\n      <td>...</td>\n      <td>0.526028</td>\n      <td>0.526133</td>\n      <td>0.528572</td>\n      <td>0.531844</td>\n      <td>0.532467</td>\n      <td>0.538050</td>\n      <td>0.543639</td>\n      <td>0.549228</td>\n      <td>0.553244</td>\n      <td>0.557233</td>\n    </tr>\n    <tr>\n      <th>188</th>\n      <td>Zimbabwe</td>\n      <td>0.422500</td>\n      <td>0.441233</td>\n      <td>0.436717</td>\n      <td>0.443283</td>\n      <td>0.449878</td>\n      <td>0.456472</td>\n      <td>0.462633</td>\n      <td>0.468828</td>\n      <td>0.474989</td>\n      <td>...</td>\n      <td>0.523250</td>\n      <td>0.525667</td>\n      <td>0.548583</td>\n      <td>0.550206</td>\n      <td>0.556972</td>\n      <td>0.560144</td>\n      <td>0.564928</td>\n      <td>0.568372</td>\n      <td>0.569572</td>\n      <td>0.586928</td>\n    </tr>\n  </tbody>\n</table>\n<p>189 rows × 31 columns</p>\n</div>"
     },
     "metadata": {},
     "execution_count": 59
    }
   ],
   "source": [
    "educacion"
   ]
  },
  {
   "source": [
    "### Calculo del Indice de Salud\n",
    "Obtencion de los registros del indicador correspondiente a la expectativa de años de vida al nacer (`ID` = 69206)"
   ],
   "cell_type": "markdown",
   "metadata": {}
  },
  {
   "cell_type": "code",
   "execution_count": 32,
   "metadata": {},
   "outputs": [],
   "source": [
    "data = get_data('69206')"
   ]
  },
  {
   "source": [
    "Creación del `DataFrame` con los datos normalizados y visualización de `head` y `tail`"
   ],
   "cell_type": "markdown",
   "metadata": {}
  },
  {
   "cell_type": "code",
   "execution_count": 33,
   "metadata": {},
   "outputs": [
    {
     "output_type": "execute_result",
     "data": {
      "text/plain": [
       "                  Country    1990    1991    1992    1993    1994    1995  \\\n",
       "0             Afghanistan  50.331  50.999  51.641  52.256  52.842  53.398   \n",
       "1                  Angola  45.306  45.271  45.230  45.201  45.201  45.246   \n",
       "2                 Albania  71.836  71.803  71.802  71.860  71.992  72.205   \n",
       "3                 Andorra  76.517  76.682  76.854  77.030  77.213  77.414   \n",
       "4    United Arab Emirates  71.939  72.208  72.466  72.715  72.957  73.194   \n",
       "..                    ...     ...     ...     ...     ...     ...     ...   \n",
       "186                 Samoa  66.281  66.470  66.655  66.842  67.037  67.249   \n",
       "187                 Yemen  57.346  57.730  58.047  58.318  58.566  58.817   \n",
       "188          South Africa  63.307  63.384  63.247  62.894  62.331  61.561   \n",
       "189                Zambia  49.249  48.125  46.987  45.919  44.983  44.242   \n",
       "190              Zimbabwe  58.100  56.749  55.243  53.653  52.044  50.480   \n",
       "\n",
       "       1996    1997    1998  ...    2010    2011    2012    2013    2014  \\\n",
       "0    53.924  54.424  54.906  ...  61.028  61.553  62.054  62.525  62.966   \n",
       "1    45.350  45.519  45.763  ...  55.350  56.330  57.236  58.054  58.776   \n",
       "2    72.495  72.838  73.208  ...  76.562  76.914  77.252  77.554  77.813   \n",
       "3    77.644  77.909  78.207  ...  80.818  80.935  81.054  81.173  81.294   \n",
       "4    73.428  73.657  73.883  ...  76.332  76.521  76.711  76.903  77.095   \n",
       "..      ...     ...     ...  ...     ...     ...     ...     ...     ...   \n",
       "186  67.491  67.764  68.067  ...  71.663  71.906  72.136  72.351  72.549   \n",
       "187  59.096  59.415  59.782  ...  65.549  65.768  65.920  66.016  66.066   \n",
       "188  60.595  59.489  58.315  ...  57.669  58.895  60.060  61.099  61.968   \n",
       "189  43.735  43.461  43.413  ...  55.655  57.126  58.502  59.746  60.831   \n",
       "190  49.009  47.661  46.466  ...  50.640  52.896  55.032  56.897  58.410   \n",
       "\n",
       "       2015    2016    2017    2018   2019  \n",
       "0    63.377  63.763  64.130  64.486  64.83  \n",
       "1    59.398  59.925  60.379  60.782  61.15  \n",
       "2    78.025  78.194  78.333  78.458  78.57  \n",
       "3    81.416  81.540  81.663  81.786  81.91  \n",
       "4    77.285  77.470  77.647  77.814  77.97  \n",
       "..      ...     ...     ...     ...    ...  \n",
       "186  72.730  72.895  73.046  73.187  73.32  \n",
       "187  66.085  66.087  66.086  66.096  66.13  \n",
       "188  62.649  63.153  63.538  63.857  64.13  \n",
       "189  61.737  62.464  63.043  63.510  63.89  \n",
       "190  59.534  60.294  60.812  61.195  61.49  \n",
       "\n",
       "[191 rows x 31 columns]"
      ],
      "text/html": "<div>\n<style scoped>\n    .dataframe tbody tr th:only-of-type {\n        vertical-align: middle;\n    }\n\n    .dataframe tbody tr th {\n        vertical-align: top;\n    }\n\n    .dataframe thead th {\n        text-align: right;\n    }\n</style>\n<table border=\"1\" class=\"dataframe\">\n  <thead>\n    <tr style=\"text-align: right;\">\n      <th></th>\n      <th>Country</th>\n      <th>1990</th>\n      <th>1991</th>\n      <th>1992</th>\n      <th>1993</th>\n      <th>1994</th>\n      <th>1995</th>\n      <th>1996</th>\n      <th>1997</th>\n      <th>1998</th>\n      <th>...</th>\n      <th>2010</th>\n      <th>2011</th>\n      <th>2012</th>\n      <th>2013</th>\n      <th>2014</th>\n      <th>2015</th>\n      <th>2016</th>\n      <th>2017</th>\n      <th>2018</th>\n      <th>2019</th>\n    </tr>\n  </thead>\n  <tbody>\n    <tr>\n      <th>0</th>\n      <td>Afghanistan</td>\n      <td>50.331</td>\n      <td>50.999</td>\n      <td>51.641</td>\n      <td>52.256</td>\n      <td>52.842</td>\n      <td>53.398</td>\n      <td>53.924</td>\n      <td>54.424</td>\n      <td>54.906</td>\n      <td>...</td>\n      <td>61.028</td>\n      <td>61.553</td>\n      <td>62.054</td>\n      <td>62.525</td>\n      <td>62.966</td>\n      <td>63.377</td>\n      <td>63.763</td>\n      <td>64.130</td>\n      <td>64.486</td>\n      <td>64.83</td>\n    </tr>\n    <tr>\n      <th>1</th>\n      <td>Angola</td>\n      <td>45.306</td>\n      <td>45.271</td>\n      <td>45.230</td>\n      <td>45.201</td>\n      <td>45.201</td>\n      <td>45.246</td>\n      <td>45.350</td>\n      <td>45.519</td>\n      <td>45.763</td>\n      <td>...</td>\n      <td>55.350</td>\n      <td>56.330</td>\n      <td>57.236</td>\n      <td>58.054</td>\n      <td>58.776</td>\n      <td>59.398</td>\n      <td>59.925</td>\n      <td>60.379</td>\n      <td>60.782</td>\n      <td>61.15</td>\n    </tr>\n    <tr>\n      <th>2</th>\n      <td>Albania</td>\n      <td>71.836</td>\n      <td>71.803</td>\n      <td>71.802</td>\n      <td>71.860</td>\n      <td>71.992</td>\n      <td>72.205</td>\n      <td>72.495</td>\n      <td>72.838</td>\n      <td>73.208</td>\n      <td>...</td>\n      <td>76.562</td>\n      <td>76.914</td>\n      <td>77.252</td>\n      <td>77.554</td>\n      <td>77.813</td>\n      <td>78.025</td>\n      <td>78.194</td>\n      <td>78.333</td>\n      <td>78.458</td>\n      <td>78.57</td>\n    </tr>\n    <tr>\n      <th>3</th>\n      <td>Andorra</td>\n      <td>76.517</td>\n      <td>76.682</td>\n      <td>76.854</td>\n      <td>77.030</td>\n      <td>77.213</td>\n      <td>77.414</td>\n      <td>77.644</td>\n      <td>77.909</td>\n      <td>78.207</td>\n      <td>...</td>\n      <td>80.818</td>\n      <td>80.935</td>\n      <td>81.054</td>\n      <td>81.173</td>\n      <td>81.294</td>\n      <td>81.416</td>\n      <td>81.540</td>\n      <td>81.663</td>\n      <td>81.786</td>\n      <td>81.91</td>\n    </tr>\n    <tr>\n      <th>4</th>\n      <td>United Arab Emirates</td>\n      <td>71.939</td>\n      <td>72.208</td>\n      <td>72.466</td>\n      <td>72.715</td>\n      <td>72.957</td>\n      <td>73.194</td>\n      <td>73.428</td>\n      <td>73.657</td>\n      <td>73.883</td>\n      <td>...</td>\n      <td>76.332</td>\n      <td>76.521</td>\n      <td>76.711</td>\n      <td>76.903</td>\n      <td>77.095</td>\n      <td>77.285</td>\n      <td>77.470</td>\n      <td>77.647</td>\n      <td>77.814</td>\n      <td>77.97</td>\n    </tr>\n    <tr>\n      <th>...</th>\n      <td>...</td>\n      <td>...</td>\n      <td>...</td>\n      <td>...</td>\n      <td>...</td>\n      <td>...</td>\n      <td>...</td>\n      <td>...</td>\n      <td>...</td>\n      <td>...</td>\n      <td>...</td>\n      <td>...</td>\n      <td>...</td>\n      <td>...</td>\n      <td>...</td>\n      <td>...</td>\n      <td>...</td>\n      <td>...</td>\n      <td>...</td>\n      <td>...</td>\n      <td>...</td>\n    </tr>\n    <tr>\n      <th>186</th>\n      <td>Samoa</td>\n      <td>66.281</td>\n      <td>66.470</td>\n      <td>66.655</td>\n      <td>66.842</td>\n      <td>67.037</td>\n      <td>67.249</td>\n      <td>67.491</td>\n      <td>67.764</td>\n      <td>68.067</td>\n      <td>...</td>\n      <td>71.663</td>\n      <td>71.906</td>\n      <td>72.136</td>\n      <td>72.351</td>\n      <td>72.549</td>\n      <td>72.730</td>\n      <td>72.895</td>\n      <td>73.046</td>\n      <td>73.187</td>\n      <td>73.32</td>\n    </tr>\n    <tr>\n      <th>187</th>\n      <td>Yemen</td>\n      <td>57.346</td>\n      <td>57.730</td>\n      <td>58.047</td>\n      <td>58.318</td>\n      <td>58.566</td>\n      <td>58.817</td>\n      <td>59.096</td>\n      <td>59.415</td>\n      <td>59.782</td>\n      <td>...</td>\n      <td>65.549</td>\n      <td>65.768</td>\n      <td>65.920</td>\n      <td>66.016</td>\n      <td>66.066</td>\n      <td>66.085</td>\n      <td>66.087</td>\n      <td>66.086</td>\n      <td>66.096</td>\n      <td>66.13</td>\n    </tr>\n    <tr>\n      <th>188</th>\n      <td>South Africa</td>\n      <td>63.307</td>\n      <td>63.384</td>\n      <td>63.247</td>\n      <td>62.894</td>\n      <td>62.331</td>\n      <td>61.561</td>\n      <td>60.595</td>\n      <td>59.489</td>\n      <td>58.315</td>\n      <td>...</td>\n      <td>57.669</td>\n      <td>58.895</td>\n      <td>60.060</td>\n      <td>61.099</td>\n      <td>61.968</td>\n      <td>62.649</td>\n      <td>63.153</td>\n      <td>63.538</td>\n      <td>63.857</td>\n      <td>64.13</td>\n    </tr>\n    <tr>\n      <th>189</th>\n      <td>Zambia</td>\n      <td>49.249</td>\n      <td>48.125</td>\n      <td>46.987</td>\n      <td>45.919</td>\n      <td>44.983</td>\n      <td>44.242</td>\n      <td>43.735</td>\n      <td>43.461</td>\n      <td>43.413</td>\n      <td>...</td>\n      <td>55.655</td>\n      <td>57.126</td>\n      <td>58.502</td>\n      <td>59.746</td>\n      <td>60.831</td>\n      <td>61.737</td>\n      <td>62.464</td>\n      <td>63.043</td>\n      <td>63.510</td>\n      <td>63.89</td>\n    </tr>\n    <tr>\n      <th>190</th>\n      <td>Zimbabwe</td>\n      <td>58.100</td>\n      <td>56.749</td>\n      <td>55.243</td>\n      <td>53.653</td>\n      <td>52.044</td>\n      <td>50.480</td>\n      <td>49.009</td>\n      <td>47.661</td>\n      <td>46.466</td>\n      <td>...</td>\n      <td>50.640</td>\n      <td>52.896</td>\n      <td>55.032</td>\n      <td>56.897</td>\n      <td>58.410</td>\n      <td>59.534</td>\n      <td>60.294</td>\n      <td>60.812</td>\n      <td>61.195</td>\n      <td>61.49</td>\n    </tr>\n  </tbody>\n</table>\n<p>191 rows × 31 columns</p>\n</div>"
     },
     "metadata": {},
     "execution_count": 33
    }
   ],
   "source": [
    "salud = pd.DataFrame(data)\n",
    "salud"
   ]
  },
  {
   "source": [
    "* Dimensiones del `DataFrame`\n",
    "    * 191 filas\n",
    "    * 31 columnas"
   ],
   "cell_type": "markdown",
   "metadata": {}
  },
  {
   "cell_type": "code",
   "execution_count": 34,
   "metadata": {},
   "outputs": [
    {
     "output_type": "execute_result",
     "data": {
      "text/plain": [
       "(191, 31)"
      ]
     },
     "metadata": {},
     "execution_count": 34
    }
   ],
   "source": [
    "salud.shape"
   ]
  },
  {
   "source": [
    "* Nombre de las columnas"
   ],
   "cell_type": "markdown",
   "metadata": {}
  },
  {
   "cell_type": "code",
   "execution_count": 35,
   "metadata": {},
   "outputs": [
    {
     "output_type": "execute_result",
     "data": {
      "text/plain": [
       "Index(['Country', '1990', '1991', '1992', '1993', '1994', '1995', '1996',\n",
       "       '1997', '1998', '1999', '2000', '2001', '2002', '2003', '2004', '2005',\n",
       "       '2006', '2007', '2008', '2009', '2010', '2011', '2012', '2013', '2014',\n",
       "       '2015', '2016', '2017', '2018', '2019'],\n",
       "      dtype='object')"
      ]
     },
     "metadata": {},
     "execution_count": 35
    }
   ],
   "source": [
    "salud.columns"
   ]
  },
  {
   "source": [
    "#### Calculo del Indice de Salud por paises.\n",
    "\n",
    "Se explica a continuación como se realizo el calculo del indice de salud por pais.\n",
    "Primeramente se presenta lo que es la formula que se uso:\n",
    "\n",
    "$$\\Huge\\Huge\\frac{\\alpha - \\theta}{\\gamma - \\theta}$$\n",
    "\n",
    "Donde:\n",
    "\n",
    "* $\\alpha$ : Es la esperanza de vida en el pais.\n",
    "* $\\theta$ : Es la esperanza minima de vida. En el documento __*Human Development Report 2020*__ se especifican 20 años.\n",
    "* $\\gamma$ : Es la esperanza maxima de vida. En el documento __*Human Development Report 2020*__ se especifican 85 años.\n",
    "\n",
    "\n",
    "Este calculo se realizo por cada pais en cada uno de los años."
   ],
   "cell_type": "markdown",
   "metadata": {}
  },
  {
   "cell_type": "code",
   "execution_count": 36,
   "metadata": {},
   "outputs": [],
   "source": [
    "#Calculo del \"Indice_Salud\"\n",
    "for i in range(1990,2020):\n",
    "    ind = str(i)\n",
    "    salud[ind] = (salud[ind]-20)/(85-20)"
   ]
  },
  {
   "source": [
    "Resultado del calculo del indice de salud por cada país en cada uno de sus periodos."
   ],
   "cell_type": "markdown",
   "metadata": {}
  },
  {
   "cell_type": "code",
   "execution_count": 58,
   "metadata": {},
   "outputs": [
    {
     "output_type": "execute_result",
     "data": {
      "text/plain": [
       "                  Country      1990      1991      1992      1993      1994  \\\n",
       "0             Afghanistan  0.466631  0.476908  0.486785  0.496246  0.505262   \n",
       "1                  Angola  0.389323  0.388785  0.388154  0.387708  0.387708   \n",
       "2                 Albania  0.797477  0.796969  0.796954  0.797846  0.799877   \n",
       "3                 Andorra  0.869492  0.872031  0.874677  0.877385  0.880200   \n",
       "4    United Arab Emirates  0.799062  0.803200  0.807169  0.811000  0.814723   \n",
       "..                    ...       ...       ...       ...       ...       ...   \n",
       "186                 Samoa  0.712015  0.714923  0.717769  0.720646  0.723646   \n",
       "187                 Yemen  0.574554  0.580462  0.585338  0.589508  0.593323   \n",
       "188          South Africa  0.666262  0.667446  0.665338  0.659908  0.651246   \n",
       "189                Zambia  0.449985  0.432692  0.415185  0.398754  0.384354   \n",
       "190              Zimbabwe  0.586154  0.565369  0.542200  0.517738  0.492985   \n",
       "\n",
       "         1995      1996      1997      1998  ...      2010      2011  \\\n",
       "0    0.513815  0.521908  0.529600  0.537015  ...  0.631200  0.639277   \n",
       "1    0.388400  0.390000  0.392600  0.396354  ...  0.543846  0.558923   \n",
       "2    0.803154  0.807615  0.812892  0.818585  ...  0.870185  0.875600   \n",
       "3    0.883292  0.886831  0.890908  0.895492  ...  0.935662  0.937462   \n",
       "4    0.818369  0.821969  0.825492  0.828969  ...  0.866646  0.869554   \n",
       "..        ...       ...       ...       ...  ...       ...       ...   \n",
       "186  0.726908  0.730631  0.734831  0.739492  ...  0.794815  0.798554   \n",
       "187  0.597185  0.601477  0.606385  0.612031  ...  0.700754  0.704123   \n",
       "188  0.639400  0.624538  0.607523  0.589462  ...  0.579523  0.598385   \n",
       "189  0.372954  0.365154  0.360938  0.360200  ...  0.548538  0.571169   \n",
       "190  0.468923  0.446292  0.425554  0.407169  ...  0.471385  0.506092   \n",
       "\n",
       "         2012      2013      2014      2015      2016      2017      2018  \\\n",
       "0    0.646985  0.654231  0.661015  0.667338  0.673277  0.678923  0.684400   \n",
       "1    0.572862  0.585446  0.596554  0.606123  0.614231  0.621215  0.627415   \n",
       "2    0.880800  0.885446  0.889431  0.892692  0.895292  0.897431  0.899354   \n",
       "3    0.939292  0.941123  0.942985  0.944862  0.946769  0.948662  0.950554   \n",
       "4    0.872477  0.875431  0.878385  0.881308  0.884154  0.886877  0.889446   \n",
       "..        ...       ...       ...       ...       ...       ...       ...   \n",
       "186  0.802092  0.805400  0.808446  0.811231  0.813769  0.816092  0.818262   \n",
       "187  0.706462  0.707938  0.708708  0.709000  0.709031  0.709015  0.709169   \n",
       "188  0.616308  0.632292  0.645662  0.656138  0.663892  0.669815  0.674723   \n",
       "189  0.592338  0.611477  0.628169  0.642108  0.653292  0.662200  0.669385   \n",
       "190  0.538954  0.567646  0.590923  0.608215  0.619908  0.627877  0.633769   \n",
       "\n",
       "         2019  \n",
       "0    0.689692  \n",
       "1    0.633077  \n",
       "2    0.901077  \n",
       "3    0.952462  \n",
       "4    0.891846  \n",
       "..        ...  \n",
       "186  0.820308  \n",
       "187  0.709692  \n",
       "188  0.678923  \n",
       "189  0.675231  \n",
       "190  0.638308  \n",
       "\n",
       "[191 rows x 31 columns]"
      ],
      "text/html": "<div>\n<style scoped>\n    .dataframe tbody tr th:only-of-type {\n        vertical-align: middle;\n    }\n\n    .dataframe tbody tr th {\n        vertical-align: top;\n    }\n\n    .dataframe thead th {\n        text-align: right;\n    }\n</style>\n<table border=\"1\" class=\"dataframe\">\n  <thead>\n    <tr style=\"text-align: right;\">\n      <th></th>\n      <th>Country</th>\n      <th>1990</th>\n      <th>1991</th>\n      <th>1992</th>\n      <th>1993</th>\n      <th>1994</th>\n      <th>1995</th>\n      <th>1996</th>\n      <th>1997</th>\n      <th>1998</th>\n      <th>...</th>\n      <th>2010</th>\n      <th>2011</th>\n      <th>2012</th>\n      <th>2013</th>\n      <th>2014</th>\n      <th>2015</th>\n      <th>2016</th>\n      <th>2017</th>\n      <th>2018</th>\n      <th>2019</th>\n    </tr>\n  </thead>\n  <tbody>\n    <tr>\n      <th>0</th>\n      <td>Afghanistan</td>\n      <td>0.466631</td>\n      <td>0.476908</td>\n      <td>0.486785</td>\n      <td>0.496246</td>\n      <td>0.505262</td>\n      <td>0.513815</td>\n      <td>0.521908</td>\n      <td>0.529600</td>\n      <td>0.537015</td>\n      <td>...</td>\n      <td>0.631200</td>\n      <td>0.639277</td>\n      <td>0.646985</td>\n      <td>0.654231</td>\n      <td>0.661015</td>\n      <td>0.667338</td>\n      <td>0.673277</td>\n      <td>0.678923</td>\n      <td>0.684400</td>\n      <td>0.689692</td>\n    </tr>\n    <tr>\n      <th>1</th>\n      <td>Angola</td>\n      <td>0.389323</td>\n      <td>0.388785</td>\n      <td>0.388154</td>\n      <td>0.387708</td>\n      <td>0.387708</td>\n      <td>0.388400</td>\n      <td>0.390000</td>\n      <td>0.392600</td>\n      <td>0.396354</td>\n      <td>...</td>\n      <td>0.543846</td>\n      <td>0.558923</td>\n      <td>0.572862</td>\n      <td>0.585446</td>\n      <td>0.596554</td>\n      <td>0.606123</td>\n      <td>0.614231</td>\n      <td>0.621215</td>\n      <td>0.627415</td>\n      <td>0.633077</td>\n    </tr>\n    <tr>\n      <th>2</th>\n      <td>Albania</td>\n      <td>0.797477</td>\n      <td>0.796969</td>\n      <td>0.796954</td>\n      <td>0.797846</td>\n      <td>0.799877</td>\n      <td>0.803154</td>\n      <td>0.807615</td>\n      <td>0.812892</td>\n      <td>0.818585</td>\n      <td>...</td>\n      <td>0.870185</td>\n      <td>0.875600</td>\n      <td>0.880800</td>\n      <td>0.885446</td>\n      <td>0.889431</td>\n      <td>0.892692</td>\n      <td>0.895292</td>\n      <td>0.897431</td>\n      <td>0.899354</td>\n      <td>0.901077</td>\n    </tr>\n    <tr>\n      <th>3</th>\n      <td>Andorra</td>\n      <td>0.869492</td>\n      <td>0.872031</td>\n      <td>0.874677</td>\n      <td>0.877385</td>\n      <td>0.880200</td>\n      <td>0.883292</td>\n      <td>0.886831</td>\n      <td>0.890908</td>\n      <td>0.895492</td>\n      <td>...</td>\n      <td>0.935662</td>\n      <td>0.937462</td>\n      <td>0.939292</td>\n      <td>0.941123</td>\n      <td>0.942985</td>\n      <td>0.944862</td>\n      <td>0.946769</td>\n      <td>0.948662</td>\n      <td>0.950554</td>\n      <td>0.952462</td>\n    </tr>\n    <tr>\n      <th>4</th>\n      <td>United Arab Emirates</td>\n      <td>0.799062</td>\n      <td>0.803200</td>\n      <td>0.807169</td>\n      <td>0.811000</td>\n      <td>0.814723</td>\n      <td>0.818369</td>\n      <td>0.821969</td>\n      <td>0.825492</td>\n      <td>0.828969</td>\n      <td>...</td>\n      <td>0.866646</td>\n      <td>0.869554</td>\n      <td>0.872477</td>\n      <td>0.875431</td>\n      <td>0.878385</td>\n      <td>0.881308</td>\n      <td>0.884154</td>\n      <td>0.886877</td>\n      <td>0.889446</td>\n      <td>0.891846</td>\n    </tr>\n    <tr>\n      <th>...</th>\n      <td>...</td>\n      <td>...</td>\n      <td>...</td>\n      <td>...</td>\n      <td>...</td>\n      <td>...</td>\n      <td>...</td>\n      <td>...</td>\n      <td>...</td>\n      <td>...</td>\n      <td>...</td>\n      <td>...</td>\n      <td>...</td>\n      <td>...</td>\n      <td>...</td>\n      <td>...</td>\n      <td>...</td>\n      <td>...</td>\n      <td>...</td>\n      <td>...</td>\n      <td>...</td>\n    </tr>\n    <tr>\n      <th>186</th>\n      <td>Samoa</td>\n      <td>0.712015</td>\n      <td>0.714923</td>\n      <td>0.717769</td>\n      <td>0.720646</td>\n      <td>0.723646</td>\n      <td>0.726908</td>\n      <td>0.730631</td>\n      <td>0.734831</td>\n      <td>0.739492</td>\n      <td>...</td>\n      <td>0.794815</td>\n      <td>0.798554</td>\n      <td>0.802092</td>\n      <td>0.805400</td>\n      <td>0.808446</td>\n      <td>0.811231</td>\n      <td>0.813769</td>\n      <td>0.816092</td>\n      <td>0.818262</td>\n      <td>0.820308</td>\n    </tr>\n    <tr>\n      <th>187</th>\n      <td>Yemen</td>\n      <td>0.574554</td>\n      <td>0.580462</td>\n      <td>0.585338</td>\n      <td>0.589508</td>\n      <td>0.593323</td>\n      <td>0.597185</td>\n      <td>0.601477</td>\n      <td>0.606385</td>\n      <td>0.612031</td>\n      <td>...</td>\n      <td>0.700754</td>\n      <td>0.704123</td>\n      <td>0.706462</td>\n      <td>0.707938</td>\n      <td>0.708708</td>\n      <td>0.709000</td>\n      <td>0.709031</td>\n      <td>0.709015</td>\n      <td>0.709169</td>\n      <td>0.709692</td>\n    </tr>\n    <tr>\n      <th>188</th>\n      <td>South Africa</td>\n      <td>0.666262</td>\n      <td>0.667446</td>\n      <td>0.665338</td>\n      <td>0.659908</td>\n      <td>0.651246</td>\n      <td>0.639400</td>\n      <td>0.624538</td>\n      <td>0.607523</td>\n      <td>0.589462</td>\n      <td>...</td>\n      <td>0.579523</td>\n      <td>0.598385</td>\n      <td>0.616308</td>\n      <td>0.632292</td>\n      <td>0.645662</td>\n      <td>0.656138</td>\n      <td>0.663892</td>\n      <td>0.669815</td>\n      <td>0.674723</td>\n      <td>0.678923</td>\n    </tr>\n    <tr>\n      <th>189</th>\n      <td>Zambia</td>\n      <td>0.449985</td>\n      <td>0.432692</td>\n      <td>0.415185</td>\n      <td>0.398754</td>\n      <td>0.384354</td>\n      <td>0.372954</td>\n      <td>0.365154</td>\n      <td>0.360938</td>\n      <td>0.360200</td>\n      <td>...</td>\n      <td>0.548538</td>\n      <td>0.571169</td>\n      <td>0.592338</td>\n      <td>0.611477</td>\n      <td>0.628169</td>\n      <td>0.642108</td>\n      <td>0.653292</td>\n      <td>0.662200</td>\n      <td>0.669385</td>\n      <td>0.675231</td>\n    </tr>\n    <tr>\n      <th>190</th>\n      <td>Zimbabwe</td>\n      <td>0.586154</td>\n      <td>0.565369</td>\n      <td>0.542200</td>\n      <td>0.517738</td>\n      <td>0.492985</td>\n      <td>0.468923</td>\n      <td>0.446292</td>\n      <td>0.425554</td>\n      <td>0.407169</td>\n      <td>...</td>\n      <td>0.471385</td>\n      <td>0.506092</td>\n      <td>0.538954</td>\n      <td>0.567646</td>\n      <td>0.590923</td>\n      <td>0.608215</td>\n      <td>0.619908</td>\n      <td>0.627877</td>\n      <td>0.633769</td>\n      <td>0.638308</td>\n    </tr>\n  </tbody>\n</table>\n<p>191 rows × 31 columns</p>\n</div>"
     },
     "metadata": {},
     "execution_count": 58
    }
   ],
   "source": [
    "salud"
   ]
  },
  {
   "source": [
    "### Calculo del Indice de Salud\n",
    "Obtencion de los registros del indicador correspondiente a la expectativa de años de vida al nacer (`ID` = 69206)"
   ],
   "cell_type": "markdown",
   "metadata": {}
  },
  {
   "cell_type": "code",
   "execution_count": 38,
   "metadata": {},
   "outputs": [],
   "source": [
    "data = get_data('195706')"
   ]
  },
  {
   "source": [
    "Creación del `DataFrame` con los datos normalizados y visualización de `head` y `tail`"
   ],
   "cell_type": "markdown",
   "metadata": {}
  },
  {
   "cell_type": "code",
   "execution_count": 39,
   "metadata": {},
   "outputs": [
    {
     "output_type": "execute_result",
     "data": {
      "text/plain": [
       "                  Country        1990       1991       1992       1993  \\\n",
       "0             Afghanistan    2477.906   2059.950   1921.695   1320.535   \n",
       "1                  Angola    4823.397   5380.463   2064.354   2024.850   \n",
       "2                 Albania    4937.523   3496.390   3207.627   3684.634   \n",
       "3                 Andorra   45393.316  44773.183  43487.951  41568.988   \n",
       "4    United Arab Emirates  102433.229  96250.378  93043.562  92505.415   \n",
       "..                    ...         ...        ...        ...        ...   \n",
       "186                 Samoa    5938.879   5697.935   5433.785   5682.170   \n",
       "187                 Yemen    2958.129   2788.322   2762.329   2749.622   \n",
       "188          South Africa    9974.994   9725.792   9312.598   9212.297   \n",
       "189                Zambia    2015.630   1866.013   1818.721   1940.969   \n",
       "190              Zimbabwe    1866.265   1923.188   1737.694   1749.344   \n",
       "\n",
       "          1994        1995        1996        1997       1998  ...       2010  \\\n",
       "0      950.897    1344.364    1223.441    1130.017   1057.778  ...   1917.395   \n",
       "1     1550.029    3396.198    3357.465    3962.468   3884.616  ...   6913.161   \n",
       "2     4102.593    4771.803    5252.751    4681.337   5115.353  ...  10774.722   \n",
       "3    41401.230   41761.304   43356.786   47312.497  48964.850  ...  49261.522   \n",
       "4    96784.515  101303.368  101490.336  103567.129  99915.860  ...  54911.287   \n",
       "..         ...         ...         ...         ...        ...  ...        ...   \n",
       "186   3700.967    3931.255    4370.056    4379.692   4477.627  ...   6062.656   \n",
       "187   2681.535    2915.890    3232.027    3325.112   3504.726  ...   4304.374   \n",
       "188   9312.299    9387.381    9582.037    9660.656   9537.183  ...  12195.419   \n",
       "189   1755.783    1763.636    1836.819    1853.643   1787.271  ...   2872.212   \n",
       "190   1813.452    1781.784    1963.567    1947.604   1909.395  ...   2016.348   \n",
       "\n",
       "          2011       2012       2013       2014       2015       2016  \\\n",
       "0     2013.614   2164.641   2229.907   2214.414   2128.162   2134.866   \n",
       "1     6887.004   7282.050   7478.856   7704.368   7652.152   7189.032   \n",
       "2    11237.447  11365.140  11806.358  11951.263  12273.473  12753.307   \n",
       "3    47366.247  47347.416  48486.415  50567.870  51779.832  53245.151   \n",
       "4    56152.975  57447.351  60007.281  62499.798  65528.563  66881.303   \n",
       "..         ...        ...        ...        ...        ...        ...   \n",
       "186   5969.899   5703.125   5693.886   5780.675   6237.246   6409.360   \n",
       "187   3493.180   3600.009   3607.262   3136.621   2194.613   1845.552   \n",
       "188  12346.453  12403.797  12523.410  12549.480  12528.094  12356.603   \n",
       "189   2873.238   3333.817   3389.723   3263.274   3403.717   3237.725   \n",
       "190   2221.670   2576.404   2673.651   2697.399   2657.714   2681.446   \n",
       "\n",
       "          2017       2018       2019  \n",
       "0     2229.658   2217.176   2229.362  \n",
       "1     6861.581   6360.551   6104.055  \n",
       "2    13071.095  13636.864  13998.300  \n",
       "3    54371.345  55253.539  56000.303  \n",
       "4    67667.530  67195.144  67462.095  \n",
       "..         ...        ...        ...  \n",
       "186   6287.699   6126.974   6308.652  \n",
       "187   1619.640   1563.988   1593.704  \n",
       "188  12322.437  12231.840  12129.230  \n",
       "189   3330.785   3365.698   3325.519  \n",
       "190   2758.778   2942.030   2665.612  \n",
       "\n",
       "[191 rows x 31 columns]"
      ],
      "text/html": "<div>\n<style scoped>\n    .dataframe tbody tr th:only-of-type {\n        vertical-align: middle;\n    }\n\n    .dataframe tbody tr th {\n        vertical-align: top;\n    }\n\n    .dataframe thead th {\n        text-align: right;\n    }\n</style>\n<table border=\"1\" class=\"dataframe\">\n  <thead>\n    <tr style=\"text-align: right;\">\n      <th></th>\n      <th>Country</th>\n      <th>1990</th>\n      <th>1991</th>\n      <th>1992</th>\n      <th>1993</th>\n      <th>1994</th>\n      <th>1995</th>\n      <th>1996</th>\n      <th>1997</th>\n      <th>1998</th>\n      <th>...</th>\n      <th>2010</th>\n      <th>2011</th>\n      <th>2012</th>\n      <th>2013</th>\n      <th>2014</th>\n      <th>2015</th>\n      <th>2016</th>\n      <th>2017</th>\n      <th>2018</th>\n      <th>2019</th>\n    </tr>\n  </thead>\n  <tbody>\n    <tr>\n      <th>0</th>\n      <td>Afghanistan</td>\n      <td>2477.906</td>\n      <td>2059.950</td>\n      <td>1921.695</td>\n      <td>1320.535</td>\n      <td>950.897</td>\n      <td>1344.364</td>\n      <td>1223.441</td>\n      <td>1130.017</td>\n      <td>1057.778</td>\n      <td>...</td>\n      <td>1917.395</td>\n      <td>2013.614</td>\n      <td>2164.641</td>\n      <td>2229.907</td>\n      <td>2214.414</td>\n      <td>2128.162</td>\n      <td>2134.866</td>\n      <td>2229.658</td>\n      <td>2217.176</td>\n      <td>2229.362</td>\n    </tr>\n    <tr>\n      <th>1</th>\n      <td>Angola</td>\n      <td>4823.397</td>\n      <td>5380.463</td>\n      <td>2064.354</td>\n      <td>2024.850</td>\n      <td>1550.029</td>\n      <td>3396.198</td>\n      <td>3357.465</td>\n      <td>3962.468</td>\n      <td>3884.616</td>\n      <td>...</td>\n      <td>6913.161</td>\n      <td>6887.004</td>\n      <td>7282.050</td>\n      <td>7478.856</td>\n      <td>7704.368</td>\n      <td>7652.152</td>\n      <td>7189.032</td>\n      <td>6861.581</td>\n      <td>6360.551</td>\n      <td>6104.055</td>\n    </tr>\n    <tr>\n      <th>2</th>\n      <td>Albania</td>\n      <td>4937.523</td>\n      <td>3496.390</td>\n      <td>3207.627</td>\n      <td>3684.634</td>\n      <td>4102.593</td>\n      <td>4771.803</td>\n      <td>5252.751</td>\n      <td>4681.337</td>\n      <td>5115.353</td>\n      <td>...</td>\n      <td>10774.722</td>\n      <td>11237.447</td>\n      <td>11365.140</td>\n      <td>11806.358</td>\n      <td>11951.263</td>\n      <td>12273.473</td>\n      <td>12753.307</td>\n      <td>13071.095</td>\n      <td>13636.864</td>\n      <td>13998.300</td>\n    </tr>\n    <tr>\n      <th>3</th>\n      <td>Andorra</td>\n      <td>45393.316</td>\n      <td>44773.183</td>\n      <td>43487.951</td>\n      <td>41568.988</td>\n      <td>41401.230</td>\n      <td>41761.304</td>\n      <td>43356.786</td>\n      <td>47312.497</td>\n      <td>48964.850</td>\n      <td>...</td>\n      <td>49261.522</td>\n      <td>47366.247</td>\n      <td>47347.416</td>\n      <td>48486.415</td>\n      <td>50567.870</td>\n      <td>51779.832</td>\n      <td>53245.151</td>\n      <td>54371.345</td>\n      <td>55253.539</td>\n      <td>56000.303</td>\n    </tr>\n    <tr>\n      <th>4</th>\n      <td>United Arab Emirates</td>\n      <td>102433.229</td>\n      <td>96250.378</td>\n      <td>93043.562</td>\n      <td>92505.415</td>\n      <td>96784.515</td>\n      <td>101303.368</td>\n      <td>101490.336</td>\n      <td>103567.129</td>\n      <td>99915.860</td>\n      <td>...</td>\n      <td>54911.287</td>\n      <td>56152.975</td>\n      <td>57447.351</td>\n      <td>60007.281</td>\n      <td>62499.798</td>\n      <td>65528.563</td>\n      <td>66881.303</td>\n      <td>67667.530</td>\n      <td>67195.144</td>\n      <td>67462.095</td>\n    </tr>\n    <tr>\n      <th>...</th>\n      <td>...</td>\n      <td>...</td>\n      <td>...</td>\n      <td>...</td>\n      <td>...</td>\n      <td>...</td>\n      <td>...</td>\n      <td>...</td>\n      <td>...</td>\n      <td>...</td>\n      <td>...</td>\n      <td>...</td>\n      <td>...</td>\n      <td>...</td>\n      <td>...</td>\n      <td>...</td>\n      <td>...</td>\n      <td>...</td>\n      <td>...</td>\n      <td>...</td>\n      <td>...</td>\n    </tr>\n    <tr>\n      <th>186</th>\n      <td>Samoa</td>\n      <td>5938.879</td>\n      <td>5697.935</td>\n      <td>5433.785</td>\n      <td>5682.170</td>\n      <td>3700.967</td>\n      <td>3931.255</td>\n      <td>4370.056</td>\n      <td>4379.692</td>\n      <td>4477.627</td>\n      <td>...</td>\n      <td>6062.656</td>\n      <td>5969.899</td>\n      <td>5703.125</td>\n      <td>5693.886</td>\n      <td>5780.675</td>\n      <td>6237.246</td>\n      <td>6409.360</td>\n      <td>6287.699</td>\n      <td>6126.974</td>\n      <td>6308.652</td>\n    </tr>\n    <tr>\n      <th>187</th>\n      <td>Yemen</td>\n      <td>2958.129</td>\n      <td>2788.322</td>\n      <td>2762.329</td>\n      <td>2749.622</td>\n      <td>2681.535</td>\n      <td>2915.890</td>\n      <td>3232.027</td>\n      <td>3325.112</td>\n      <td>3504.726</td>\n      <td>...</td>\n      <td>4304.374</td>\n      <td>3493.180</td>\n      <td>3600.009</td>\n      <td>3607.262</td>\n      <td>3136.621</td>\n      <td>2194.613</td>\n      <td>1845.552</td>\n      <td>1619.640</td>\n      <td>1563.988</td>\n      <td>1593.704</td>\n    </tr>\n    <tr>\n      <th>188</th>\n      <td>South Africa</td>\n      <td>9974.994</td>\n      <td>9725.792</td>\n      <td>9312.598</td>\n      <td>9212.297</td>\n      <td>9312.299</td>\n      <td>9387.381</td>\n      <td>9582.037</td>\n      <td>9660.656</td>\n      <td>9537.183</td>\n      <td>...</td>\n      <td>12195.419</td>\n      <td>12346.453</td>\n      <td>12403.797</td>\n      <td>12523.410</td>\n      <td>12549.480</td>\n      <td>12528.094</td>\n      <td>12356.603</td>\n      <td>12322.437</td>\n      <td>12231.840</td>\n      <td>12129.230</td>\n    </tr>\n    <tr>\n      <th>189</th>\n      <td>Zambia</td>\n      <td>2015.630</td>\n      <td>1866.013</td>\n      <td>1818.721</td>\n      <td>1940.969</td>\n      <td>1755.783</td>\n      <td>1763.636</td>\n      <td>1836.819</td>\n      <td>1853.643</td>\n      <td>1787.271</td>\n      <td>...</td>\n      <td>2872.212</td>\n      <td>2873.238</td>\n      <td>3333.817</td>\n      <td>3389.723</td>\n      <td>3263.274</td>\n      <td>3403.717</td>\n      <td>3237.725</td>\n      <td>3330.785</td>\n      <td>3365.698</td>\n      <td>3325.519</td>\n    </tr>\n    <tr>\n      <th>190</th>\n      <td>Zimbabwe</td>\n      <td>1866.265</td>\n      <td>1923.188</td>\n      <td>1737.694</td>\n      <td>1749.344</td>\n      <td>1813.452</td>\n      <td>1781.784</td>\n      <td>1963.567</td>\n      <td>1947.604</td>\n      <td>1909.395</td>\n      <td>...</td>\n      <td>2016.348</td>\n      <td>2221.670</td>\n      <td>2576.404</td>\n      <td>2673.651</td>\n      <td>2697.399</td>\n      <td>2657.714</td>\n      <td>2681.446</td>\n      <td>2758.778</td>\n      <td>2942.030</td>\n      <td>2665.612</td>\n    </tr>\n  </tbody>\n</table>\n<p>191 rows × 31 columns</p>\n</div>"
     },
     "metadata": {},
     "execution_count": 39
    }
   ],
   "source": [
    "ingreso = pd.DataFrame(data)\n",
    "ingreso"
   ]
  },
  {
   "source": [
    "* Dimensiones del `DataFrame`\n",
    "    * 191 filas\n",
    "    * 31 columnas"
   ],
   "cell_type": "markdown",
   "metadata": {}
  },
  {
   "cell_type": "code",
   "execution_count": 40,
   "metadata": {},
   "outputs": [
    {
     "output_type": "execute_result",
     "data": {
      "text/plain": [
       "(191, 31)"
      ]
     },
     "metadata": {},
     "execution_count": 40
    }
   ],
   "source": [
    "ingreso.shape"
   ]
  },
  {
   "source": [
    "* Nombre de las columnas"
   ],
   "cell_type": "markdown",
   "metadata": {}
  },
  {
   "cell_type": "code",
   "execution_count": 41,
   "metadata": {},
   "outputs": [
    {
     "output_type": "execute_result",
     "data": {
      "text/plain": [
       "Index(['Country', '1990', '1991', '1992', '1993', '1994', '1995', '1996',\n",
       "       '1997', '1998', '1999', '2000', '2001', '2002', '2003', '2004', '2005',\n",
       "       '2006', '2007', '2008', '2009', '2010', '2011', '2012', '2013', '2014',\n",
       "       '2015', '2016', '2017', '2018', '2019'],\n",
       "      dtype='object')"
      ]
     },
     "metadata": {},
     "execution_count": 41
    }
   ],
   "source": [
    "ingreso.columns"
   ]
  },
  {
   "source": [
    "#### Calculo del Indice de Ingreso por paises.\n",
    "\n",
    "Se explica a continuación como se realizo el calculo del indice de ingreso por pais.\n",
    "Primeramente se presenta lo que es la formula que se uso:\n",
    "\n",
    "$$\\Huge\\Huge\\frac{\\log(\\alpha) - \\log(\\theta)}{\\log(\\gamma) - \\log(\\theta)}$$\n",
    "\n",
    "Donde:\n",
    "\n",
    "* $\\alpha$ : Es el ingreso nacional bruto.\n",
    "* $\\theta$ : Es el ingreso nacional bruto minimo. En el documento __*Human Development Report 2020*__ se especifica 75,000.\n",
    "* $\\gamma$ : Es el ingreso nacional bruto maximo. En el documento __*Human Development Report 2020*__ se especifica 100,000.\n",
    "\n",
    "\n",
    "Este calculo se realizo por cada pais en cada uno de los años."
   ],
   "cell_type": "markdown",
   "metadata": {}
  },
  {
   "cell_type": "code",
   "execution_count": 42,
   "metadata": {},
   "outputs": [],
   "source": [
    "#Calculo del \"Indice_Ingreso\"\n",
    "for i in range(1990,2020):\n",
    "    ind = str(i)\n",
    "    ingreso[ind] = (np.log(ingreso[ind])-np.log(100))/(np.log(75000)-np.log(100))"
   ]
  },
  {
   "source": [
    "Resultado del calculo del indice de ingreso por cada país en cada uno de sus periodos."
   ],
   "cell_type": "markdown",
   "metadata": {}
  },
  {
   "cell_type": "code",
   "execution_count": 43,
   "metadata": {},
   "outputs": [
    {
     "output_type": "execute_result",
     "data": {
      "text/plain": [
       "                  Country      1990      1991      1992      1993      1994  \\\n",
       "0             Afghanistan  0.484889  0.456984  0.446489  0.389818  0.340213   \n",
       "1                  Angola  0.585502  0.602011  0.457306  0.454388  0.414022   \n",
       "2                 Albania  0.589034  0.536900  0.523879  0.544821  0.561052   \n",
       "3                 Andorra  0.924151  0.922074  0.917674  0.910857  0.910246   \n",
       "4    United Arab Emirates  1.047088  1.037683  1.032565  1.031688  1.038519   \n",
       "..                    ...       ...       ...       ...       ...       ...   \n",
       "186                 Samoa  0.616928  0.610671  0.603501  0.610253  0.545489   \n",
       "187                 Yemen  0.511647  0.502717  0.501303  0.500606  0.496818   \n",
       "188          South Africa  0.695259  0.691437  0.684880  0.683244  0.684875   \n",
       "189                Zambia  0.453698  0.442048  0.438170  0.447997  0.432850   \n",
       "190              Zimbabwe  0.442068  0.446607  0.431286  0.432295  0.437732   \n",
       "\n",
       "         1995      1996      1997      1998  ...      2010      2011  \\\n",
       "0    0.392519  0.378282  0.366283  0.356304  ...  0.446151  0.453547   \n",
       "1    0.532508  0.530775  0.555802  0.552805  ...  0.639874  0.639301   \n",
       "2    0.583877  0.598383  0.580986  0.594379  ...  0.706909  0.713261   \n",
       "3    0.911554  0.917218  0.930407  0.935592  ...  0.936505  0.930578   \n",
       "4    1.045412  1.045691  1.048750  1.043329  ...  0.952905  0.956283   \n",
       "..        ...       ...       ...       ...  ...       ...       ...   \n",
       "186  0.554608  0.570592  0.570925  0.574265  ...  0.620043  0.617714   \n",
       "187  0.509475  0.525024  0.529313  0.537260  ...  0.568304  0.536761   \n",
       "188  0.686088  0.689188  0.690422  0.688479  ...  0.725618  0.727477   \n",
       "189  0.433524  0.439666  0.441043  0.435535  ...  0.507195  0.507249   \n",
       "190  0.435071  0.449745  0.448512  0.445519  ...  0.453752  0.468400   \n",
       "\n",
       "         2012      2013      2014      2015      2016      2017      2018  \\\n",
       "0    0.464472  0.468959  0.467906  0.461905  0.462380  0.468942  0.468094   \n",
       "1    0.647727  0.651755  0.656242  0.655215  0.645785  0.638743  0.627289   \n",
       "2    0.714967  0.720721  0.722563  0.726582  0.732375  0.736093  0.742494   \n",
       "3    0.930518  0.934109  0.940458  0.944036  0.948251  0.951413  0.953844   \n",
       "4    0.959726  0.966311  0.972459  0.979607  0.982694  0.984459  0.983401   \n",
       "..        ...       ...       ...       ...       ...       ...       ...   \n",
       "186  0.610809  0.610564  0.612849  0.624332  0.628444  0.625549  0.621638   \n",
       "187  0.541311  0.541615  0.520497  0.466549  0.440382  0.420658  0.415377   \n",
       "188  0.728177  0.729627  0.729941  0.729684  0.727602  0.727183  0.726069   \n",
       "189  0.529708  0.532220  0.526477  0.532842  0.525290  0.529570  0.531145   \n",
       "190  0.490777  0.496374  0.497709  0.495471  0.496813  0.501108  0.510823   \n",
       "\n",
       "         2019  \n",
       "0    0.468922  \n",
       "1    0.621071  \n",
       "2    0.746445  \n",
       "3    0.955872  \n",
       "4    0.984000  \n",
       "..        ...  \n",
       "186  0.626052  \n",
       "187  0.418220  \n",
       "188  0.724796  \n",
       "189  0.529331  \n",
       "190  0.495919  \n",
       "\n",
       "[191 rows x 31 columns]"
      ],
      "text/html": "<div>\n<style scoped>\n    .dataframe tbody tr th:only-of-type {\n        vertical-align: middle;\n    }\n\n    .dataframe tbody tr th {\n        vertical-align: top;\n    }\n\n    .dataframe thead th {\n        text-align: right;\n    }\n</style>\n<table border=\"1\" class=\"dataframe\">\n  <thead>\n    <tr style=\"text-align: right;\">\n      <th></th>\n      <th>Country</th>\n      <th>1990</th>\n      <th>1991</th>\n      <th>1992</th>\n      <th>1993</th>\n      <th>1994</th>\n      <th>1995</th>\n      <th>1996</th>\n      <th>1997</th>\n      <th>1998</th>\n      <th>...</th>\n      <th>2010</th>\n      <th>2011</th>\n      <th>2012</th>\n      <th>2013</th>\n      <th>2014</th>\n      <th>2015</th>\n      <th>2016</th>\n      <th>2017</th>\n      <th>2018</th>\n      <th>2019</th>\n    </tr>\n  </thead>\n  <tbody>\n    <tr>\n      <th>0</th>\n      <td>Afghanistan</td>\n      <td>0.484889</td>\n      <td>0.456984</td>\n      <td>0.446489</td>\n      <td>0.389818</td>\n      <td>0.340213</td>\n      <td>0.392519</td>\n      <td>0.378282</td>\n      <td>0.366283</td>\n      <td>0.356304</td>\n      <td>...</td>\n      <td>0.446151</td>\n      <td>0.453547</td>\n      <td>0.464472</td>\n      <td>0.468959</td>\n      <td>0.467906</td>\n      <td>0.461905</td>\n      <td>0.462380</td>\n      <td>0.468942</td>\n      <td>0.468094</td>\n      <td>0.468922</td>\n    </tr>\n    <tr>\n      <th>1</th>\n      <td>Angola</td>\n      <td>0.585502</td>\n      <td>0.602011</td>\n      <td>0.457306</td>\n      <td>0.454388</td>\n      <td>0.414022</td>\n      <td>0.532508</td>\n      <td>0.530775</td>\n      <td>0.555802</td>\n      <td>0.552805</td>\n      <td>...</td>\n      <td>0.639874</td>\n      <td>0.639301</td>\n      <td>0.647727</td>\n      <td>0.651755</td>\n      <td>0.656242</td>\n      <td>0.655215</td>\n      <td>0.645785</td>\n      <td>0.638743</td>\n      <td>0.627289</td>\n      <td>0.621071</td>\n    </tr>\n    <tr>\n      <th>2</th>\n      <td>Albania</td>\n      <td>0.589034</td>\n      <td>0.536900</td>\n      <td>0.523879</td>\n      <td>0.544821</td>\n      <td>0.561052</td>\n      <td>0.583877</td>\n      <td>0.598383</td>\n      <td>0.580986</td>\n      <td>0.594379</td>\n      <td>...</td>\n      <td>0.706909</td>\n      <td>0.713261</td>\n      <td>0.714967</td>\n      <td>0.720721</td>\n      <td>0.722563</td>\n      <td>0.726582</td>\n      <td>0.732375</td>\n      <td>0.736093</td>\n      <td>0.742494</td>\n      <td>0.746445</td>\n    </tr>\n    <tr>\n      <th>3</th>\n      <td>Andorra</td>\n      <td>0.924151</td>\n      <td>0.922074</td>\n      <td>0.917674</td>\n      <td>0.910857</td>\n      <td>0.910246</td>\n      <td>0.911554</td>\n      <td>0.917218</td>\n      <td>0.930407</td>\n      <td>0.935592</td>\n      <td>...</td>\n      <td>0.936505</td>\n      <td>0.930578</td>\n      <td>0.930518</td>\n      <td>0.934109</td>\n      <td>0.940458</td>\n      <td>0.944036</td>\n      <td>0.948251</td>\n      <td>0.951413</td>\n      <td>0.953844</td>\n      <td>0.955872</td>\n    </tr>\n    <tr>\n      <th>4</th>\n      <td>United Arab Emirates</td>\n      <td>1.047088</td>\n      <td>1.037683</td>\n      <td>1.032565</td>\n      <td>1.031688</td>\n      <td>1.038519</td>\n      <td>1.045412</td>\n      <td>1.045691</td>\n      <td>1.048750</td>\n      <td>1.043329</td>\n      <td>...</td>\n      <td>0.952905</td>\n      <td>0.956283</td>\n      <td>0.959726</td>\n      <td>0.966311</td>\n      <td>0.972459</td>\n      <td>0.979607</td>\n      <td>0.982694</td>\n      <td>0.984459</td>\n      <td>0.983401</td>\n      <td>0.984000</td>\n    </tr>\n    <tr>\n      <th>...</th>\n      <td>...</td>\n      <td>...</td>\n      <td>...</td>\n      <td>...</td>\n      <td>...</td>\n      <td>...</td>\n      <td>...</td>\n      <td>...</td>\n      <td>...</td>\n      <td>...</td>\n      <td>...</td>\n      <td>...</td>\n      <td>...</td>\n      <td>...</td>\n      <td>...</td>\n      <td>...</td>\n      <td>...</td>\n      <td>...</td>\n      <td>...</td>\n      <td>...</td>\n      <td>...</td>\n    </tr>\n    <tr>\n      <th>186</th>\n      <td>Samoa</td>\n      <td>0.616928</td>\n      <td>0.610671</td>\n      <td>0.603501</td>\n      <td>0.610253</td>\n      <td>0.545489</td>\n      <td>0.554608</td>\n      <td>0.570592</td>\n      <td>0.570925</td>\n      <td>0.574265</td>\n      <td>...</td>\n      <td>0.620043</td>\n      <td>0.617714</td>\n      <td>0.610809</td>\n      <td>0.610564</td>\n      <td>0.612849</td>\n      <td>0.624332</td>\n      <td>0.628444</td>\n      <td>0.625549</td>\n      <td>0.621638</td>\n      <td>0.626052</td>\n    </tr>\n    <tr>\n      <th>187</th>\n      <td>Yemen</td>\n      <td>0.511647</td>\n      <td>0.502717</td>\n      <td>0.501303</td>\n      <td>0.500606</td>\n      <td>0.496818</td>\n      <td>0.509475</td>\n      <td>0.525024</td>\n      <td>0.529313</td>\n      <td>0.537260</td>\n      <td>...</td>\n      <td>0.568304</td>\n      <td>0.536761</td>\n      <td>0.541311</td>\n      <td>0.541615</td>\n      <td>0.520497</td>\n      <td>0.466549</td>\n      <td>0.440382</td>\n      <td>0.420658</td>\n      <td>0.415377</td>\n      <td>0.418220</td>\n    </tr>\n    <tr>\n      <th>188</th>\n      <td>South Africa</td>\n      <td>0.695259</td>\n      <td>0.691437</td>\n      <td>0.684880</td>\n      <td>0.683244</td>\n      <td>0.684875</td>\n      <td>0.686088</td>\n      <td>0.689188</td>\n      <td>0.690422</td>\n      <td>0.688479</td>\n      <td>...</td>\n      <td>0.725618</td>\n      <td>0.727477</td>\n      <td>0.728177</td>\n      <td>0.729627</td>\n      <td>0.729941</td>\n      <td>0.729684</td>\n      <td>0.727602</td>\n      <td>0.727183</td>\n      <td>0.726069</td>\n      <td>0.724796</td>\n    </tr>\n    <tr>\n      <th>189</th>\n      <td>Zambia</td>\n      <td>0.453698</td>\n      <td>0.442048</td>\n      <td>0.438170</td>\n      <td>0.447997</td>\n      <td>0.432850</td>\n      <td>0.433524</td>\n      <td>0.439666</td>\n      <td>0.441043</td>\n      <td>0.435535</td>\n      <td>...</td>\n      <td>0.507195</td>\n      <td>0.507249</td>\n      <td>0.529708</td>\n      <td>0.532220</td>\n      <td>0.526477</td>\n      <td>0.532842</td>\n      <td>0.525290</td>\n      <td>0.529570</td>\n      <td>0.531145</td>\n      <td>0.529331</td>\n    </tr>\n    <tr>\n      <th>190</th>\n      <td>Zimbabwe</td>\n      <td>0.442068</td>\n      <td>0.446607</td>\n      <td>0.431286</td>\n      <td>0.432295</td>\n      <td>0.437732</td>\n      <td>0.435071</td>\n      <td>0.449745</td>\n      <td>0.448512</td>\n      <td>0.445519</td>\n      <td>...</td>\n      <td>0.453752</td>\n      <td>0.468400</td>\n      <td>0.490777</td>\n      <td>0.496374</td>\n      <td>0.497709</td>\n      <td>0.495471</td>\n      <td>0.496813</td>\n      <td>0.501108</td>\n      <td>0.510823</td>\n      <td>0.495919</td>\n    </tr>\n  </tbody>\n</table>\n<p>191 rows × 31 columns</p>\n</div>"
     },
     "metadata": {},
     "execution_count": 43
    }
   ],
   "source": [
    "ingreso"
   ]
  },
  {
   "source": [
    "### Calculo del Indice de Desarrollo Humano (`IDH`)\n",
    "Apoyandose de los datos obtenidos y calculados con anterioridad se procederá a calcular el `IDH`, donde, de manera similar al Indice de Educación, se generarán un dataframe vacio que contendra el Indice calculado "
   ],
   "cell_type": "markdown",
   "metadata": {}
  },
  {
   "cell_type": "code",
   "execution_count": 51,
   "metadata": {},
   "outputs": [],
   "source": [
    "header = ['Country']\n",
    "indice_desarrollo_humano = pd.DataFrame({}, columns=header)"
   ]
  },
  {
   "source": [
    "#### Calculo del Indice de Desarrollo Humano por paises.\n",
    "\n",
    "Se explica a continuación como se realizo el calculo del indice de salud por pais.\n",
    "Primeramente se presenta lo que es la formula que se uso:\n",
    "\n",
    "$$\\Huge\\Huge{IDH=\\left(I_{Salud}+I_{Educacion}+I_{Ingreso}\\right)^{\\frac{1}{3}}}$$\n",
    "\n",
    "Donde:\n",
    "\n",
    "* $IDH$ : Es el indice de desarrollo humano\n",
    "* $I_{Salud}$ : Es el indice de salud.\n",
    "* $I_{Educacion}$ : Es el indice de educación\n",
    "* $I_{Ingreso}$ : Es el indice de ingreso.\n",
    "\n",
    "\n",
    "Este calculo se realizo por cada pais en cada uno de los años."
   ],
   "cell_type": "markdown",
   "metadata": {}
  },
  {
   "cell_type": "code",
   "execution_count": 52,
   "metadata": {},
   "outputs": [],
   "source": [
    "def IDH(_pais, salud, educacion, ingreso):\n",
    "    dicci = {\n",
    "        \"Country\": _pais\n",
    "    }\n",
    "    s, e, i = salud[0][1:], educacion[0][1:], ingreso[0][1:]\n",
    "    idh = np.power((s * e * i), (1/3))\n",
    "\n",
    "    for i in range(1990, 2020):\n",
    "        dicci[str(i)] = idh[i - 1990]\n",
    "    return dicci\n",
    "\n",
    "\n",
    "for country in educacion[\"Country\"]:\n",
    "    i_salud = salud.loc[salud.Country == country].to_numpy()\n",
    "    i_educacion = educacion.loc[educacion.Country == country].to_numpy()\n",
    "    i_ingreso = ingreso.loc[ingreso.Country == country].to_numpy()\n",
    "    if len(i_salud) > 0 and len(i_educacion) > 0 and len(i_ingreso) > 0:\n",
    "        indice_desarrollo_humano = indice_desarrollo_humano.append(\n",
    "            IDH(country, i_salud, i_educacion, i_ingreso),\n",
    "            ignore_index= True)"
   ]
  },
  {
   "source": [
    "Resultado del calculo del indice de desarrollo humano por cada país en cada uno de sus periodos."
   ],
   "cell_type": "markdown",
   "metadata": {}
  },
  {
   "cell_type": "code",
   "execution_count": 57,
   "metadata": {},
   "outputs": [
    {
     "output_type": "execute_result",
     "data": {
      "text/plain": [
       "                  Country      1990      1991      1992      1993      1994  \\\n",
       "0             Afghanistan  0.301969  0.307349  0.315698  0.311545  0.306704   \n",
       "1                  Angola  0.279302  0.276516  0.251700  0.261568  0.256099   \n",
       "2                 Albania  0.649509  0.631199  0.614983  0.617664  0.623857   \n",
       "3                 Andorra  0.622343  0.622481  0.622117  0.621213  0.621738   \n",
       "4    United Arab Emirates  0.734672  0.743620  0.746320  0.752571  0.764489   \n",
       "..                    ...       ...       ...       ...       ...       ...   \n",
       "184                 Samoa  0.632903  0.633538  0.633789  0.638886  0.618115   \n",
       "185                 Yemen  0.400704  0.401410  0.403833  0.406271  0.407771   \n",
       "186          South Africa  0.627028  0.633859  0.642229  0.647862  0.650282   \n",
       "187                Zambia  0.420746  0.417393  0.415938  0.418700  0.413920   \n",
       "188              Zimbabwe  0.478383  0.481181  0.467421  0.462939  0.459599   \n",
       "\n",
       "         1995      1996      1997      1998  ...      2010      2011  \\\n",
       "0    0.330741  0.335027  0.339391  0.343925  ...  0.471596  0.476699   \n",
       "1    0.281362  0.284079  0.291727  0.294718  ...  0.517260  0.532542   \n",
       "2    0.636526  0.645523  0.645403  0.655441  ...  0.744501  0.763920   \n",
       "3    0.622763  0.624882  0.628824  0.631068  ...  0.837209  0.836501   \n",
       "4    0.775088  0.776830  0.778562  0.779812  ...  0.820365  0.826067   \n",
       "..        ...       ...       ...       ...  ...       ...       ...   \n",
       "184  0.624299  0.633153  0.635029  0.640719  ...  0.698499  0.700591   \n",
       "185  0.413770  0.421354  0.426049  0.431074  ...  0.505966  0.505955   \n",
       "186  0.653436  0.650426  0.645951  0.639971  ...  0.664029  0.664650   \n",
       "187  0.414861  0.415506  0.415946  0.415509  ...  0.526983  0.534188   \n",
       "188  0.453272  0.452836  0.447281  0.441681  ...  0.481912  0.499481   \n",
       "\n",
       "         2012      2013      2014      2015      2016      2017      2018  \\\n",
       "0    0.489384  0.496208  0.499687  0.499912  0.501872  0.506297  0.509414   \n",
       "1    0.544492  0.554749  0.564651  0.572441  0.577930  0.582449  0.581500   \n",
       "2    0.775068  0.781797  0.786781  0.787499  0.787709  0.790128  0.791796   \n",
       "3    0.858384  0.856293  0.863242  0.861973  0.865613  0.863365  0.867289   \n",
       "4    0.831772  0.838366  0.846887  0.859155  0.864289  0.880806  0.888589   \n",
       "..        ...       ...       ...       ...       ...       ...       ...   \n",
       "184  0.698044  0.699870  0.702575  0.707027  0.709533  0.709951  0.709095   \n",
       "185  0.504070  0.509378  0.501877  0.483497  0.473814  0.466629  0.467713   \n",
       "186  0.674878  0.684557  0.692735  0.701218  0.702650  0.704598  0.706892   \n",
       "187  0.549419  0.557295  0.560509  0.568866  0.571398  0.577504  0.581570   \n",
       "188  0.525484  0.537201  0.547159  0.552661  0.558262  0.563395  0.569181   \n",
       "\n",
       "         2019  \n",
       "0    0.511449  \n",
       "1    0.581311  \n",
       "2    0.794782  \n",
       "3    0.868483  \n",
       "4    0.889568  \n",
       "..        ...  \n",
       "184  0.715387  \n",
       "185  0.470202  \n",
       "186  0.709058  \n",
       "187  0.583990  \n",
       "188  0.570613  \n",
       "\n",
       "[189 rows x 31 columns]"
      ],
      "text/html": "<div>\n<style scoped>\n    .dataframe tbody tr th:only-of-type {\n        vertical-align: middle;\n    }\n\n    .dataframe tbody tr th {\n        vertical-align: top;\n    }\n\n    .dataframe thead th {\n        text-align: right;\n    }\n</style>\n<table border=\"1\" class=\"dataframe\">\n  <thead>\n    <tr style=\"text-align: right;\">\n      <th></th>\n      <th>Country</th>\n      <th>1990</th>\n      <th>1991</th>\n      <th>1992</th>\n      <th>1993</th>\n      <th>1994</th>\n      <th>1995</th>\n      <th>1996</th>\n      <th>1997</th>\n      <th>1998</th>\n      <th>...</th>\n      <th>2010</th>\n      <th>2011</th>\n      <th>2012</th>\n      <th>2013</th>\n      <th>2014</th>\n      <th>2015</th>\n      <th>2016</th>\n      <th>2017</th>\n      <th>2018</th>\n      <th>2019</th>\n    </tr>\n  </thead>\n  <tbody>\n    <tr>\n      <th>0</th>\n      <td>Afghanistan</td>\n      <td>0.301969</td>\n      <td>0.307349</td>\n      <td>0.315698</td>\n      <td>0.311545</td>\n      <td>0.306704</td>\n      <td>0.330741</td>\n      <td>0.335027</td>\n      <td>0.339391</td>\n      <td>0.343925</td>\n      <td>...</td>\n      <td>0.471596</td>\n      <td>0.476699</td>\n      <td>0.489384</td>\n      <td>0.496208</td>\n      <td>0.499687</td>\n      <td>0.499912</td>\n      <td>0.501872</td>\n      <td>0.506297</td>\n      <td>0.509414</td>\n      <td>0.511449</td>\n    </tr>\n    <tr>\n      <th>1</th>\n      <td>Angola</td>\n      <td>0.279302</td>\n      <td>0.276516</td>\n      <td>0.251700</td>\n      <td>0.261568</td>\n      <td>0.256099</td>\n      <td>0.281362</td>\n      <td>0.284079</td>\n      <td>0.291727</td>\n      <td>0.294718</td>\n      <td>...</td>\n      <td>0.517260</td>\n      <td>0.532542</td>\n      <td>0.544492</td>\n      <td>0.554749</td>\n      <td>0.564651</td>\n      <td>0.572441</td>\n      <td>0.577930</td>\n      <td>0.582449</td>\n      <td>0.581500</td>\n      <td>0.581311</td>\n    </tr>\n    <tr>\n      <th>2</th>\n      <td>Albania</td>\n      <td>0.649509</td>\n      <td>0.631199</td>\n      <td>0.614983</td>\n      <td>0.617664</td>\n      <td>0.623857</td>\n      <td>0.636526</td>\n      <td>0.645523</td>\n      <td>0.645403</td>\n      <td>0.655441</td>\n      <td>...</td>\n      <td>0.744501</td>\n      <td>0.763920</td>\n      <td>0.775068</td>\n      <td>0.781797</td>\n      <td>0.786781</td>\n      <td>0.787499</td>\n      <td>0.787709</td>\n      <td>0.790128</td>\n      <td>0.791796</td>\n      <td>0.794782</td>\n    </tr>\n    <tr>\n      <th>3</th>\n      <td>Andorra</td>\n      <td>0.622343</td>\n      <td>0.622481</td>\n      <td>0.622117</td>\n      <td>0.621213</td>\n      <td>0.621738</td>\n      <td>0.622763</td>\n      <td>0.624882</td>\n      <td>0.628824</td>\n      <td>0.631068</td>\n      <td>...</td>\n      <td>0.837209</td>\n      <td>0.836501</td>\n      <td>0.858384</td>\n      <td>0.856293</td>\n      <td>0.863242</td>\n      <td>0.861973</td>\n      <td>0.865613</td>\n      <td>0.863365</td>\n      <td>0.867289</td>\n      <td>0.868483</td>\n    </tr>\n    <tr>\n      <th>4</th>\n      <td>United Arab Emirates</td>\n      <td>0.734672</td>\n      <td>0.743620</td>\n      <td>0.746320</td>\n      <td>0.752571</td>\n      <td>0.764489</td>\n      <td>0.775088</td>\n      <td>0.776830</td>\n      <td>0.778562</td>\n      <td>0.779812</td>\n      <td>...</td>\n      <td>0.820365</td>\n      <td>0.826067</td>\n      <td>0.831772</td>\n      <td>0.838366</td>\n      <td>0.846887</td>\n      <td>0.859155</td>\n      <td>0.864289</td>\n      <td>0.880806</td>\n      <td>0.888589</td>\n      <td>0.889568</td>\n    </tr>\n    <tr>\n      <th>...</th>\n      <td>...</td>\n      <td>...</td>\n      <td>...</td>\n      <td>...</td>\n      <td>...</td>\n      <td>...</td>\n      <td>...</td>\n      <td>...</td>\n      <td>...</td>\n      <td>...</td>\n      <td>...</td>\n      <td>...</td>\n      <td>...</td>\n      <td>...</td>\n      <td>...</td>\n      <td>...</td>\n      <td>...</td>\n      <td>...</td>\n      <td>...</td>\n      <td>...</td>\n      <td>...</td>\n    </tr>\n    <tr>\n      <th>184</th>\n      <td>Samoa</td>\n      <td>0.632903</td>\n      <td>0.633538</td>\n      <td>0.633789</td>\n      <td>0.638886</td>\n      <td>0.618115</td>\n      <td>0.624299</td>\n      <td>0.633153</td>\n      <td>0.635029</td>\n      <td>0.640719</td>\n      <td>...</td>\n      <td>0.698499</td>\n      <td>0.700591</td>\n      <td>0.698044</td>\n      <td>0.699870</td>\n      <td>0.702575</td>\n      <td>0.707027</td>\n      <td>0.709533</td>\n      <td>0.709951</td>\n      <td>0.709095</td>\n      <td>0.715387</td>\n    </tr>\n    <tr>\n      <th>185</th>\n      <td>Yemen</td>\n      <td>0.400704</td>\n      <td>0.401410</td>\n      <td>0.403833</td>\n      <td>0.406271</td>\n      <td>0.407771</td>\n      <td>0.413770</td>\n      <td>0.421354</td>\n      <td>0.426049</td>\n      <td>0.431074</td>\n      <td>...</td>\n      <td>0.505966</td>\n      <td>0.505955</td>\n      <td>0.504070</td>\n      <td>0.509378</td>\n      <td>0.501877</td>\n      <td>0.483497</td>\n      <td>0.473814</td>\n      <td>0.466629</td>\n      <td>0.467713</td>\n      <td>0.470202</td>\n    </tr>\n    <tr>\n      <th>186</th>\n      <td>South Africa</td>\n      <td>0.627028</td>\n      <td>0.633859</td>\n      <td>0.642229</td>\n      <td>0.647862</td>\n      <td>0.650282</td>\n      <td>0.653436</td>\n      <td>0.650426</td>\n      <td>0.645951</td>\n      <td>0.639971</td>\n      <td>...</td>\n      <td>0.664029</td>\n      <td>0.664650</td>\n      <td>0.674878</td>\n      <td>0.684557</td>\n      <td>0.692735</td>\n      <td>0.701218</td>\n      <td>0.702650</td>\n      <td>0.704598</td>\n      <td>0.706892</td>\n      <td>0.709058</td>\n    </tr>\n    <tr>\n      <th>187</th>\n      <td>Zambia</td>\n      <td>0.420746</td>\n      <td>0.417393</td>\n      <td>0.415938</td>\n      <td>0.418700</td>\n      <td>0.413920</td>\n      <td>0.414861</td>\n      <td>0.415506</td>\n      <td>0.415946</td>\n      <td>0.415509</td>\n      <td>...</td>\n      <td>0.526983</td>\n      <td>0.534188</td>\n      <td>0.549419</td>\n      <td>0.557295</td>\n      <td>0.560509</td>\n      <td>0.568866</td>\n      <td>0.571398</td>\n      <td>0.577504</td>\n      <td>0.581570</td>\n      <td>0.583990</td>\n    </tr>\n    <tr>\n      <th>188</th>\n      <td>Zimbabwe</td>\n      <td>0.478383</td>\n      <td>0.481181</td>\n      <td>0.467421</td>\n      <td>0.462939</td>\n      <td>0.459599</td>\n      <td>0.453272</td>\n      <td>0.452836</td>\n      <td>0.447281</td>\n      <td>0.441681</td>\n      <td>...</td>\n      <td>0.481912</td>\n      <td>0.499481</td>\n      <td>0.525484</td>\n      <td>0.537201</td>\n      <td>0.547159</td>\n      <td>0.552661</td>\n      <td>0.558262</td>\n      <td>0.563395</td>\n      <td>0.569181</td>\n      <td>0.570613</td>\n    </tr>\n  </tbody>\n</table>\n<p>189 rows × 31 columns</p>\n</div>"
     },
     "metadata": {},
     "execution_count": 57
    }
   ],
   "source": [
    "indice_desarrollo_humano"
   ]
  },
  {
   "source": [
    "### Traduccion de los nombres de cada país de ingles a español\n",
    "Por cuestiones de comodidad, todos los nombres presentes en la columna `Country`, para ello se definio una nueva función que hará uso del modulo `google_trans_new`"
   ],
   "cell_type": "markdown",
   "metadata": {}
  },
  {
   "cell_type": "code",
   "execution_count": 67,
   "metadata": {},
   "outputs": [],
   "source": [
    "from google_trans_new import google_translator\n",
    "\n",
    "def translate(df: pd.DataFrame) -> pd.DataFrame:\n",
    "    translator = google_translator()\n",
    "    regs = df.Country.count()\n",
    "    for i in range(0, regs):\n",
    "        pais = translator.translate(df.Country[i], lang_tgt='es', lang_src='en')\n",
    "        df.Country[i] = pais.strip() if type(pais) is not list else pais[0].strip()\n",
    "    return df"
   ]
  },
  {
   "source": [
    "Posteriormente se llamara a la función anterior y se enciara como parametro el `DataFrame` llamado `indice_desarrollo_humano`"
   ],
   "cell_type": "markdown",
   "metadata": {}
  },
  {
   "cell_type": "code",
   "execution_count": 68,
   "metadata": {},
   "outputs": [],
   "source": [
    "indice_desarrollo_humano = translate(indice_desarrollo_humano)"
   ]
  },
  {
   "source": [
    "### Conservación de los indices calculados en un archivo CSV \n",
    "Una vez concretados todos los procedimientos planeados se conservarán los indices en un nuevo archivo `.csv`"
   ],
   "cell_type": "markdown",
   "metadata": {}
  },
  {
   "cell_type": "code",
   "execution_count": 69,
   "metadata": {},
   "outputs": [],
   "source": [
    "indice_desarrollo_humano.to_csv('HDI_data.csv', index=False)"
   ]
  }
 ]
}