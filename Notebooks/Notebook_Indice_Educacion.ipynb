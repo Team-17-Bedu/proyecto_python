{
 "cells": [
  {
   "cell_type": "markdown",
   "metadata": {
    "collapsed": true,
    "pycharm": {
     "name": "#%% md\n"
    }
   },
   "source": [
    "# Limpieza de los `DataFrames` relacionados con educación\n",
    "## Expectativa de años de escolaridad"
   ]
  },
  {
   "cell_type": "code",
   "execution_count": 151,
   "outputs": [],
   "source": [
    "import pandas as pd\n",
    "from scripts.translate import *"
   ],
   "metadata": {
    "collapsed": false,
    "pycharm": {
     "name": "#%%\n"
    }
   }
  },
  {
   "cell_type": "code",
   "execution_count": 152,
   "outputs": [],
   "source": [
    "expectativa = get_df_translated(\"Expected years of schooling (years).csv\")"
   ],
   "metadata": {
    "collapsed": false,
    "pycharm": {
     "name": "#%%\n"
    }
   }
  },
  {
   "cell_type": "code",
   "execution_count": 153,
   "outputs": [
    {
     "output_type": "execute_result",
     "data": {
      "text/plain": [
       "  HDI Rank      Country  1990  Unnamed: 3  1991  Unnamed: 5  1992  Unnamed: 7  \\\n",
       "0      169  Afganistán    2.6         NaN   2.9         NaN   3.2         NaN   \n",
       "1       69     Albania   11.6         NaN  11.8         NaN  10.7         NaN   \n",
       "2       91     Argelia    9.6         NaN   9.7         NaN   9.8         NaN   \n",
       "3       36     Andorra   10.8         NaN  10.8         NaN  10.8         NaN   \n",
       "4      148      Angola    3.4         NaN   3.3         NaN   3.2         NaN   \n",
       "\n",
       "   1993  Unnamed: 9  ...  2015  Unnamed: 53  2016  Unnamed: 55  2017  \\\n",
       "0   3.6         NaN  ...  10.2          NaN  10.3          NaN  10.1   \n",
       "1  10.1         NaN  ...  15.1          NaN  14.8          NaN  14.8   \n",
       "2   9.8         NaN  ...  14.2          NaN  14.2          NaN  14.4   \n",
       "3  10.8         NaN  ...  13.1          NaN  13.3          NaN  13.0   \n",
       "4   3.7         NaN  ...  11.0          NaN  11.4          NaN  11.8   \n",
       "\n",
       "   Unnamed: 57  2018  Unnamed: 59  2019  Unnamed: 61  \n",
       "0          NaN  10.1          NaN  10.2            a  \n",
       "1          NaN  14.7          NaN  14.7            a  \n",
       "2          NaN  14.5          NaN  14.6            a  \n",
       "3          NaN  13.3          NaN  13.3          a,b  \n",
       "4          NaN  11.8          NaN  11.8          a,c  \n",
       "\n",
       "[5 rows x 62 columns]"
      ],
      "text/html": "<div>\n<style scoped>\n    .dataframe tbody tr th:only-of-type {\n        vertical-align: middle;\n    }\n\n    .dataframe tbody tr th {\n        vertical-align: top;\n    }\n\n    .dataframe thead th {\n        text-align: right;\n    }\n</style>\n<table border=\"1\" class=\"dataframe\">\n  <thead>\n    <tr style=\"text-align: right;\">\n      <th></th>\n      <th>HDI Rank</th>\n      <th>Country</th>\n      <th>1990</th>\n      <th>Unnamed: 3</th>\n      <th>1991</th>\n      <th>Unnamed: 5</th>\n      <th>1992</th>\n      <th>Unnamed: 7</th>\n      <th>1993</th>\n      <th>Unnamed: 9</th>\n      <th>...</th>\n      <th>2015</th>\n      <th>Unnamed: 53</th>\n      <th>2016</th>\n      <th>Unnamed: 55</th>\n      <th>2017</th>\n      <th>Unnamed: 57</th>\n      <th>2018</th>\n      <th>Unnamed: 59</th>\n      <th>2019</th>\n      <th>Unnamed: 61</th>\n    </tr>\n  </thead>\n  <tbody>\n    <tr>\n      <th>0</th>\n      <td>169</td>\n      <td>Afganistán</td>\n      <td>2.6</td>\n      <td>NaN</td>\n      <td>2.9</td>\n      <td>NaN</td>\n      <td>3.2</td>\n      <td>NaN</td>\n      <td>3.6</td>\n      <td>NaN</td>\n      <td>...</td>\n      <td>10.2</td>\n      <td>NaN</td>\n      <td>10.3</td>\n      <td>NaN</td>\n      <td>10.1</td>\n      <td>NaN</td>\n      <td>10.1</td>\n      <td>NaN</td>\n      <td>10.2</td>\n      <td>a</td>\n    </tr>\n    <tr>\n      <th>1</th>\n      <td>69</td>\n      <td>Albania</td>\n      <td>11.6</td>\n      <td>NaN</td>\n      <td>11.8</td>\n      <td>NaN</td>\n      <td>10.7</td>\n      <td>NaN</td>\n      <td>10.1</td>\n      <td>NaN</td>\n      <td>...</td>\n      <td>15.1</td>\n      <td>NaN</td>\n      <td>14.8</td>\n      <td>NaN</td>\n      <td>14.8</td>\n      <td>NaN</td>\n      <td>14.7</td>\n      <td>NaN</td>\n      <td>14.7</td>\n      <td>a</td>\n    </tr>\n    <tr>\n      <th>2</th>\n      <td>91</td>\n      <td>Argelia</td>\n      <td>9.6</td>\n      <td>NaN</td>\n      <td>9.7</td>\n      <td>NaN</td>\n      <td>9.8</td>\n      <td>NaN</td>\n      <td>9.8</td>\n      <td>NaN</td>\n      <td>...</td>\n      <td>14.2</td>\n      <td>NaN</td>\n      <td>14.2</td>\n      <td>NaN</td>\n      <td>14.4</td>\n      <td>NaN</td>\n      <td>14.5</td>\n      <td>NaN</td>\n      <td>14.6</td>\n      <td>a</td>\n    </tr>\n    <tr>\n      <th>3</th>\n      <td>36</td>\n      <td>Andorra</td>\n      <td>10.8</td>\n      <td>NaN</td>\n      <td>10.8</td>\n      <td>NaN</td>\n      <td>10.8</td>\n      <td>NaN</td>\n      <td>10.8</td>\n      <td>NaN</td>\n      <td>...</td>\n      <td>13.1</td>\n      <td>NaN</td>\n      <td>13.3</td>\n      <td>NaN</td>\n      <td>13.0</td>\n      <td>NaN</td>\n      <td>13.3</td>\n      <td>NaN</td>\n      <td>13.3</td>\n      <td>a,b</td>\n    </tr>\n    <tr>\n      <th>4</th>\n      <td>148</td>\n      <td>Angola</td>\n      <td>3.4</td>\n      <td>NaN</td>\n      <td>3.3</td>\n      <td>NaN</td>\n      <td>3.2</td>\n      <td>NaN</td>\n      <td>3.7</td>\n      <td>NaN</td>\n      <td>...</td>\n      <td>11.0</td>\n      <td>NaN</td>\n      <td>11.4</td>\n      <td>NaN</td>\n      <td>11.8</td>\n      <td>NaN</td>\n      <td>11.8</td>\n      <td>NaN</td>\n      <td>11.8</td>\n      <td>a,c</td>\n    </tr>\n  </tbody>\n</table>\n<p>5 rows × 62 columns</p>\n</div>"
     },
     "metadata": {},
     "execution_count": 153
    }
   ],
   "source": [
    "expectativa.head()"
   ],
   "metadata": {
    "collapsed": false,
    "pycharm": {
     "name": "#%%\n"
    }
   }
  },
  {
   "cell_type": "code",
   "execution_count": 154,
   "metadata": {},
   "outputs": [
    {
     "output_type": "execute_result",
     "data": {
      "text/plain": [
       "    HDI Rank                                Country  1990  Unnamed: 3  1991  \\\n",
       "188      113  Venezuela (República Bolivariana de)   10.5         NaN  10.7   \n",
       "189      117                               Vietnam    7.8         NaN   8.1   \n",
       "190      179                                 Yemen    7.5         NaN   7.5   \n",
       "191      146                                Zambia    7.5         NaN   7.7   \n",
       "192      150                              Zimbabue    9.8         NaN  10.2   \n",
       "\n",
       "     Unnamed: 5  1992  Unnamed: 7  1993  Unnamed: 9  ...  2015  Unnamed: 53  \\\n",
       "188         NaN  10.8         NaN  10.8         NaN  ...  14.0          NaN   \n",
       "189         NaN   8.4         NaN   8.7         NaN  ...  12.7          NaN   \n",
       "190         NaN   7.6         NaN   7.6         NaN  ...   8.7          NaN   \n",
       "191         NaN   8.0         NaN   8.2         NaN  ...  11.1          NaN   \n",
       "192         NaN   9.8         NaN   9.8         NaN  ...  10.3          NaN   \n",
       "\n",
       "     2016  Unnamed: 55  2017  Unnamed: 57  2018  Unnamed: 59  2019  \\\n",
       "188  13.6          NaN  12.8          NaN  12.8          NaN  12.8   \n",
       "189  12.7          NaN  12.7          NaN  12.7          NaN  12.7   \n",
       "190   8.7          NaN   8.7          NaN   8.7          NaN   8.8   \n",
       "191  11.2          NaN  11.3          NaN  11.4          NaN  11.5   \n",
       "192  10.4          NaN  10.5          NaN  10.5          NaN  11.0   \n",
       "\n",
       "     Unnamed: 61  \n",
       "188          a,d  \n",
       "189          a,d  \n",
       "190          a,d  \n",
       "191          a,c  \n",
       "192          a,h  \n",
       "\n",
       "[5 rows x 62 columns]"
      ],
      "text/html": "<div>\n<style scoped>\n    .dataframe tbody tr th:only-of-type {\n        vertical-align: middle;\n    }\n\n    .dataframe tbody tr th {\n        vertical-align: top;\n    }\n\n    .dataframe thead th {\n        text-align: right;\n    }\n</style>\n<table border=\"1\" class=\"dataframe\">\n  <thead>\n    <tr style=\"text-align: right;\">\n      <th></th>\n      <th>HDI Rank</th>\n      <th>Country</th>\n      <th>1990</th>\n      <th>Unnamed: 3</th>\n      <th>1991</th>\n      <th>Unnamed: 5</th>\n      <th>1992</th>\n      <th>Unnamed: 7</th>\n      <th>1993</th>\n      <th>Unnamed: 9</th>\n      <th>...</th>\n      <th>2015</th>\n      <th>Unnamed: 53</th>\n      <th>2016</th>\n      <th>Unnamed: 55</th>\n      <th>2017</th>\n      <th>Unnamed: 57</th>\n      <th>2018</th>\n      <th>Unnamed: 59</th>\n      <th>2019</th>\n      <th>Unnamed: 61</th>\n    </tr>\n  </thead>\n  <tbody>\n    <tr>\n      <th>188</th>\n      <td>113</td>\n      <td>Venezuela (República Bolivariana de)</td>\n      <td>10.5</td>\n      <td>NaN</td>\n      <td>10.7</td>\n      <td>NaN</td>\n      <td>10.8</td>\n      <td>NaN</td>\n      <td>10.8</td>\n      <td>NaN</td>\n      <td>...</td>\n      <td>14.0</td>\n      <td>NaN</td>\n      <td>13.6</td>\n      <td>NaN</td>\n      <td>12.8</td>\n      <td>NaN</td>\n      <td>12.8</td>\n      <td>NaN</td>\n      <td>12.8</td>\n      <td>a,d</td>\n    </tr>\n    <tr>\n      <th>189</th>\n      <td>117</td>\n      <td>Vietnam</td>\n      <td>7.8</td>\n      <td>NaN</td>\n      <td>8.1</td>\n      <td>NaN</td>\n      <td>8.4</td>\n      <td>NaN</td>\n      <td>8.7</td>\n      <td>NaN</td>\n      <td>...</td>\n      <td>12.7</td>\n      <td>NaN</td>\n      <td>12.7</td>\n      <td>NaN</td>\n      <td>12.7</td>\n      <td>NaN</td>\n      <td>12.7</td>\n      <td>NaN</td>\n      <td>12.7</td>\n      <td>a,d</td>\n    </tr>\n    <tr>\n      <th>190</th>\n      <td>179</td>\n      <td>Yemen</td>\n      <td>7.5</td>\n      <td>NaN</td>\n      <td>7.5</td>\n      <td>NaN</td>\n      <td>7.6</td>\n      <td>NaN</td>\n      <td>7.6</td>\n      <td>NaN</td>\n      <td>...</td>\n      <td>8.7</td>\n      <td>NaN</td>\n      <td>8.7</td>\n      <td>NaN</td>\n      <td>8.7</td>\n      <td>NaN</td>\n      <td>8.7</td>\n      <td>NaN</td>\n      <td>8.8</td>\n      <td>a,d</td>\n    </tr>\n    <tr>\n      <th>191</th>\n      <td>146</td>\n      <td>Zambia</td>\n      <td>7.5</td>\n      <td>NaN</td>\n      <td>7.7</td>\n      <td>NaN</td>\n      <td>8.0</td>\n      <td>NaN</td>\n      <td>8.2</td>\n      <td>NaN</td>\n      <td>...</td>\n      <td>11.1</td>\n      <td>NaN</td>\n      <td>11.2</td>\n      <td>NaN</td>\n      <td>11.3</td>\n      <td>NaN</td>\n      <td>11.4</td>\n      <td>NaN</td>\n      <td>11.5</td>\n      <td>a,c</td>\n    </tr>\n    <tr>\n      <th>192</th>\n      <td>150</td>\n      <td>Zimbabue</td>\n      <td>9.8</td>\n      <td>NaN</td>\n      <td>10.2</td>\n      <td>NaN</td>\n      <td>9.8</td>\n      <td>NaN</td>\n      <td>9.8</td>\n      <td>NaN</td>\n      <td>...</td>\n      <td>10.3</td>\n      <td>NaN</td>\n      <td>10.4</td>\n      <td>NaN</td>\n      <td>10.5</td>\n      <td>NaN</td>\n      <td>10.5</td>\n      <td>NaN</td>\n      <td>11.0</td>\n      <td>a,h</td>\n    </tr>\n  </tbody>\n</table>\n<p>5 rows × 62 columns</p>\n</div>"
     },
     "metadata": {},
     "execution_count": 154
    }
   ],
   "source": [
    "expectativa.tail()"
   ]
  },
  {
   "cell_type": "code",
   "execution_count": 106,
   "metadata": {},
   "outputs": [
    {
     "output_type": "execute_result",
     "data": {
      "text/plain": [
       "(193, 62)"
      ]
     },
     "metadata": {},
     "execution_count": 106
    }
   ],
   "source": [
    "expectativa.shape"
   ]
  },
  {
   "cell_type": "code",
   "execution_count": 97,
   "metadata": {},
   "outputs": [
    {
     "output_type": "execute_result",
     "data": {
      "text/plain": [
       "Index(['HDI Rank', 'Country', '1990', 'Unnamed: 3', '1991', 'Unnamed: 5',\n",
       "       '1992', 'Unnamed: 7', '1993', 'Unnamed: 9', '1994', 'Unnamed: 11',\n",
       "       '1995', 'Unnamed: 13', '1996', 'Unnamed: 15', '1997', 'Unnamed: 17',\n",
       "       '1998', 'Unnamed: 19', '1999', 'Unnamed: 21', '2000', 'Unnamed: 23',\n",
       "       '2001', 'Unnamed: 25', '2002', 'Unnamed: 27', '2003', 'Unnamed: 29',\n",
       "       '2004', 'Unnamed: 31', '2005', 'Unnamed: 33', '2006', 'Unnamed: 35',\n",
       "       '2007', 'Unnamed: 37', '2008', 'Unnamed: 39', '2009', 'Unnamed: 41',\n",
       "       '2010', 'Unnamed: 43', '2011', 'Unnamed: 45', '2012', 'Unnamed: 47',\n",
       "       '2013', 'Unnamed: 49', '2014', 'Unnamed: 51', '2015', 'Unnamed: 53',\n",
       "       '2016', 'Unnamed: 55', '2017', 'Unnamed: 57', '2018', 'Unnamed: 59',\n",
       "       '2019', 'Unnamed: 61'],\n",
       "      dtype='object')"
      ]
     },
     "metadata": {},
     "execution_count": 97
    }
   ],
   "source": [
    "expectativa.columns"
   ]
  },
  {
   "cell_type": "code",
   "execution_count": 155,
   "metadata": {},
   "outputs": [],
   "source": [
    "head = {'HDI Rank':'Ranking',\n",
    "             'Country':'Pais',\n",
    "             '1990':'1990',\n",
    "             'Unnamed: 3':'Indice_Educacion_1990',\n",
    "             '1991':'1991', \n",
    "             'Unnamed: 5':'Indice_Educacion_1991',\n",
    "             '1992':'1992',\n",
    "             'Unnamed: 7':'Indice_Educacion_1992',\n",
    "             '1993':'1993',\n",
    "             'Unnamed: 9':'Indice_Educacion_1993',\n",
    "             '1994':'1994',\n",
    "             'Unnamed: 11':'Indice_Educacion_1994',\n",
    "             '1995':'1995',\n",
    "             'Unnamed: 13':'Indice_Educacion_1995',\n",
    "             '1996':'1996',\n",
    "             'Unnamed: 15':'Indice_Educacion_1996',\n",
    "             '1997':'1997',\n",
    "             'Unnamed: 17':'Indice_Educacion_1997',\n",
    "             '1998':'1998',\n",
    "             'Unnamed: 19':'Indice_Educacion_1998',\n",
    "             '1999':'1999',\n",
    "             'Unnamed: 21':'Indice_Educacion_1999',\n",
    "             '2000':'2000',\n",
    "             'Unnamed: 23':'Indice_Educacion_2000',\n",
    "             '2001':'2001',\n",
    "             'Unnamed: 25':'Indice_Educacion_2001',\n",
    "             '2002':'2002',\n",
    "             'Unnamed: 27':'Indice_Educacion_2002',\n",
    "             '2003':'2003',\n",
    "             'Unnamed: 29':'Indice_Educacion_2003',\n",
    "             '2004':'2004',\n",
    "             'Unnamed: 31':'Indice_Educacion_2004',\n",
    "             '2005':'2005',\n",
    "             'Unnamed: 33':'Indice_Educacion_2005',\n",
    "             '2006':'2006',\n",
    "             'Unnamed: 35':'Indice_Educacion_2006',\n",
    "             '2007':'2007',\n",
    "             'Unnamed: 37':'Indice_Educacion_2007',\n",
    "             '2008':'2008',\n",
    "             'Unnamed: 39':'Indice_Educacion_2008',\n",
    "             '2009':'2009',\n",
    "             'Unnamed: 41':'Indice_Educacion_2009',\n",
    "             '2010':'2010',\n",
    "             'Unnamed: 43':'Indice_Educacion_2010',\n",
    "             '2011':'2011',\n",
    "             'Unnamed: 45':'Indice_Educacion_2011',\n",
    "             '2012':'2012',\n",
    "             'Unnamed: 47':'Indice_Educacion_2012',\n",
    "             '2013':'2013',\n",
    "             'Unnamed: 49':'Indice_Educacion_2013',\n",
    "             '2014':'2014',\n",
    "             'Unnamed: 51':'Indice_Educacion_2014',\n",
    "             '2015':'2015',\n",
    "             'Unnamed: 53':'Indice_Educacion_2015',\n",
    "             '2016':'2016',\n",
    "             'Unnamed: 55':'Indice_Educacion_2016',\n",
    "             '2017':'2017',\n",
    "             'Unnamed: 57':'Indice_Educacion_2017',\n",
    "             '2018':'2018',\n",
    "             'Unnamed: 59':'Indice_Educacion_2018',\n",
    "             '2019':'2019',\n",
    "             'Unnamed: 61':'Indice_Educacion_2019'}\n",
    "\n",
    "expectativa = expectativa.rename(columns=head)"
   ]
  },
  {
   "cell_type": "code",
   "execution_count": 114,
   "metadata": {},
   "outputs": [],
   "source": [
    "expectativa = expectativa.fillna(0)"
   ]
  },
  {
   "cell_type": "code",
   "execution_count": 115,
   "metadata": {},
   "outputs": [
    {
     "output_type": "execute_result",
     "data": {
      "text/plain": [
       "  Ranking         Pais  1990  Indice_Educacion_1990  1991  \\\n",
       "0     169  Afganistán    2.6                    0.0   2.9   \n",
       "1      69     Albania   11.6                    0.0  11.8   \n",
       "2      91     Argelia    9.6                    0.0   9.7   \n",
       "3      36     Andorra   10.8                    0.0  10.8   \n",
       "4     148      Angola    3.4                    0.0   3.3   \n",
       "\n",
       "   Indice_Educacion_1991  1992  Indice_Educacion_1992  1993  \\\n",
       "0                    0.0   3.2                    0.0   3.6   \n",
       "1                    0.0  10.7                    0.0  10.1   \n",
       "2                    0.0   9.8                    0.0   9.8   \n",
       "3                    0.0  10.8                    0.0  10.8   \n",
       "4                    0.0   3.2                    0.0   3.7   \n",
       "\n",
       "   Indice_Educacion_1993  ...  2015  Indice_Educacion_2015  2016  \\\n",
       "0                    0.0  ...  10.2                    0.0  10.3   \n",
       "1                    0.0  ...  15.1                    0.0  14.8   \n",
       "2                    0.0  ...  14.2                    0.0  14.2   \n",
       "3                    0.0  ...  13.1                    0.0  13.3   \n",
       "4                    0.0  ...  11.0                    0.0  11.4   \n",
       "\n",
       "   Indice_Educacion_2016  2017  Indice_Educacion_2017  2018  \\\n",
       "0                    0.0  10.1                    0.0  10.1   \n",
       "1                    0.0  14.8                    0.0  14.7   \n",
       "2                    0.0  14.4                    0.0  14.5   \n",
       "3                    0.0  13.0                    0.0  13.3   \n",
       "4                    0.0  11.8                    0.0  11.8   \n",
       "\n",
       "   Indice_Educacion_2018  2019  Indice_Educacion_2019  \n",
       "0                    0.0  10.2                      a  \n",
       "1                    0.0  14.7                      a  \n",
       "2                    0.0  14.6                      a  \n",
       "3                    0.0  13.3                    a,b  \n",
       "4                    0.0  11.8                    a,c  \n",
       "\n",
       "[5 rows x 62 columns]"
      ],
      "text/html": "<div>\n<style scoped>\n    .dataframe tbody tr th:only-of-type {\n        vertical-align: middle;\n    }\n\n    .dataframe tbody tr th {\n        vertical-align: top;\n    }\n\n    .dataframe thead th {\n        text-align: right;\n    }\n</style>\n<table border=\"1\" class=\"dataframe\">\n  <thead>\n    <tr style=\"text-align: right;\">\n      <th></th>\n      <th>Ranking</th>\n      <th>Pais</th>\n      <th>1990</th>\n      <th>Indice_Educacion_1990</th>\n      <th>1991</th>\n      <th>Indice_Educacion_1991</th>\n      <th>1992</th>\n      <th>Indice_Educacion_1992</th>\n      <th>1993</th>\n      <th>Indice_Educacion_1993</th>\n      <th>...</th>\n      <th>2015</th>\n      <th>Indice_Educacion_2015</th>\n      <th>2016</th>\n      <th>Indice_Educacion_2016</th>\n      <th>2017</th>\n      <th>Indice_Educacion_2017</th>\n      <th>2018</th>\n      <th>Indice_Educacion_2018</th>\n      <th>2019</th>\n      <th>Indice_Educacion_2019</th>\n    </tr>\n  </thead>\n  <tbody>\n    <tr>\n      <th>0</th>\n      <td>169</td>\n      <td>Afganistán</td>\n      <td>2.6</td>\n      <td>0.0</td>\n      <td>2.9</td>\n      <td>0.0</td>\n      <td>3.2</td>\n      <td>0.0</td>\n      <td>3.6</td>\n      <td>0.0</td>\n      <td>...</td>\n      <td>10.2</td>\n      <td>0.0</td>\n      <td>10.3</td>\n      <td>0.0</td>\n      <td>10.1</td>\n      <td>0.0</td>\n      <td>10.1</td>\n      <td>0.0</td>\n      <td>10.2</td>\n      <td>a</td>\n    </tr>\n    <tr>\n      <th>1</th>\n      <td>69</td>\n      <td>Albania</td>\n      <td>11.6</td>\n      <td>0.0</td>\n      <td>11.8</td>\n      <td>0.0</td>\n      <td>10.7</td>\n      <td>0.0</td>\n      <td>10.1</td>\n      <td>0.0</td>\n      <td>...</td>\n      <td>15.1</td>\n      <td>0.0</td>\n      <td>14.8</td>\n      <td>0.0</td>\n      <td>14.8</td>\n      <td>0.0</td>\n      <td>14.7</td>\n      <td>0.0</td>\n      <td>14.7</td>\n      <td>a</td>\n    </tr>\n    <tr>\n      <th>2</th>\n      <td>91</td>\n      <td>Argelia</td>\n      <td>9.6</td>\n      <td>0.0</td>\n      <td>9.7</td>\n      <td>0.0</td>\n      <td>9.8</td>\n      <td>0.0</td>\n      <td>9.8</td>\n      <td>0.0</td>\n      <td>...</td>\n      <td>14.2</td>\n      <td>0.0</td>\n      <td>14.2</td>\n      <td>0.0</td>\n      <td>14.4</td>\n      <td>0.0</td>\n      <td>14.5</td>\n      <td>0.0</td>\n      <td>14.6</td>\n      <td>a</td>\n    </tr>\n    <tr>\n      <th>3</th>\n      <td>36</td>\n      <td>Andorra</td>\n      <td>10.8</td>\n      <td>0.0</td>\n      <td>10.8</td>\n      <td>0.0</td>\n      <td>10.8</td>\n      <td>0.0</td>\n      <td>10.8</td>\n      <td>0.0</td>\n      <td>...</td>\n      <td>13.1</td>\n      <td>0.0</td>\n      <td>13.3</td>\n      <td>0.0</td>\n      <td>13.0</td>\n      <td>0.0</td>\n      <td>13.3</td>\n      <td>0.0</td>\n      <td>13.3</td>\n      <td>a,b</td>\n    </tr>\n    <tr>\n      <th>4</th>\n      <td>148</td>\n      <td>Angola</td>\n      <td>3.4</td>\n      <td>0.0</td>\n      <td>3.3</td>\n      <td>0.0</td>\n      <td>3.2</td>\n      <td>0.0</td>\n      <td>3.7</td>\n      <td>0.0</td>\n      <td>...</td>\n      <td>11.0</td>\n      <td>0.0</td>\n      <td>11.4</td>\n      <td>0.0</td>\n      <td>11.8</td>\n      <td>0.0</td>\n      <td>11.8</td>\n      <td>0.0</td>\n      <td>11.8</td>\n      <td>a,c</td>\n    </tr>\n  </tbody>\n</table>\n<p>5 rows × 62 columns</p>\n</div>"
     },
     "metadata": {},
     "execution_count": 115
    }
   ],
   "source": [
    "expectativa.head()"
   ]
  },
  {
   "cell_type": "code",
   "execution_count": 116,
   "metadata": {},
   "outputs": [
    {
     "output_type": "stream",
     "name": "stdout",
     "text": [
      "<class 'pandas.core.frame.DataFrame'>\nRangeIndex: 193 entries, 0 to 192\nData columns (total 62 columns):\n #   Column                 Non-Null Count  Dtype  \n---  ------                 --------------  -----  \n 0   Ranking                193 non-null    object \n 1   Pais                   193 non-null    object \n 2   1990                   193 non-null    object \n 3   Indice_Educacion_1990  193 non-null    float64\n 4   1991                   193 non-null    object \n 5   Indice_Educacion_1991  193 non-null    float64\n 6   1992                   193 non-null    object \n 7   Indice_Educacion_1992  193 non-null    float64\n 8   1993                   193 non-null    object \n 9   Indice_Educacion_1993  193 non-null    float64\n 10  1994                   193 non-null    object \n 11  Indice_Educacion_1994  193 non-null    float64\n 12  1995                   193 non-null    object \n 13  Indice_Educacion_1995  193 non-null    float64\n 14  1996                   193 non-null    object \n 15  Indice_Educacion_1996  193 non-null    float64\n 16  1997                   193 non-null    object \n 17  Indice_Educacion_1997  193 non-null    float64\n 18  1998                   193 non-null    object \n 19  Indice_Educacion_1998  193 non-null    float64\n 20  1999                   193 non-null    object \n 21  Indice_Educacion_1999  193 non-null    float64\n 22  2000                   193 non-null    object \n 23  Indice_Educacion_2000  193 non-null    float64\n 24  2001                   193 non-null    object \n 25  Indice_Educacion_2001  193 non-null    float64\n 26  2002                   193 non-null    object \n 27  Indice_Educacion_2002  193 non-null    float64\n 28  2003                   193 non-null    object \n 29  Indice_Educacion_2003  193 non-null    float64\n 30  2004                   193 non-null    object \n 31  Indice_Educacion_2004  193 non-null    float64\n 32  2005                   193 non-null    object \n 33  Indice_Educacion_2005  193 non-null    float64\n 34  2006                   193 non-null    object \n 35  Indice_Educacion_2006  193 non-null    float64\n 36  2007                   193 non-null    object \n 37  Indice_Educacion_2007  193 non-null    float64\n 38  2008                   193 non-null    object \n 39  Indice_Educacion_2008  193 non-null    float64\n 40  2009                   193 non-null    object \n 41  Indice_Educacion_2009  193 non-null    float64\n 42  2010                   193 non-null    object \n 43  Indice_Educacion_2010  193 non-null    float64\n 44  2011                   193 non-null    object \n 45  Indice_Educacion_2011  193 non-null    float64\n 46  2012                   193 non-null    object \n 47  Indice_Educacion_2012  193 non-null    float64\n 48  2013                   193 non-null    object \n 49  Indice_Educacion_2013  193 non-null    float64\n 50  2014                   193 non-null    object \n 51  Indice_Educacion_2014  193 non-null    float64\n 52  2015                   193 non-null    object \n 53  Indice_Educacion_2015  193 non-null    float64\n 54  2016                   193 non-null    object \n 55  Indice_Educacion_2016  193 non-null    float64\n 56  2017                   193 non-null    float64\n 57  Indice_Educacion_2017  193 non-null    float64\n 58  2018                   193 non-null    float64\n 59  Indice_Educacion_2018  193 non-null    float64\n 60  2019                   193 non-null    float64\n 61  Indice_Educacion_2019  193 non-null    object \ndtypes: float64(32), object(30)\nmemory usage: 93.6+ KB\n"
     ]
    }
   ],
   "source": [
    "expectativa.info()"
   ]
  },
  {
   "source": [
    "### Calculo del indice de expectativa de años de escolaridad por paises\n",
    "\n",
    "Se explica a continuación como se realizo el calculo del indice de salud por pais.\n",
    "Primeramente se presenta lo que es la formula que se uso:\n",
    "\n",
    "$$\\Huge\\Huge\\frac{\\alpha - \\theta}{\\gamma - \\theta}$$\n",
    "\n",
    "Donde:\n",
    "\n",
    "* $\\alpha$ : La expectativa de escolaridad en el pais.\n",
    "* $\\theta$ : Es la expectativa minima de años de escolaridad. En el documento __*Human Development Report 2020*__ se usa 0 años como minimo.\n",
    "* $\\gamma$ : Es la expectativa maxima de años de escolaridad. En el documento __*Human Development Report 2020*__ se usa 18 años como maximo.\n",
    "\n",
    "\n",
    "Este calculo se realizo por cada pais en cada uno de los años. Tal calculo permitia entender por medio de un indicador la situación en cuanto a esperanza de vida de un pais.\n"
   ],
   "cell_type": "markdown",
   "metadata": {}
  },
  {
   "cell_type": "code",
   "execution_count": 156,
   "metadata": {},
   "outputs": [],
   "source": [
    "for year in range(1990, 2020):\n",
    "    year = str(year)\n",
    "    indices = []\n",
    "    for cell in expectativa[year]:\n",
    "        try:\n",
    "            indices.append((float(cell) - 0) / (18 - 0))\n",
    "        except:\n",
    "            indices.append(0)\n",
    "    expectativa[f'Indice_Educacion_{year}'] = indices\n",
    "\n",
    "expectativa = expectativa.drop([str(i) for i in range(1990, 2020)],axis=1)"
   ]
  },
  {
   "cell_type": "code",
   "execution_count": 157,
   "metadata": {},
   "outputs": [
    {
     "output_type": "stream",
     "name": "stdout",
     "text": [
      "<class 'pandas.core.frame.DataFrame'>\nRangeIndex: 193 entries, 0 to 192\nData columns (total 32 columns):\n #   Column                 Non-Null Count  Dtype  \n---  ------                 --------------  -----  \n 0   Ranking                193 non-null    object \n 1   Pais                   193 non-null    object \n 2   Indice_Educacion_1990  193 non-null    float64\n 3   Indice_Educacion_1991  193 non-null    float64\n 4   Indice_Educacion_1992  193 non-null    float64\n 5   Indice_Educacion_1993  193 non-null    float64\n 6   Indice_Educacion_1994  193 non-null    float64\n 7   Indice_Educacion_1995  193 non-null    float64\n 8   Indice_Educacion_1996  193 non-null    float64\n 9   Indice_Educacion_1997  193 non-null    float64\n 10  Indice_Educacion_1998  193 non-null    float64\n 11  Indice_Educacion_1999  193 non-null    float64\n 12  Indice_Educacion_2000  193 non-null    float64\n 13  Indice_Educacion_2001  193 non-null    float64\n 14  Indice_Educacion_2002  193 non-null    float64\n 15  Indice_Educacion_2003  193 non-null    float64\n 16  Indice_Educacion_2004  193 non-null    float64\n 17  Indice_Educacion_2005  193 non-null    float64\n 18  Indice_Educacion_2006  193 non-null    float64\n 19  Indice_Educacion_2007  193 non-null    float64\n 20  Indice_Educacion_2008  193 non-null    float64\n 21  Indice_Educacion_2009  193 non-null    float64\n 22  Indice_Educacion_2010  193 non-null    float64\n 23  Indice_Educacion_2011  193 non-null    float64\n 24  Indice_Educacion_2012  193 non-null    float64\n 25  Indice_Educacion_2013  193 non-null    float64\n 26  Indice_Educacion_2014  193 non-null    float64\n 27  Indice_Educacion_2015  193 non-null    float64\n 28  Indice_Educacion_2016  193 non-null    float64\n 29  Indice_Educacion_2017  193 non-null    float64\n 30  Indice_Educacion_2018  193 non-null    float64\n 31  Indice_Educacion_2019  193 non-null    float64\ndtypes: float64(30), object(2)\nmemory usage: 48.4+ KB\n"
     ]
    }
   ],
   "source": [
    "expectativa.info()"
   ]
  },
  {
   "source": [
    "## Promedio de años de escolaridad"
   ],
   "cell_type": "markdown",
   "metadata": {}
  },
  {
   "cell_type": "code",
   "execution_count": 158,
   "metadata": {},
   "outputs": [],
   "source": [
    "promedio = get_df_translated(\"Mean years of schooling (years).csv\")"
   ]
  },
  {
   "cell_type": "code",
   "execution_count": 159,
   "metadata": {},
   "outputs": [
    {
     "output_type": "execute_result",
     "data": {
      "text/plain": [
       "  HDI Rank      Country 1990  Unnamed: 3 1991  Unnamed: 5 1992  Unnamed: 7  \\\n",
       "0      169  Afganistán   1.5         NaN  1.6         NaN  1.6         NaN   \n",
       "1       69     Albania   7.8         NaN  7.8         NaN  7.8         NaN   \n",
       "2       91     Argelia   3.6         NaN  3.8         NaN  4.0         NaN   \n",
       "3       36     Andorra    ..         NaN   ..         NaN   ..         NaN   \n",
       "4      148      Angola    ..         NaN   ..         NaN   ..         NaN   \n",
       "\n",
       "  1993  Unnamed: 9  ...  2015  Unnamed: 53  2016  Unnamed: 55  2017  \\\n",
       "0  1.7         NaN  ...   3.6          NaN   3.6          NaN   3.8   \n",
       "1  7.8         NaN  ...  10.0          NaN  10.0          NaN  10.1   \n",
       "2  4.3         NaN  ...   7.9          NaN   7.9          NaN   8.0   \n",
       "3   ..         NaN  ...  10.6          NaN  10.6          NaN  10.5   \n",
       "4   ..         NaN  ...   5.0          NaN   5.1          NaN   5.1   \n",
       "\n",
       "   Unnamed: 57  2018  Unnamed: 59  2019  Unnamed: 61  \n",
       "0          NaN   3.9          NaN   3.9          a,b  \n",
       "1          NaN  10.1          NaN  10.1          b,c  \n",
       "2          NaN   8.0          NaN   8.0          b,d  \n",
       "3          NaN  10.5          NaN  10.5            b  \n",
       "4          NaN   5.2          NaN   5.2          b,c  \n",
       "\n",
       "[5 rows x 62 columns]"
      ],
      "text/html": "<div>\n<style scoped>\n    .dataframe tbody tr th:only-of-type {\n        vertical-align: middle;\n    }\n\n    .dataframe tbody tr th {\n        vertical-align: top;\n    }\n\n    .dataframe thead th {\n        text-align: right;\n    }\n</style>\n<table border=\"1\" class=\"dataframe\">\n  <thead>\n    <tr style=\"text-align: right;\">\n      <th></th>\n      <th>HDI Rank</th>\n      <th>Country</th>\n      <th>1990</th>\n      <th>Unnamed: 3</th>\n      <th>1991</th>\n      <th>Unnamed: 5</th>\n      <th>1992</th>\n      <th>Unnamed: 7</th>\n      <th>1993</th>\n      <th>Unnamed: 9</th>\n      <th>...</th>\n      <th>2015</th>\n      <th>Unnamed: 53</th>\n      <th>2016</th>\n      <th>Unnamed: 55</th>\n      <th>2017</th>\n      <th>Unnamed: 57</th>\n      <th>2018</th>\n      <th>Unnamed: 59</th>\n      <th>2019</th>\n      <th>Unnamed: 61</th>\n    </tr>\n  </thead>\n  <tbody>\n    <tr>\n      <th>0</th>\n      <td>169</td>\n      <td>Afganistán</td>\n      <td>1.5</td>\n      <td>NaN</td>\n      <td>1.6</td>\n      <td>NaN</td>\n      <td>1.6</td>\n      <td>NaN</td>\n      <td>1.7</td>\n      <td>NaN</td>\n      <td>...</td>\n      <td>3.6</td>\n      <td>NaN</td>\n      <td>3.6</td>\n      <td>NaN</td>\n      <td>3.8</td>\n      <td>NaN</td>\n      <td>3.9</td>\n      <td>NaN</td>\n      <td>3.9</td>\n      <td>a,b</td>\n    </tr>\n    <tr>\n      <th>1</th>\n      <td>69</td>\n      <td>Albania</td>\n      <td>7.8</td>\n      <td>NaN</td>\n      <td>7.8</td>\n      <td>NaN</td>\n      <td>7.8</td>\n      <td>NaN</td>\n      <td>7.8</td>\n      <td>NaN</td>\n      <td>...</td>\n      <td>10.0</td>\n      <td>NaN</td>\n      <td>10.0</td>\n      <td>NaN</td>\n      <td>10.1</td>\n      <td>NaN</td>\n      <td>10.1</td>\n      <td>NaN</td>\n      <td>10.1</td>\n      <td>b,c</td>\n    </tr>\n    <tr>\n      <th>2</th>\n      <td>91</td>\n      <td>Argelia</td>\n      <td>3.6</td>\n      <td>NaN</td>\n      <td>3.8</td>\n      <td>NaN</td>\n      <td>4.0</td>\n      <td>NaN</td>\n      <td>4.3</td>\n      <td>NaN</td>\n      <td>...</td>\n      <td>7.9</td>\n      <td>NaN</td>\n      <td>7.9</td>\n      <td>NaN</td>\n      <td>8.0</td>\n      <td>NaN</td>\n      <td>8.0</td>\n      <td>NaN</td>\n      <td>8.0</td>\n      <td>b,d</td>\n    </tr>\n    <tr>\n      <th>3</th>\n      <td>36</td>\n      <td>Andorra</td>\n      <td>..</td>\n      <td>NaN</td>\n      <td>..</td>\n      <td>NaN</td>\n      <td>..</td>\n      <td>NaN</td>\n      <td>..</td>\n      <td>NaN</td>\n      <td>...</td>\n      <td>10.6</td>\n      <td>NaN</td>\n      <td>10.6</td>\n      <td>NaN</td>\n      <td>10.5</td>\n      <td>NaN</td>\n      <td>10.5</td>\n      <td>NaN</td>\n      <td>10.5</td>\n      <td>b</td>\n    </tr>\n    <tr>\n      <th>4</th>\n      <td>148</td>\n      <td>Angola</td>\n      <td>..</td>\n      <td>NaN</td>\n      <td>..</td>\n      <td>NaN</td>\n      <td>..</td>\n      <td>NaN</td>\n      <td>..</td>\n      <td>NaN</td>\n      <td>...</td>\n      <td>5.0</td>\n      <td>NaN</td>\n      <td>5.1</td>\n      <td>NaN</td>\n      <td>5.1</td>\n      <td>NaN</td>\n      <td>5.2</td>\n      <td>NaN</td>\n      <td>5.2</td>\n      <td>b,c</td>\n    </tr>\n  </tbody>\n</table>\n<p>5 rows × 62 columns</p>\n</div>"
     },
     "metadata": {},
     "execution_count": 159
    }
   ],
   "source": [
    "promedio.head()"
   ]
  },
  {
   "cell_type": "code",
   "execution_count": 65,
   "metadata": {},
   "outputs": [
    {
     "output_type": "execute_result",
     "data": {
      "text/plain": [
       "    HDI Rank                                Country 1990  Unnamed: 3 1991  \\\n",
       "185      113  Venezuela (República Bolivariana de)   4.6         NaN  4.8   \n",
       "186      117                               Vietnam   3.9         NaN  4.1   \n",
       "187      179                                 Yemen   0.3         NaN  0.4   \n",
       "188      146                                Zambia   4.7         NaN  5.0   \n",
       "189      150                              Zimbabue   4.5         NaN  4.7   \n",
       "\n",
       "     Unnamed: 5 1992  Unnamed: 7 1993  Unnamed: 9  ...  2015  Unnamed: 53  \\\n",
       "185         NaN  5.0         NaN  5.1         NaN  ...  10.1          NaN   \n",
       "186         NaN  4.2         NaN  4.3         NaN  ...   8.0          NaN   \n",
       "187         NaN  0.4         NaN  0.5         NaN  ...   3.0          NaN   \n",
       "188         NaN  5.2         NaN  5.5         NaN  ...   6.9          NaN   \n",
       "189         NaN  4.9         NaN  5.1         NaN  ...   8.2          NaN   \n",
       "\n",
       "     2016  Unnamed: 55  2017  Unnamed: 57  2018  Unnamed: 59  2019  \\\n",
       "185  10.3          NaN  10.3          NaN  10.3          NaN  10.3   \n",
       "186   8.1          NaN   8.2          NaN   8.2          NaN   8.3   \n",
       "187   3.0          NaN   3.0          NaN   3.2          NaN   3.2   \n",
       "188   7.0          NaN   7.1          NaN   7.1          NaN   7.2   \n",
       "189   8.3          NaN   8.3          NaN   8.4          NaN   8.5   \n",
       "\n",
       "     Unnamed: 61  \n",
       "185            b  \n",
       "186          a,b  \n",
       "187          a,b  \n",
       "188          b,c  \n",
       "189            b  \n",
       "\n",
       "[5 rows x 62 columns]"
      ],
      "text/html": "<div>\n<style scoped>\n    .dataframe tbody tr th:only-of-type {\n        vertical-align: middle;\n    }\n\n    .dataframe tbody tr th {\n        vertical-align: top;\n    }\n\n    .dataframe thead th {\n        text-align: right;\n    }\n</style>\n<table border=\"1\" class=\"dataframe\">\n  <thead>\n    <tr style=\"text-align: right;\">\n      <th></th>\n      <th>HDI Rank</th>\n      <th>Country</th>\n      <th>1990</th>\n      <th>Unnamed: 3</th>\n      <th>1991</th>\n      <th>Unnamed: 5</th>\n      <th>1992</th>\n      <th>Unnamed: 7</th>\n      <th>1993</th>\n      <th>Unnamed: 9</th>\n      <th>...</th>\n      <th>2015</th>\n      <th>Unnamed: 53</th>\n      <th>2016</th>\n      <th>Unnamed: 55</th>\n      <th>2017</th>\n      <th>Unnamed: 57</th>\n      <th>2018</th>\n      <th>Unnamed: 59</th>\n      <th>2019</th>\n      <th>Unnamed: 61</th>\n    </tr>\n  </thead>\n  <tbody>\n    <tr>\n      <th>185</th>\n      <td>113</td>\n      <td>Venezuela (República Bolivariana de)</td>\n      <td>4.6</td>\n      <td>NaN</td>\n      <td>4.8</td>\n      <td>NaN</td>\n      <td>5.0</td>\n      <td>NaN</td>\n      <td>5.1</td>\n      <td>NaN</td>\n      <td>...</td>\n      <td>10.1</td>\n      <td>NaN</td>\n      <td>10.3</td>\n      <td>NaN</td>\n      <td>10.3</td>\n      <td>NaN</td>\n      <td>10.3</td>\n      <td>NaN</td>\n      <td>10.3</td>\n      <td>b</td>\n    </tr>\n    <tr>\n      <th>186</th>\n      <td>117</td>\n      <td>Vietnam</td>\n      <td>3.9</td>\n      <td>NaN</td>\n      <td>4.1</td>\n      <td>NaN</td>\n      <td>4.2</td>\n      <td>NaN</td>\n      <td>4.3</td>\n      <td>NaN</td>\n      <td>...</td>\n      <td>8.0</td>\n      <td>NaN</td>\n      <td>8.1</td>\n      <td>NaN</td>\n      <td>8.2</td>\n      <td>NaN</td>\n      <td>8.2</td>\n      <td>NaN</td>\n      <td>8.3</td>\n      <td>a,b</td>\n    </tr>\n    <tr>\n      <th>187</th>\n      <td>179</td>\n      <td>Yemen</td>\n      <td>0.3</td>\n      <td>NaN</td>\n      <td>0.4</td>\n      <td>NaN</td>\n      <td>0.4</td>\n      <td>NaN</td>\n      <td>0.5</td>\n      <td>NaN</td>\n      <td>...</td>\n      <td>3.0</td>\n      <td>NaN</td>\n      <td>3.0</td>\n      <td>NaN</td>\n      <td>3.0</td>\n      <td>NaN</td>\n      <td>3.2</td>\n      <td>NaN</td>\n      <td>3.2</td>\n      <td>a,b</td>\n    </tr>\n    <tr>\n      <th>188</th>\n      <td>146</td>\n      <td>Zambia</td>\n      <td>4.7</td>\n      <td>NaN</td>\n      <td>5.0</td>\n      <td>NaN</td>\n      <td>5.2</td>\n      <td>NaN</td>\n      <td>5.5</td>\n      <td>NaN</td>\n      <td>...</td>\n      <td>6.9</td>\n      <td>NaN</td>\n      <td>7.0</td>\n      <td>NaN</td>\n      <td>7.1</td>\n      <td>NaN</td>\n      <td>7.1</td>\n      <td>NaN</td>\n      <td>7.2</td>\n      <td>b,c</td>\n    </tr>\n    <tr>\n      <th>189</th>\n      <td>150</td>\n      <td>Zimbabue</td>\n      <td>4.5</td>\n      <td>NaN</td>\n      <td>4.7</td>\n      <td>NaN</td>\n      <td>4.9</td>\n      <td>NaN</td>\n      <td>5.1</td>\n      <td>NaN</td>\n      <td>...</td>\n      <td>8.2</td>\n      <td>NaN</td>\n      <td>8.3</td>\n      <td>NaN</td>\n      <td>8.3</td>\n      <td>NaN</td>\n      <td>8.4</td>\n      <td>NaN</td>\n      <td>8.5</td>\n      <td>b</td>\n    </tr>\n  </tbody>\n</table>\n<p>5 rows × 62 columns</p>\n</div>"
     },
     "metadata": {},
     "execution_count": 65
    }
   ],
   "source": [
    "promedio.tail()"
   ]
  },
  {
   "cell_type": "code",
   "execution_count": 66,
   "metadata": {},
   "outputs": [
    {
     "output_type": "execute_result",
     "data": {
      "text/plain": [
       "(190, 62)"
      ]
     },
     "metadata": {},
     "execution_count": 66
    }
   ],
   "source": [
    "promedio.shape"
   ]
  },
  {
   "cell_type": "code",
   "execution_count": 130,
   "metadata": {},
   "outputs": [
    {
     "output_type": "execute_result",
     "data": {
      "text/plain": [
       "Index(['Ranking', 'Pais', '1990', 'Indice_Promedio_Edu_1990', '1991',\n",
       "       'Indice_Promedio_Edu_1991', '1992', 'Indice_Promedio_Edu_1992', '1993',\n",
       "       'Indice_Promedio_Edu_1993', '1994', 'Indice_Promedio_Edu_1994', '1995',\n",
       "       'Indice_Promedio_Edu_1995', '1996', 'Indice_Promedio_Edu_1996', '1997',\n",
       "       'Indice_Promedio_Edu_1997', '1998', 'Indice_Promedio_Edu_1998', '1999',\n",
       "       'Indice_Promedio_Edu_1999', '2000', 'Indice_Promedio_Edu_2000', '2001',\n",
       "       'Indice_Promedio_Edu_2001', '2002', 'Indice_Promedio_Edu_2002', '2003',\n",
       "       'Indice_Promedio_Edu_2003', '2004', 'Indice_Promedio_Edu_2004', '2005',\n",
       "       'Indice_Promedio_Edu_2005', '2006', 'Indice_Promedio_Edu_2006', '2007',\n",
       "       'Indice_Promedio_Edu_2007', '2008', 'Indice_Promedio_Edu_2008', '2009',\n",
       "       'Indice_Promedio_Edu_2009', '2010', 'Indice_Promedio_Edu_2010', '2011',\n",
       "       'Indice_Promedio_Edu_2011', '2012', 'Indice_Promedio_Edu_2012', '2013',\n",
       "       'Indice_Promedio_Edu_2013', '2014', 'Indice_Promedio_Edu_2014', '2015',\n",
       "       'Indice_Promedio_Edu_2015', '2016', 'Indice_Promedio_Edu_2016', '2017',\n",
       "       'Indice_Promedio_Edu_2017', '2018', 'Indice_Promedio_Edu_2018', '2019',\n",
       "       'Indice_Promedio_Edu_2019'],\n",
       "      dtype='object')"
      ]
     },
     "metadata": {},
     "execution_count": 130
    }
   ],
   "source": [
    "promedio.columns"
   ]
  },
  {
   "cell_type": "code",
   "execution_count": 160,
   "metadata": {},
   "outputs": [],
   "source": [
    "head = {'HDI Rank':'Ranking',\n",
    "             'Country':'Pais',\n",
    "             '1990':'1990',\n",
    "             'Unnamed: 3':'Indice_Promedio_Edu_1990',\n",
    "             '1991':'1991', \n",
    "             'Unnamed: 5':'Indice_Promedio_Edu_1991',\n",
    "             '1992':'1992',\n",
    "             'Unnamed: 7':'Indice_Promedio_Edu_1992',\n",
    "             '1993':'1993',\n",
    "             'Unnamed: 9':'Indice_Promedio_Edu_1993',\n",
    "             '1994':'1994',\n",
    "             'Unnamed: 11':'Indice_Promedio_Edu_1994',\n",
    "             '1995':'1995',\n",
    "             'Unnamed: 13':'Indice_Promedio_Edu_1995',\n",
    "             '1996':'1996',\n",
    "             'Unnamed: 15':'Indice_Promedio_Edu_1996',\n",
    "             '1997':'1997',\n",
    "             'Unnamed: 17':'Indice_Promedio_Edu_1997',\n",
    "             '1998':'1998',\n",
    "             'Unnamed: 19':'Indice_Promedio_Edu_1998',\n",
    "             '1999':'1999',\n",
    "             'Unnamed: 21':'Indice_Promedio_Edu_1999',\n",
    "             '2000':'2000',\n",
    "             'Unnamed: 23':'Indice_Promedio_Edu_2000',\n",
    "             '2001':'2001',\n",
    "             'Unnamed: 25':'Indice_Promedio_Edu_2001',\n",
    "             '2002':'2002',\n",
    "             'Unnamed: 27':'Indice_Promedio_Edu_2002',\n",
    "             '2003':'2003',\n",
    "             'Unnamed: 29':'Indice_Promedio_Edu_2003',\n",
    "             '2004':'2004',\n",
    "             'Unnamed: 31':'Indice_Promedio_Edu_2004',\n",
    "             '2005':'2005',\n",
    "             'Unnamed: 33':'Indice_Promedio_Edu_2005',\n",
    "             '2006':'2006',\n",
    "             'Unnamed: 35':'Indice_Promedio_Edu_2006',\n",
    "             '2007':'2007',\n",
    "             'Unnamed: 37':'Indice_Promedio_Edu_2007',\n",
    "             '2008':'2008',\n",
    "             'Unnamed: 39':'Indice_Promedio_Edu_2008',\n",
    "             '2009':'2009',\n",
    "             'Unnamed: 41':'Indice_Promedio_Edu_2009',\n",
    "             '2010':'2010',\n",
    "             'Unnamed: 43':'Indice_Promedio_Edu_2010',\n",
    "             '2011':'2011',\n",
    "             'Unnamed: 45':'Indice_Promedio_Edu_2011',\n",
    "             '2012':'2012',\n",
    "             'Unnamed: 47':'Indice_Promedio_Edu_2012',\n",
    "             '2013':'2013',\n",
    "             'Unnamed: 49':'Indice_Promedio_Edu_2013',\n",
    "             '2014':'2014',\n",
    "             'Unnamed: 51':'Indice_Promedio_Edu_2014',\n",
    "             '2015':'2015',\n",
    "             'Unnamed: 53':'Indice_Promedio_Edu_2015',\n",
    "             '2016':'2016',\n",
    "             'Unnamed: 55':'Indice_Promedio_Edu_2016',\n",
    "             '2017':'2017',\n",
    "             'Unnamed: 57':'Indice_Promedio_Edu_2017',\n",
    "             '2018':'2018',\n",
    "             'Unnamed: 59':'Indice_Promedio_Edu_2018',\n",
    "             '2019':'2019',\n",
    "             'Unnamed: 61':'Indice_Promedio_Edu_2019'}\n",
    "\n",
    "promedio = promedio.rename(columns=head)"
   ]
  },
  {
   "cell_type": "code",
   "execution_count": 161,
   "metadata": {},
   "outputs": [],
   "source": [
    "promedio = promedio.fillna(0)"
   ]
  },
  {
   "cell_type": "code",
   "execution_count": 77,
   "metadata": {},
   "outputs": [
    {
     "output_type": "execute_result",
     "data": {
      "text/plain": [
       "  Ranking         Pais 1990  Indice_Promedio_Edu_1990 1991  \\\n",
       "0     169  Afganistán   1.5                       0.0  1.6   \n",
       "1      69     Albania   7.8                       0.0  7.8   \n",
       "2      91     Argelia   3.6                       0.0  3.8   \n",
       "3      36     Andorra    ..                       0.0   ..   \n",
       "4     148      Angola    ..                       0.0   ..   \n",
       "\n",
       "   Indice_Promedio_Edu_1991 1992  Indice_Promedio_Edu_1992 1993  \\\n",
       "0                       0.0  1.6                       0.0  1.7   \n",
       "1                       0.0  7.8                       0.0  7.8   \n",
       "2                       0.0  4.0                       0.0  4.3   \n",
       "3                       0.0   ..                       0.0   ..   \n",
       "4                       0.0   ..                       0.0   ..   \n",
       "\n",
       "   Indice_Promedio_Edu_1993  ... Indice_Educacion_2010  Indice_Educacion_2011  \\\n",
       "0                       0.0  ...              0.213333               0.220000   \n",
       "1                       0.0  ...              0.620000               0.666667   \n",
       "2                       0.0  ...              0.473333               0.493333   \n",
       "3                       0.0  ...              0.693333               0.693333   \n",
       "4                       0.0  ...              0.313333               0.313333   \n",
       "\n",
       "  Indice_Educacion_2012  Indice_Educacion_2013 Indice_Educacion_2014  \\\n",
       "0              0.226667               0.233333              0.233333   \n",
       "1              0.666667               0.666667              0.666667   \n",
       "2              0.506667               0.520000              0.526667   \n",
       "3              0.693333               0.700000              0.700000   \n",
       "4              0.320000               0.326667              0.326667   \n",
       "\n",
       "   Indice_Educacion_2015 Indice_Educacion_2016  Indice_Educacion_2017  \\\n",
       "0               0.240000              0.240000               0.253333   \n",
       "1               0.666667              0.666667               0.673333   \n",
       "2               0.526667              0.526667               0.533333   \n",
       "3               0.706667              0.706667               0.700000   \n",
       "4               0.333333              0.340000               0.340000   \n",
       "\n",
       "  Indice_Educacion_2018  Indice_Educacion_2019  \n",
       "0              0.260000               0.260000  \n",
       "1              0.673333               0.673333  \n",
       "2              0.533333               0.533333  \n",
       "3              0.700000               0.700000  \n",
       "4              0.346667               0.346667  \n",
       "\n",
       "[5 rows x 92 columns]"
      ],
      "text/html": "<div>\n<style scoped>\n    .dataframe tbody tr th:only-of-type {\n        vertical-align: middle;\n    }\n\n    .dataframe tbody tr th {\n        vertical-align: top;\n    }\n\n    .dataframe thead th {\n        text-align: right;\n    }\n</style>\n<table border=\"1\" class=\"dataframe\">\n  <thead>\n    <tr style=\"text-align: right;\">\n      <th></th>\n      <th>Ranking</th>\n      <th>Pais</th>\n      <th>1990</th>\n      <th>Indice_Promedio_Edu_1990</th>\n      <th>1991</th>\n      <th>Indice_Promedio_Edu_1991</th>\n      <th>1992</th>\n      <th>Indice_Promedio_Edu_1992</th>\n      <th>1993</th>\n      <th>Indice_Promedio_Edu_1993</th>\n      <th>...</th>\n      <th>Indice_Educacion_2010</th>\n      <th>Indice_Educacion_2011</th>\n      <th>Indice_Educacion_2012</th>\n      <th>Indice_Educacion_2013</th>\n      <th>Indice_Educacion_2014</th>\n      <th>Indice_Educacion_2015</th>\n      <th>Indice_Educacion_2016</th>\n      <th>Indice_Educacion_2017</th>\n      <th>Indice_Educacion_2018</th>\n      <th>Indice_Educacion_2019</th>\n    </tr>\n  </thead>\n  <tbody>\n    <tr>\n      <th>0</th>\n      <td>169</td>\n      <td>Afganistán</td>\n      <td>1.5</td>\n      <td>0.0</td>\n      <td>1.6</td>\n      <td>0.0</td>\n      <td>1.6</td>\n      <td>0.0</td>\n      <td>1.7</td>\n      <td>0.0</td>\n      <td>...</td>\n      <td>0.213333</td>\n      <td>0.220000</td>\n      <td>0.226667</td>\n      <td>0.233333</td>\n      <td>0.233333</td>\n      <td>0.240000</td>\n      <td>0.240000</td>\n      <td>0.253333</td>\n      <td>0.260000</td>\n      <td>0.260000</td>\n    </tr>\n    <tr>\n      <th>1</th>\n      <td>69</td>\n      <td>Albania</td>\n      <td>7.8</td>\n      <td>0.0</td>\n      <td>7.8</td>\n      <td>0.0</td>\n      <td>7.8</td>\n      <td>0.0</td>\n      <td>7.8</td>\n      <td>0.0</td>\n      <td>...</td>\n      <td>0.620000</td>\n      <td>0.666667</td>\n      <td>0.666667</td>\n      <td>0.666667</td>\n      <td>0.666667</td>\n      <td>0.666667</td>\n      <td>0.666667</td>\n      <td>0.673333</td>\n      <td>0.673333</td>\n      <td>0.673333</td>\n    </tr>\n    <tr>\n      <th>2</th>\n      <td>91</td>\n      <td>Argelia</td>\n      <td>3.6</td>\n      <td>0.0</td>\n      <td>3.8</td>\n      <td>0.0</td>\n      <td>4.0</td>\n      <td>0.0</td>\n      <td>4.3</td>\n      <td>0.0</td>\n      <td>...</td>\n      <td>0.473333</td>\n      <td>0.493333</td>\n      <td>0.506667</td>\n      <td>0.520000</td>\n      <td>0.526667</td>\n      <td>0.526667</td>\n      <td>0.526667</td>\n      <td>0.533333</td>\n      <td>0.533333</td>\n      <td>0.533333</td>\n    </tr>\n    <tr>\n      <th>3</th>\n      <td>36</td>\n      <td>Andorra</td>\n      <td>..</td>\n      <td>0.0</td>\n      <td>..</td>\n      <td>0.0</td>\n      <td>..</td>\n      <td>0.0</td>\n      <td>..</td>\n      <td>0.0</td>\n      <td>...</td>\n      <td>0.693333</td>\n      <td>0.693333</td>\n      <td>0.693333</td>\n      <td>0.700000</td>\n      <td>0.700000</td>\n      <td>0.706667</td>\n      <td>0.706667</td>\n      <td>0.700000</td>\n      <td>0.700000</td>\n      <td>0.700000</td>\n    </tr>\n    <tr>\n      <th>4</th>\n      <td>148</td>\n      <td>Angola</td>\n      <td>..</td>\n      <td>0.0</td>\n      <td>..</td>\n      <td>0.0</td>\n      <td>..</td>\n      <td>0.0</td>\n      <td>..</td>\n      <td>0.0</td>\n      <td>...</td>\n      <td>0.313333</td>\n      <td>0.313333</td>\n      <td>0.320000</td>\n      <td>0.326667</td>\n      <td>0.326667</td>\n      <td>0.333333</td>\n      <td>0.340000</td>\n      <td>0.340000</td>\n      <td>0.346667</td>\n      <td>0.346667</td>\n    </tr>\n  </tbody>\n</table>\n<p>5 rows × 92 columns</p>\n</div>"
     },
     "metadata": {},
     "execution_count": 77
    }
   ],
   "source": [
    "promedio.head()"
   ]
  },
  {
   "cell_type": "code",
   "execution_count": 162,
   "metadata": {},
   "outputs": [
    {
     "output_type": "stream",
     "name": "stdout",
     "text": [
      "<class 'pandas.core.frame.DataFrame'>\nRangeIndex: 190 entries, 0 to 189\nData columns (total 62 columns):\n #   Column                    Non-Null Count  Dtype  \n---  ------                    --------------  -----  \n 0   Ranking                   190 non-null    object \n 1   Pais                      190 non-null    object \n 2   1990                      190 non-null    object \n 3   Indice_Promedio_Edu_1990  190 non-null    float64\n 4   1991                      190 non-null    object \n 5   Indice_Promedio_Edu_1991  190 non-null    float64\n 6   1992                      190 non-null    object \n 7   Indice_Promedio_Edu_1992  190 non-null    float64\n 8   1993                      190 non-null    object \n 9   Indice_Promedio_Edu_1993  190 non-null    float64\n 10  1994                      190 non-null    object \n 11  Indice_Promedio_Edu_1994  190 non-null    float64\n 12  1995                      190 non-null    object \n 13  Indice_Promedio_Edu_1995  190 non-null    float64\n 14  1996                      190 non-null    object \n 15  Indice_Promedio_Edu_1996  190 non-null    float64\n 16  1997                      190 non-null    object \n 17  Indice_Promedio_Edu_1997  190 non-null    float64\n 18  1998                      190 non-null    object \n 19  Indice_Promedio_Edu_1998  190 non-null    float64\n 20  1999                      190 non-null    object \n 21  Indice_Promedio_Edu_1999  190 non-null    float64\n 22  2000                      190 non-null    object \n 23  Indice_Promedio_Edu_2000  190 non-null    float64\n 24  2001                      190 non-null    object \n 25  Indice_Promedio_Edu_2001  190 non-null    float64\n 26  2002                      190 non-null    object \n 27  Indice_Promedio_Edu_2002  190 non-null    float64\n 28  2003                      190 non-null    object \n 29  Indice_Promedio_Edu_2003  190 non-null    float64\n 30  2004                      190 non-null    object \n 31  Indice_Promedio_Edu_2004  190 non-null    float64\n 32  2005                      190 non-null    object \n 33  Indice_Promedio_Edu_2005  190 non-null    float64\n 34  2006                      190 non-null    object \n 35  Indice_Promedio_Edu_2006  190 non-null    float64\n 36  2007                      190 non-null    object \n 37  Indice_Promedio_Edu_2007  190 non-null    float64\n 38  2008                      190 non-null    object \n 39  Indice_Promedio_Edu_2008  190 non-null    float64\n 40  2009                      190 non-null    object \n 41  Indice_Promedio_Edu_2009  190 non-null    float64\n 42  2010                      190 non-null    object \n 43  Indice_Promedio_Edu_2010  190 non-null    float64\n 44  2011                      190 non-null    object \n 45  Indice_Promedio_Edu_2011  190 non-null    float64\n 46  2012                      190 non-null    object \n 47  Indice_Promedio_Edu_2012  190 non-null    float64\n 48  2013                      190 non-null    object \n 49  Indice_Promedio_Edu_2013  190 non-null    float64\n 50  2014                      190 non-null    object \n 51  Indice_Promedio_Edu_2014  190 non-null    float64\n 52  2015                      190 non-null    object \n 53  Indice_Promedio_Edu_2015  190 non-null    float64\n 54  2016                      190 non-null    object \n 55  Indice_Promedio_Edu_2016  190 non-null    float64\n 56  2017                      190 non-null    object \n 57  Indice_Promedio_Edu_2017  190 non-null    float64\n 58  2018                      190 non-null    object \n 59  Indice_Promedio_Edu_2018  190 non-null    float64\n 60  2019                      190 non-null    object \n 61  Indice_Promedio_Edu_2019  190 non-null    object \ndtypes: float64(29), object(33)\nmemory usage: 92.2+ KB\n"
     ]
    }
   ],
   "source": [
    "promedio.info()"
   ]
  },
  {
   "cell_type": "code",
   "execution_count": 79,
   "metadata": {},
   "outputs": [
    {
     "output_type": "execute_result",
     "data": {
      "text/plain": [
       "(190, 92)"
      ]
     },
     "metadata": {},
     "execution_count": 79
    }
   ],
   "source": [
    "promedio.shape"
   ]
  },
  {
   "cell_type": "code",
   "execution_count": 163,
   "metadata": {},
   "outputs": [],
   "source": [
    "for year in range(1990, 2020):\n",
    "    year = str(year)\n",
    "    indices = []\n",
    "    for cell in promedio[year]:\n",
    "        try:\n",
    "            indices.append((float(cell) - 0) / (15 - 0))\n",
    "        except:\n",
    "            indices.append(0)\n",
    "    promedio[f'Indice_Promedio_Edu_{year}'] = indices\n",
    "\n",
    "promedio = promedio.drop([str(i) for i in range(1990, 2020)], axis=1)"
   ]
  },
  {
   "cell_type": "code",
   "execution_count": 164,
   "metadata": {},
   "outputs": [
    {
     "output_type": "execute_result",
     "data": {
      "text/plain": [
       "  Ranking         Pais  Indice_Promedio_Edu_1990  Indice_Promedio_Edu_1991  \\\n",
       "0     169  Afganistán                       0.10                  0.106667   \n",
       "1      69     Albania                       0.52                  0.520000   \n",
       "2      91     Argelia                       0.24                  0.253333   \n",
       "3      36     Andorra                       0.00                  0.000000   \n",
       "4     148      Angola                       0.00                  0.000000   \n",
       "\n",
       "   Indice_Promedio_Edu_1992  Indice_Promedio_Edu_1993  \\\n",
       "0                  0.106667                  0.113333   \n",
       "1                  0.520000                  0.520000   \n",
       "2                  0.266667                  0.286667   \n",
       "3                  0.000000                  0.000000   \n",
       "4                  0.000000                  0.000000   \n",
       "\n",
       "   Indice_Promedio_Edu_1994  Indice_Promedio_Edu_1995  \\\n",
       "0                      0.12                  0.126667   \n",
       "1                      0.52                  0.533333   \n",
       "2                      0.30                  0.313333   \n",
       "3                      0.00                  0.000000   \n",
       "4                      0.00                  0.000000   \n",
       "\n",
       "   Indice_Promedio_Edu_1996  Indice_Promedio_Edu_1997  ...  \\\n",
       "0                  0.126667                  0.133333  ...   \n",
       "1                  0.546667                  0.553333  ...   \n",
       "2                  0.333333                  0.346667  ...   \n",
       "3                  0.000000                  0.000000  ...   \n",
       "4                  0.000000                  0.000000  ...   \n",
       "\n",
       "   Indice_Promedio_Edu_2010  Indice_Promedio_Edu_2011  \\\n",
       "0                  0.213333                  0.220000   \n",
       "1                  0.620000                  0.666667   \n",
       "2                  0.473333                  0.493333   \n",
       "3                  0.693333                  0.693333   \n",
       "4                  0.313333                  0.313333   \n",
       "\n",
       "   Indice_Promedio_Edu_2012  Indice_Promedio_Edu_2013  \\\n",
       "0                  0.226667                  0.233333   \n",
       "1                  0.666667                  0.666667   \n",
       "2                  0.506667                  0.520000   \n",
       "3                  0.693333                  0.700000   \n",
       "4                  0.320000                  0.326667   \n",
       "\n",
       "   Indice_Promedio_Edu_2014  Indice_Promedio_Edu_2015  \\\n",
       "0                  0.233333                  0.240000   \n",
       "1                  0.666667                  0.666667   \n",
       "2                  0.526667                  0.526667   \n",
       "3                  0.700000                  0.706667   \n",
       "4                  0.326667                  0.333333   \n",
       "\n",
       "   Indice_Promedio_Edu_2016  Indice_Promedio_Edu_2017  \\\n",
       "0                  0.240000                  0.253333   \n",
       "1                  0.666667                  0.673333   \n",
       "2                  0.526667                  0.533333   \n",
       "3                  0.706667                  0.700000   \n",
       "4                  0.340000                  0.340000   \n",
       "\n",
       "   Indice_Promedio_Edu_2018  Indice_Promedio_Edu_2019  \n",
       "0                  0.260000                  0.260000  \n",
       "1                  0.673333                  0.673333  \n",
       "2                  0.533333                  0.533333  \n",
       "3                  0.700000                  0.700000  \n",
       "4                  0.346667                  0.346667  \n",
       "\n",
       "[5 rows x 32 columns]"
      ],
      "text/html": "<div>\n<style scoped>\n    .dataframe tbody tr th:only-of-type {\n        vertical-align: middle;\n    }\n\n    .dataframe tbody tr th {\n        vertical-align: top;\n    }\n\n    .dataframe thead th {\n        text-align: right;\n    }\n</style>\n<table border=\"1\" class=\"dataframe\">\n  <thead>\n    <tr style=\"text-align: right;\">\n      <th></th>\n      <th>Ranking</th>\n      <th>Pais</th>\n      <th>Indice_Promedio_Edu_1990</th>\n      <th>Indice_Promedio_Edu_1991</th>\n      <th>Indice_Promedio_Edu_1992</th>\n      <th>Indice_Promedio_Edu_1993</th>\n      <th>Indice_Promedio_Edu_1994</th>\n      <th>Indice_Promedio_Edu_1995</th>\n      <th>Indice_Promedio_Edu_1996</th>\n      <th>Indice_Promedio_Edu_1997</th>\n      <th>...</th>\n      <th>Indice_Promedio_Edu_2010</th>\n      <th>Indice_Promedio_Edu_2011</th>\n      <th>Indice_Promedio_Edu_2012</th>\n      <th>Indice_Promedio_Edu_2013</th>\n      <th>Indice_Promedio_Edu_2014</th>\n      <th>Indice_Promedio_Edu_2015</th>\n      <th>Indice_Promedio_Edu_2016</th>\n      <th>Indice_Promedio_Edu_2017</th>\n      <th>Indice_Promedio_Edu_2018</th>\n      <th>Indice_Promedio_Edu_2019</th>\n    </tr>\n  </thead>\n  <tbody>\n    <tr>\n      <th>0</th>\n      <td>169</td>\n      <td>Afganistán</td>\n      <td>0.10</td>\n      <td>0.106667</td>\n      <td>0.106667</td>\n      <td>0.113333</td>\n      <td>0.12</td>\n      <td>0.126667</td>\n      <td>0.126667</td>\n      <td>0.133333</td>\n      <td>...</td>\n      <td>0.213333</td>\n      <td>0.220000</td>\n      <td>0.226667</td>\n      <td>0.233333</td>\n      <td>0.233333</td>\n      <td>0.240000</td>\n      <td>0.240000</td>\n      <td>0.253333</td>\n      <td>0.260000</td>\n      <td>0.260000</td>\n    </tr>\n    <tr>\n      <th>1</th>\n      <td>69</td>\n      <td>Albania</td>\n      <td>0.52</td>\n      <td>0.520000</td>\n      <td>0.520000</td>\n      <td>0.520000</td>\n      <td>0.52</td>\n      <td>0.533333</td>\n      <td>0.546667</td>\n      <td>0.553333</td>\n      <td>...</td>\n      <td>0.620000</td>\n      <td>0.666667</td>\n      <td>0.666667</td>\n      <td>0.666667</td>\n      <td>0.666667</td>\n      <td>0.666667</td>\n      <td>0.666667</td>\n      <td>0.673333</td>\n      <td>0.673333</td>\n      <td>0.673333</td>\n    </tr>\n    <tr>\n      <th>2</th>\n      <td>91</td>\n      <td>Argelia</td>\n      <td>0.24</td>\n      <td>0.253333</td>\n      <td>0.266667</td>\n      <td>0.286667</td>\n      <td>0.30</td>\n      <td>0.313333</td>\n      <td>0.333333</td>\n      <td>0.346667</td>\n      <td>...</td>\n      <td>0.473333</td>\n      <td>0.493333</td>\n      <td>0.506667</td>\n      <td>0.520000</td>\n      <td>0.526667</td>\n      <td>0.526667</td>\n      <td>0.526667</td>\n      <td>0.533333</td>\n      <td>0.533333</td>\n      <td>0.533333</td>\n    </tr>\n    <tr>\n      <th>3</th>\n      <td>36</td>\n      <td>Andorra</td>\n      <td>0.00</td>\n      <td>0.000000</td>\n      <td>0.000000</td>\n      <td>0.000000</td>\n      <td>0.00</td>\n      <td>0.000000</td>\n      <td>0.000000</td>\n      <td>0.000000</td>\n      <td>...</td>\n      <td>0.693333</td>\n      <td>0.693333</td>\n      <td>0.693333</td>\n      <td>0.700000</td>\n      <td>0.700000</td>\n      <td>0.706667</td>\n      <td>0.706667</td>\n      <td>0.700000</td>\n      <td>0.700000</td>\n      <td>0.700000</td>\n    </tr>\n    <tr>\n      <th>4</th>\n      <td>148</td>\n      <td>Angola</td>\n      <td>0.00</td>\n      <td>0.000000</td>\n      <td>0.000000</td>\n      <td>0.000000</td>\n      <td>0.00</td>\n      <td>0.000000</td>\n      <td>0.000000</td>\n      <td>0.000000</td>\n      <td>...</td>\n      <td>0.313333</td>\n      <td>0.313333</td>\n      <td>0.320000</td>\n      <td>0.326667</td>\n      <td>0.326667</td>\n      <td>0.333333</td>\n      <td>0.340000</td>\n      <td>0.340000</td>\n      <td>0.346667</td>\n      <td>0.346667</td>\n    </tr>\n  </tbody>\n</table>\n<p>5 rows × 32 columns</p>\n</div>"
     },
     "metadata": {},
     "execution_count": 164
    }
   ],
   "source": [
    "promedio.head()"
   ]
  },
  {
   "source": [
    "## Calculo del Indice de Educacion"
   ],
   "cell_type": "markdown",
   "metadata": {}
  },
  {
   "cell_type": "code",
   "execution_count": 165,
   "metadata": {},
   "outputs": [],
   "source": [
    "heads = [\"Pais\"]\n",
    "heads += [str(i) for i in range(1990, 2020)]\n",
    "indice = pd.DataFrame({}, columns=heads)"
   ]
  },
  {
   "cell_type": "code",
   "execution_count": 175,
   "metadata": {},
   "outputs": [
    {
     "output_type": "error",
     "ename": "IndexError",
     "evalue": "only integers, slices (`:`), ellipsis (`...`), numpy.newaxis (`None`) and integer or boolean arrays are valid indices",
     "traceback": [
      "\u001b[0;31m---------------------------------------------------------------------------\u001b[0m",
      "\u001b[0;31mIndexError\u001b[0m                                Traceback (most recent call last)",
      "\u001b[0;32m<ipython-input-175-d2227f4cf532>\u001b[0m in \u001b[0;36m<module>\u001b[0;34m\u001b[0m\n\u001b[1;32m     13\u001b[0m \u001b[0;34m\u001b[0m\u001b[0m\n\u001b[1;32m     14\u001b[0m \u001b[0;32mfor\u001b[0m \u001b[0mcountry\u001b[0m \u001b[0;32min\u001b[0m \u001b[0mpromedio\u001b[0m\u001b[0;34m.\u001b[0m\u001b[0mPais\u001b[0m\u001b[0;34m:\u001b[0m\u001b[0;34m\u001b[0m\u001b[0;34m\u001b[0m\u001b[0m\n\u001b[0;32m---> 15\u001b[0;31m     \u001b[0mindice\u001b[0m \u001b[0;34m=\u001b[0m \u001b[0mindice\u001b[0m\u001b[0;34m.\u001b[0m\u001b[0mappend\u001b[0m\u001b[0;34m(\u001b[0m\u001b[0mcalcular_indice\u001b[0m\u001b[0;34m(\u001b[0m\u001b[0mcountry\u001b[0m\u001b[0;34m,\u001b[0m \u001b[0mexpectativa\u001b[0m\u001b[0;34m[\u001b[0m\u001b[0mexpectativa\u001b[0m\u001b[0;34m.\u001b[0m\u001b[0mPais\u001b[0m \u001b[0;34m==\u001b[0m \u001b[0mcountry\u001b[0m\u001b[0;34m]\u001b[0m\u001b[0;34m,\u001b[0m \u001b[0mpromedio\u001b[0m\u001b[0;34m[\u001b[0m\u001b[0mpromedio\u001b[0m\u001b[0;34m.\u001b[0m\u001b[0mPais\u001b[0m \u001b[0;34m==\u001b[0m \u001b[0mcountry\u001b[0m\u001b[0;34m]\u001b[0m\u001b[0;34m)\u001b[0m\u001b[0;34m)\u001b[0m\u001b[0;34m\u001b[0m\u001b[0;34m\u001b[0m\u001b[0m\n\u001b[0m",
      "\u001b[0;32m<ipython-input-175-d2227f4cf532>\u001b[0m in \u001b[0;36mcalcular_indice\u001b[0;34m(_pais, expect, prom)\u001b[0m\n\u001b[1;32m      9\u001b[0m     \u001b[0;32mfor\u001b[0m \u001b[0mi\u001b[0m \u001b[0;32min\u001b[0m \u001b[0mrange\u001b[0m\u001b[0;34m(\u001b[0m\u001b[0;36m1990\u001b[0m\u001b[0;34m,\u001b[0m \u001b[0;36m2020\u001b[0m\u001b[0;34m)\u001b[0m\u001b[0;34m:\u001b[0m\u001b[0;34m\u001b[0m\u001b[0;34m\u001b[0m\u001b[0m\n\u001b[1;32m     10\u001b[0m         \u001b[0mindx\u001b[0m \u001b[0;34m=\u001b[0m \u001b[0mstr\u001b[0m\u001b[0;34m(\u001b[0m\u001b[0mi\u001b[0m\u001b[0;34m)\u001b[0m\u001b[0;34m\u001b[0m\u001b[0;34m\u001b[0m\u001b[0m\n\u001b[0;32m---> 11\u001b[0;31m         \u001b[0mdicci\u001b[0m\u001b[0;34m[\u001b[0m\u001b[0mindx\u001b[0m\u001b[0;34m]\u001b[0m \u001b[0;34m=\u001b[0m \u001b[0mindice\u001b[0m\u001b[0;34m[\u001b[0m\u001b[0mindx\u001b[0m\u001b[0;34m]\u001b[0m\u001b[0;34m\u001b[0m\u001b[0;34m\u001b[0m\u001b[0m\n\u001b[0m\u001b[1;32m     12\u001b[0m     \u001b[0;32mreturn\u001b[0m \u001b[0mdicci\u001b[0m\u001b[0;34m\u001b[0m\u001b[0;34m\u001b[0m\u001b[0m\n\u001b[1;32m     13\u001b[0m \u001b[0;34m\u001b[0m\u001b[0m\n",
      "\u001b[0;31mIndexError\u001b[0m: only integers, slices (`:`), ellipsis (`...`), numpy.newaxis (`None`) and integer or boolean arrays are valid indices"
     ]
    }
   ],
   "source": [
    "import numpy as np\n",
    "\n",
    "def calcular_indice(_pais, expect, prom):\n",
    "    dicci = {\n",
    "        \"Pais\": _pais\n",
    "    }\n",
    "    indice = (prom[3:].to_numpy() + expect[3:].to_numpy()) / 2\n",
    "\n",
    "    for i in range(1990, 2020):\n",
    "        indx = str(i)\n",
    "        dicci[indx] = indice[indx]\n",
    "    return dicci\n",
    "\n",
    "for country in promedio.Pais:\n",
    "    indice = indice.append(calcular_indice(country, expectativa[expectativa.Pais == country], promedio[promedio.Pais == country]))\n"
   ]
  },
  {
   "cell_type": "code",
   "execution_count": null,
   "metadata": {},
   "outputs": [],
   "source": []
  }
 ],
 "metadata": {
  "kernelspec": {
   "display_name": "Python 3",
   "language": "python",
   "name": "python3"
  },
  "language_info": {
   "codemirror_mode": {
    "name": "ipython",
    "version": 2
   },
   "file_extension": ".py",
   "mimetype": "text/x-python",
   "name": "python",
   "nbconvert_exporter": "python",
   "pygments_lexer": "ipython2",
   "version": "3.6.8-final"
  }
 },
 "nbformat": 4,
 "nbformat_minor": 0
}