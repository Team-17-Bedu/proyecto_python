{
 "metadata": {
  "language_info": {
   "codemirror_mode": {
    "name": "ipython",
    "version": 3
   },
   "file_extension": ".py",
   "mimetype": "text/x-python",
   "name": "python",
   "nbconvert_exporter": "python",
   "pygments_lexer": "ipython3",
   "version": "3.6.8-final"
  },
  "orig_nbformat": 2,
  "kernelspec": {
   "name": "python3",
   "display_name": "Python 3.6.8 64-bit",
   "metadata": {
    "interpreter": {
     "hash": "58bc13ec4dd135858b8220102d0ad3358f57eb64d131366ec25c4d4365eacf63"
    }
   }
  }
 },
 "nbformat": 4,
 "nbformat_minor": 2,
 "cells": [
  {
   "source": [
    "<!-- PROJECT LOGO -->\n",
    "<br/>\n",
    "<p align=\"center\">\n",
    "    <img src=\"https://raw.githubusercontent.com/Team-17-Bedu/proyecto_python/main/img/icono.png\" alt=\"Logo\" width=\"135\" height=\"135\">\n",
    "\n",
    "  <h3 align=\"center\"><strong>Países con mayor calidad de vida</strong></h3>\n",
    "\n",
    "  <p align=\"center\">\n",
    "    Proyecto final para el modulo \"Procesamiento de datos con Python\"\n",
    "  </p>\n",
    "</p>\n",
    "\n",
    "# Actividad Limpieza del Documento \"Life_expectancy_at_birth_(years).csv\".\n",
    "\n",
    "## Acerca del proyecto:\n",
    "\n",
    "Este proyecto tiene como proposito realizar un analisis de la calidad de vida de ciertos paises, con el fin de determinar cuál de ellos podria ser la mejor opcion para vivir o buscar un empleo, todo esto, haciendo uso de herramientas estadísticas y computacionales, siendo el principal aliado, el lenguaje de programacion Python. \n",
    "\n",
    "\n",
    "En este caso se tendra como principal objetivo en calcular el IDH por medio de la documentación proporcionada del __*Human Development Report 2020*__, presente en el siguiente [enlace](http://hdr.undp.org/sites/default/files/hdr2020_technical_notes.pdf). Y con tales resultados justificar nuestro anterior proyecto elaborado en el lenguaje R, el proyecto esta presente en el siguiente [enlace](https://github.com/Team-17-Bedu/proyecto).\n",
    "\n",
    "## Notas\n",
    "\n",
    "Algunas consideraciones que se consideraron antes de caragar el documento __*\"Life_expectancy_at_birth_(years).csv\"*__ . Es que se hizo una exploración manual a los documento .csv. \n",
    "\n",
    "\n",
    "En este analisis se observo las siguientes caracteristicas en el documento __*\"Life_expectancy_at_birth_(years).csv\"*__:\n",
    "\n",
    "* Contaba con datos extra al principio del documento .csv, como se observa en la siguiente imagen:\n",
    "\n",
    "\n",
    "![1 Observacion](https://github.com/Team-17-Bedu/proyecto_python/blob/main/img/img1.PNG)\n",
    "<p align=\"center\">\n",
    "  <a href=\"https://github.com/Team-17-Bedu/proyecto_python\">\n",
    "    <img src=\"https://drive.google.com/uc?export=download&id=1QnFcvVbXZDi83gaH8RupyJNuJSzJuSLU\">\n",
    "  </a>\n",
    "</p>\n",
    "<br>\n",
    "\n",
    "Figura 1. Cabecera original \n",
    "\n",
    "\n",
    "* Contaba con datos extra al final del documento .csv, como se observa en la siguiente imagen:\n",
    "\n",
    "\n",
    "![2 Observacion](https://github.com/Team-17-Bedu/proyecto_python/blob/main/img/img2.PNG)\n",
    "<p align=\"center\">\n",
    "  <a href=\"https://github.com/Team-17-Bedu/proyecto_python\">\n",
    "    <img src=\"https://drive.google.com/uc?export=download&id=1rxUjLp0viVp_AwHLzFkYRlXldjGlecLp\">\n",
    "  </a>\n",
    "</p>\n",
    "<br>\n",
    "\n",
    "Figura 2. Cola original \n",
    "\n",
    "Para ello se decidio de una vez, eliminar esos datos inecesarios del documento __*\"Life_expectancy_at_birth_(years).csv\"*__, con el fin de no tener problemas al cargar el .csv aun Jupyter Notebook.\n",
    "\n",
    "\n",
    "## Descripción de la actividad\n",
    "\n",
    "En esta actividad se pretende hacer un analisis __*\"Life_expectancy_at_birth_(years).csv\"*__ y una limpieza con el fin de calcular el indice de Salud por pais, para posteriormente calcular el IDH. \n",
    " \n",
    "\n",
    "En un instante se describiran ciertas actividades realizadas al documento .csv:\n",
    "\n",
    "1. Se realizaron las importaciones necesarias."
   ],
   "cell_type": "markdown",
   "metadata": {}
  },
  {
   "cell_type": "code",
   "execution_count": 2,
   "metadata": {},
   "outputs": [],
   "source": [
    "import pandas as pd \n"
   ]
  },
  {
   "cell_type": "code",
   "execution_count": 3,
   "metadata": {},
   "outputs": [],
   "source": [
    "access = ('ivan.montiel.c@gmail.com', 'Blackgate74@')"
   ]
  },
  {
   "cell_type": "code",
   "execution_count": 4,
   "metadata": {},
   "outputs": [],
   "source": [
    "payload = {\n",
    "    'indicator_id': 69706,\n",
    "    'auth': access\n",
    "}"
   ]
  },
  {
   "cell_type": "code",
   "execution_count": 5,
   "metadata": {},
   "outputs": [],
   "source": [
    "api_url = 'http://ec2-54-174-131-205.compute-1.amazonaws.com/API/HDRO_API.php'"
   ]
  },
  {
   "cell_type": "code",
   "execution_count": 26,
   "metadata": {},
   "outputs": [
    {
     "output_type": "execute_result",
     "data": {
      "text/plain": [
       "<Response [200]>"
      ]
     },
     "metadata": {},
     "execution_count": 26
    }
   ],
   "source": [
    "requests.get(\"http://ec2-54-174-131-205.compute-1.amazonaws.com/API/Login.php\", auth=('ivan.montiel.c@gmail.com', 'Blackgate74@'))"
   ]
  },
  {
   "cell_type": "code",
   "execution_count": 30,
   "metadata": {},
   "outputs": [],
   "source": [
    "session = requests.Session()"
   ]
  },
  {
   "cell_type": "code",
   "execution_count": 31,
   "metadata": {},
   "outputs": [
    {
     "output_type": "execute_result",
     "data": {
      "text/plain": [
       "<Response [200]>"
      ]
     },
     "metadata": {},
     "execution_count": 31
    }
   ],
   "source": [
    "session.get(\"http://ec2-54-174-131-205.compute-1.amazonaws.com/API/Login.php\", auth=('ivan.montiel.c@gmail.com', 'Blackgate74@'))"
   ]
  },
  {
   "cell_type": "code",
   "execution_count": 80,
   "metadata": {},
   "outputs": [],
   "source": [
    "data = session.get('http://ec2-54-174-131-205.compute-1.amazonaws.com/API/HDRO_API.php/indicator_id=137506/structure=yic')"
   ]
  },
  {
   "cell_type": "code",
   "execution_count": 81,
   "metadata": {},
   "outputs": [
    {
     "output_type": "execute_result",
     "data": {
      "text/plain": [
       "dict_keys(['indicator_value', 'country_name', 'indicator_name'])"
      ]
     },
     "metadata": {},
     "execution_count": 81
    }
   ],
   "source": [
    "df_1 = data.json()\n",
    "df_1.keys()"
   ]
  },
  {
   "cell_type": "code",
   "execution_count": 82,
   "metadata": {},
   "outputs": [
    {
     "output_type": "execute_result",
     "data": {
      "text/plain": [
       "dict_keys(['1990', '1991', '1992', '1993', '1994', '1995', '1996', '1997', '1998', '1999', '2000', '2001', '2002', '2003', '2004', '2005', '2006', '2007', '2008', '2009', '2010', '2011', '2012', '2013', '2014', '2015', '2016', '2017', '2018', '2019'])"
      ]
     },
     "metadata": {},
     "execution_count": 82
    }
   ],
   "source": [
    "df_1['indicator_value'].keys()"
   ]
  },
  {
   "cell_type": "code",
   "execution_count": 83,
   "metadata": {},
   "outputs": [],
   "source": [
    "data = data.json()"
   ]
  },
  {
   "cell_type": "code",
   "execution_count": 84,
   "metadata": {},
   "outputs": [
    {
     "output_type": "execute_result",
     "data": {
      "text/plain": [
       "                                          indicator_value  country_name  \\\n",
       "1990    {'137506': {'AFG': 0.302, 'ALB': 0.65, 'ARE': ...           NaN   \n",
       "1991    {'137506': {'AFG': 0.307, 'ALB': 0.631, 'ARE':...           NaN   \n",
       "1992    {'137506': {'AFG': 0.316, 'ALB': 0.615, 'ARE':...           NaN   \n",
       "1993    {'137506': {'AFG': 0.312, 'ALB': 0.618, 'ARE':...           NaN   \n",
       "1994    {'137506': {'AFG': 0.307, 'ALB': 0.624, 'ARE':...           NaN   \n",
       "...                                                   ...           ...   \n",
       "YEM                                                   NaN         Yemen   \n",
       "ZAF                                                   NaN  South Africa   \n",
       "ZMB                                                   NaN        Zambia   \n",
       "ZWE                                                   NaN      Zimbabwe   \n",
       "137506                                                NaN           NaN   \n",
       "\n",
       "                       indicator_name  \n",
       "1990                              NaN  \n",
       "1991                              NaN  \n",
       "1992                              NaN  \n",
       "1993                              NaN  \n",
       "1994                              NaN  \n",
       "...                               ...  \n",
       "YEM                               NaN  \n",
       "ZAF                               NaN  \n",
       "ZMB                               NaN  \n",
       "ZWE                               NaN  \n",
       "137506  Human Development Index (HDI)  \n",
       "\n",
       "[220 rows x 3 columns]"
      ],
      "text/html": "<div>\n<style scoped>\n    .dataframe tbody tr th:only-of-type {\n        vertical-align: middle;\n    }\n\n    .dataframe tbody tr th {\n        vertical-align: top;\n    }\n\n    .dataframe thead th {\n        text-align: right;\n    }\n</style>\n<table border=\"1\" class=\"dataframe\">\n  <thead>\n    <tr style=\"text-align: right;\">\n      <th></th>\n      <th>indicator_value</th>\n      <th>country_name</th>\n      <th>indicator_name</th>\n    </tr>\n  </thead>\n  <tbody>\n    <tr>\n      <th>1990</th>\n      <td>{'137506': {'AFG': 0.302, 'ALB': 0.65, 'ARE': ...</td>\n      <td>NaN</td>\n      <td>NaN</td>\n    </tr>\n    <tr>\n      <th>1991</th>\n      <td>{'137506': {'AFG': 0.307, 'ALB': 0.631, 'ARE':...</td>\n      <td>NaN</td>\n      <td>NaN</td>\n    </tr>\n    <tr>\n      <th>1992</th>\n      <td>{'137506': {'AFG': 0.316, 'ALB': 0.615, 'ARE':...</td>\n      <td>NaN</td>\n      <td>NaN</td>\n    </tr>\n    <tr>\n      <th>1993</th>\n      <td>{'137506': {'AFG': 0.312, 'ALB': 0.618, 'ARE':...</td>\n      <td>NaN</td>\n      <td>NaN</td>\n    </tr>\n    <tr>\n      <th>1994</th>\n      <td>{'137506': {'AFG': 0.307, 'ALB': 0.624, 'ARE':...</td>\n      <td>NaN</td>\n      <td>NaN</td>\n    </tr>\n    <tr>\n      <th>...</th>\n      <td>...</td>\n      <td>...</td>\n      <td>...</td>\n    </tr>\n    <tr>\n      <th>YEM</th>\n      <td>NaN</td>\n      <td>Yemen</td>\n      <td>NaN</td>\n    </tr>\n    <tr>\n      <th>ZAF</th>\n      <td>NaN</td>\n      <td>South Africa</td>\n      <td>NaN</td>\n    </tr>\n    <tr>\n      <th>ZMB</th>\n      <td>NaN</td>\n      <td>Zambia</td>\n      <td>NaN</td>\n    </tr>\n    <tr>\n      <th>ZWE</th>\n      <td>NaN</td>\n      <td>Zimbabwe</td>\n      <td>NaN</td>\n    </tr>\n    <tr>\n      <th>137506</th>\n      <td>NaN</td>\n      <td>NaN</td>\n      <td>Human Development Index (HDI)</td>\n    </tr>\n  </tbody>\n</table>\n<p>220 rows × 3 columns</p>\n</div>"
     },
     "metadata": {},
     "execution_count": 84
    }
   ],
   "source": [
    "import pandas as pd\n",
    "\n",
    "df = pd.DataFrame.from_dict(data)\n",
    "df"
   ]
  },
  {
   "cell_type": "code",
   "execution_count": 23,
   "metadata": {},
   "outputs": [
    {
     "output_type": "execute_result",
     "data": {
      "text/plain": [
       "<Response [200]>"
      ]
     },
     "metadata": {},
     "execution_count": 23
    }
   ],
   "source": [
    "requests.get('https://apis.apizaco.tecnm.mx/SIA/?modulo=Login&controlador=Login&accion=index',\n",
    "auth=('17370745', 'MCI45+it52'))"
   ]
  },
  {
   "cell_type": "code",
   "execution_count": 86,
   "metadata": {},
   "outputs": [
    {
     "output_type": "execute_result",
     "data": {
      "text/plain": [
       "                                          indicator_value  country_name  \\\n",
       "1990    {'137506': {'AFG': 0.302, 'ALB': 0.65, 'ARE': ...           NaN   \n",
       "1991    {'137506': {'AFG': 0.307, 'ALB': 0.631, 'ARE':...           NaN   \n",
       "1992    {'137506': {'AFG': 0.316, 'ALB': 0.615, 'ARE':...           NaN   \n",
       "1993    {'137506': {'AFG': 0.312, 'ALB': 0.618, 'ARE':...           NaN   \n",
       "1994    {'137506': {'AFG': 0.307, 'ALB': 0.624, 'ARE':...           NaN   \n",
       "...                                                   ...           ...   \n",
       "YEM                                                   NaN         Yemen   \n",
       "ZAF                                                   NaN  South Africa   \n",
       "ZMB                                                   NaN        Zambia   \n",
       "ZWE                                                   NaN      Zimbabwe   \n",
       "137506                                                NaN           NaN   \n",
       "\n",
       "                       indicator_name  \n",
       "1990                              NaN  \n",
       "1991                              NaN  \n",
       "1992                              NaN  \n",
       "1993                              NaN  \n",
       "1994                              NaN  \n",
       "...                               ...  \n",
       "YEM                               NaN  \n",
       "ZAF                               NaN  \n",
       "ZMB                               NaN  \n",
       "ZWE                               NaN  \n",
       "137506  Human Development Index (HDI)  \n",
       "\n",
       "[220 rows x 3 columns]"
      ],
      "text/html": "<div>\n<style scoped>\n    .dataframe tbody tr th:only-of-type {\n        vertical-align: middle;\n    }\n\n    .dataframe tbody tr th {\n        vertical-align: top;\n    }\n\n    .dataframe thead th {\n        text-align: right;\n    }\n</style>\n<table border=\"1\" class=\"dataframe\">\n  <thead>\n    <tr style=\"text-align: right;\">\n      <th></th>\n      <th>indicator_value</th>\n      <th>country_name</th>\n      <th>indicator_name</th>\n    </tr>\n  </thead>\n  <tbody>\n    <tr>\n      <th>1990</th>\n      <td>{'137506': {'AFG': 0.302, 'ALB': 0.65, 'ARE': ...</td>\n      <td>NaN</td>\n      <td>NaN</td>\n    </tr>\n    <tr>\n      <th>1991</th>\n      <td>{'137506': {'AFG': 0.307, 'ALB': 0.631, 'ARE':...</td>\n      <td>NaN</td>\n      <td>NaN</td>\n    </tr>\n    <tr>\n      <th>1992</th>\n      <td>{'137506': {'AFG': 0.316, 'ALB': 0.615, 'ARE':...</td>\n      <td>NaN</td>\n      <td>NaN</td>\n    </tr>\n    <tr>\n      <th>1993</th>\n      <td>{'137506': {'AFG': 0.312, 'ALB': 0.618, 'ARE':...</td>\n      <td>NaN</td>\n      <td>NaN</td>\n    </tr>\n    <tr>\n      <th>1994</th>\n      <td>{'137506': {'AFG': 0.307, 'ALB': 0.624, 'ARE':...</td>\n      <td>NaN</td>\n      <td>NaN</td>\n    </tr>\n    <tr>\n      <th>...</th>\n      <td>...</td>\n      <td>...</td>\n      <td>...</td>\n    </tr>\n    <tr>\n      <th>YEM</th>\n      <td>NaN</td>\n      <td>Yemen</td>\n      <td>NaN</td>\n    </tr>\n    <tr>\n      <th>ZAF</th>\n      <td>NaN</td>\n      <td>South Africa</td>\n      <td>NaN</td>\n    </tr>\n    <tr>\n      <th>ZMB</th>\n      <td>NaN</td>\n      <td>Zambia</td>\n      <td>NaN</td>\n    </tr>\n    <tr>\n      <th>ZWE</th>\n      <td>NaN</td>\n      <td>Zimbabwe</td>\n      <td>NaN</td>\n    </tr>\n    <tr>\n      <th>137506</th>\n      <td>NaN</td>\n      <td>NaN</td>\n      <td>Human Development Index (HDI)</td>\n    </tr>\n  </tbody>\n</table>\n<p>220 rows × 3 columns</p>\n</div>"
     },
     "metadata": {},
     "execution_count": 86
    }
   ],
   "source": [
    "df_g = pd.DataFrame(data)\n",
    "df_g"
   ]
  },
  {
   "cell_type": "code",
   "execution_count": 90,
   "metadata": {},
   "outputs": [
    {
     "output_type": "error",
     "ename": "KeyError",
     "evalue": "'137506'",
     "traceback": [
      "\u001b[0;31m---------------------------------------------------------------------------\u001b[0m",
      "\u001b[0;31mKeyError\u001b[0m                                  Traceback (most recent call last)",
      "\u001b[0;32m<ipython-input-90-e72baedc48e6>\u001b[0m in \u001b[0;36m<module>\u001b[0;34m\u001b[0m\n\u001b[0;32m----> 1\u001b[0;31m \u001b[0mpd\u001b[0m\u001b[0;34m.\u001b[0m\u001b[0mDataFrame\u001b[0m\u001b[0;34m(\u001b[0m\u001b[0mdata\u001b[0m\u001b[0;34m[\u001b[0m\u001b[0;34m'indicator_value'\u001b[0m\u001b[0;34m]\u001b[0m\u001b[0;34m[\u001b[0m\u001b[0;34m'137506'\u001b[0m\u001b[0;34m]\u001b[0m\u001b[0;34m)\u001b[0m\u001b[0;34m\u001b[0m\u001b[0;34m\u001b[0m\u001b[0m\n\u001b[0m",
      "\u001b[0;31mKeyError\u001b[0m: '137506'"
     ]
    }
   ],
   "source": [
    "pd.DataFrame(data['indicator_value']['137506'])"
   ]
  },
  {
   "cell_type": "code",
   "execution_count": null,
   "metadata": {},
   "outputs": [],
   "source": []
  },
  {
   "cell_type": "code",
   "execution_count": 76,
   "metadata": {},
   "outputs": [
    {
     "output_type": "execute_result",
     "data": {
      "text/plain": [
       "   AFG_137506_1990  AFG_137506_1991  AFG_137506_1992  AFG_137506_1993  \\\n",
       "0            0.302            0.307            0.316            0.312   \n",
       "\n",
       "   AFG_137506_1994  AFG_137506_1995  AFG_137506_1996  AFG_137506_1997  \\\n",
       "0            0.307            0.331            0.335            0.339   \n",
       "\n",
       "   AFG_137506_1998  AFG_137506_1999  ...  ZWE_137506_2010  ZWE_137506_2011  \\\n",
       "0            0.344            0.348  ...            0.482            0.499   \n",
       "\n",
       "   ZWE_137506_2012  ZWE_137506_2013  ZWE_137506_2014  ZWE_137506_2015  \\\n",
       "0            0.525            0.537            0.547            0.553   \n",
       "\n",
       "   ZWE_137506_2016  ZWE_137506_2017  ZWE_137506_2018  ZWE_137506_2019  \n",
       "0            0.558            0.563            0.569            0.571  \n",
       "\n",
       "[1 rows x 5150 columns]"
      ],
      "text/html": "<div>\n<style scoped>\n    .dataframe tbody tr th:only-of-type {\n        vertical-align: middle;\n    }\n\n    .dataframe tbody tr th {\n        vertical-align: top;\n    }\n\n    .dataframe thead th {\n        text-align: right;\n    }\n</style>\n<table border=\"1\" class=\"dataframe\">\n  <thead>\n    <tr style=\"text-align: right;\">\n      <th></th>\n      <th>AFG_137506_1990</th>\n      <th>AFG_137506_1991</th>\n      <th>AFG_137506_1992</th>\n      <th>AFG_137506_1993</th>\n      <th>AFG_137506_1994</th>\n      <th>AFG_137506_1995</th>\n      <th>AFG_137506_1996</th>\n      <th>AFG_137506_1997</th>\n      <th>AFG_137506_1998</th>\n      <th>AFG_137506_1999</th>\n      <th>...</th>\n      <th>ZWE_137506_2010</th>\n      <th>ZWE_137506_2011</th>\n      <th>ZWE_137506_2012</th>\n      <th>ZWE_137506_2013</th>\n      <th>ZWE_137506_2014</th>\n      <th>ZWE_137506_2015</th>\n      <th>ZWE_137506_2016</th>\n      <th>ZWE_137506_2017</th>\n      <th>ZWE_137506_2018</th>\n      <th>ZWE_137506_2019</th>\n    </tr>\n  </thead>\n  <tbody>\n    <tr>\n      <th>0</th>\n      <td>0.302</td>\n      <td>0.307</td>\n      <td>0.316</td>\n      <td>0.312</td>\n      <td>0.307</td>\n      <td>0.331</td>\n      <td>0.335</td>\n      <td>0.339</td>\n      <td>0.344</td>\n      <td>0.348</td>\n      <td>...</td>\n      <td>0.482</td>\n      <td>0.499</td>\n      <td>0.525</td>\n      <td>0.537</td>\n      <td>0.547</td>\n      <td>0.553</td>\n      <td>0.558</td>\n      <td>0.563</td>\n      <td>0.569</td>\n      <td>0.571</td>\n    </tr>\n  </tbody>\n</table>\n<p>1 rows × 5150 columns</p>\n</div>"
     },
     "metadata": {},
     "execution_count": 76
    }
   ],
   "source": [
    "from flatten_json import flatten_json\n",
    "from pandas.io.json import json_normalize\n",
    "\n",
    "flat = flatten_json(data.json()['indicator_value'])\n",
    "json_normalize(flat)"
   ]
  },
  {
   "cell_type": "code",
   "execution_count": 66,
   "metadata": {},
   "outputs": [
    {
     "output_type": "error",
     "ename": "TypeError",
     "evalue": "_json_normalize() got an unexpected keyword argument 'axis'",
     "traceback": [
      "\u001b[0;31m---------------------------------------------------------------------------\u001b[0m",
      "\u001b[0;31mTypeError\u001b[0m                                 Traceback (most recent call last)",
      "\u001b[0;32m<ipython-input-66-4a93c6159f77>\u001b[0m in \u001b[0;36m<module>\u001b[0;34m\u001b[0m\n\u001b[0;32m----> 1\u001b[0;31m \u001b[0mpd\u001b[0m\u001b[0;34m.\u001b[0m\u001b[0mio\u001b[0m\u001b[0;34m.\u001b[0m\u001b[0mjson\u001b[0m\u001b[0;34m.\u001b[0m\u001b[0mjson_normalize\u001b[0m\u001b[0;34m(\u001b[0m\u001b[0mdf\u001b[0m\u001b[0;34m.\u001b[0m\u001b[0mto_dict\u001b[0m\u001b[0;34m(\u001b[0m\u001b[0;34m'indicator_value'\u001b[0m\u001b[0;34m)\u001b[0m\u001b[0;34m,\u001b[0m \u001b[0maxis\u001b[0m\u001b[0;34m=\u001b[0m\u001b[0;36m1\u001b[0m\u001b[0;34m)\u001b[0m\u001b[0;34m\u001b[0m\u001b[0;34m\u001b[0m\u001b[0m\n\u001b[0m",
      "\u001b[0;32m/Library/Frameworks/Python.framework/Versions/3.6/lib/python3.6/site-packages/pandas/util/_decorators.py\u001b[0m in \u001b[0;36mwrapper\u001b[0;34m(*args, **kwargs)\u001b[0m\n\u001b[1;32m     50\u001b[0m     \u001b[0;32mdef\u001b[0m \u001b[0mwrapper\u001b[0m\u001b[0;34m(\u001b[0m\u001b[0;34m*\u001b[0m\u001b[0margs\u001b[0m\u001b[0;34m,\u001b[0m \u001b[0;34m**\u001b[0m\u001b[0mkwargs\u001b[0m\u001b[0;34m)\u001b[0m \u001b[0;34m->\u001b[0m \u001b[0mCallable\u001b[0m\u001b[0;34m[\u001b[0m\u001b[0;34m...\u001b[0m\u001b[0;34m,\u001b[0m \u001b[0mAny\u001b[0m\u001b[0;34m]\u001b[0m\u001b[0;34m:\u001b[0m\u001b[0;34m\u001b[0m\u001b[0;34m\u001b[0m\u001b[0m\n\u001b[1;32m     51\u001b[0m         \u001b[0mwarnings\u001b[0m\u001b[0;34m.\u001b[0m\u001b[0mwarn\u001b[0m\u001b[0;34m(\u001b[0m\u001b[0mwarning_msg\u001b[0m\u001b[0;34m,\u001b[0m \u001b[0mklass\u001b[0m\u001b[0;34m,\u001b[0m \u001b[0mstacklevel\u001b[0m\u001b[0;34m=\u001b[0m\u001b[0mstacklevel\u001b[0m\u001b[0;34m)\u001b[0m\u001b[0;34m\u001b[0m\u001b[0;34m\u001b[0m\u001b[0m\n\u001b[0;32m---> 52\u001b[0;31m         \u001b[0;32mreturn\u001b[0m \u001b[0malternative\u001b[0m\u001b[0;34m(\u001b[0m\u001b[0;34m*\u001b[0m\u001b[0margs\u001b[0m\u001b[0;34m,\u001b[0m \u001b[0;34m**\u001b[0m\u001b[0mkwargs\u001b[0m\u001b[0;34m)\u001b[0m\u001b[0;34m\u001b[0m\u001b[0;34m\u001b[0m\u001b[0m\n\u001b[0m\u001b[1;32m     53\u001b[0m \u001b[0;34m\u001b[0m\u001b[0m\n\u001b[1;32m     54\u001b[0m     \u001b[0;31m# adding deprecated directive to the docstring\u001b[0m\u001b[0;34m\u001b[0m\u001b[0;34m\u001b[0m\u001b[0;34m\u001b[0m\u001b[0m\n",
      "\u001b[0;31mTypeError\u001b[0m: _json_normalize() got an unexpected keyword argument 'axis'"
     ]
    }
   ],
   "source": [
    "pd.io.json.json_normalize(df.to_dict('indicator_value'), axis=1)"
   ]
  },
  {
   "cell_type": "code",
   "execution_count": null,
   "metadata": {},
   "outputs": [],
   "source": []
  }
 ]
}