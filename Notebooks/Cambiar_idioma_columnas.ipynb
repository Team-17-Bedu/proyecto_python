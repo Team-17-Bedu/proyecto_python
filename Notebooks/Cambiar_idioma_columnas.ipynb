{
  "nbformat": 4,
  "nbformat_minor": 0,
  "metadata": {
    "colab": {
      "name": "Cambiar_idioma_columnas.ipynb",
      "provenance": [],
      "collapsed_sections": []
    },
    "kernelspec": {
      "name": "python3",
      "display_name": "Python 3"
    }
  },
  "cells": [
    {
      "cell_type": "markdown",
      "metadata": {
        "id": "5yfZmuC3sd2A"
      },
      "source": [
        "## Aplicación para leer el Dataframe y cambiar de idioma los paises\r\n",
        "\r\n",
        "1.- Primero tenemos que instalar \r\n",
        "   * pip install google_trans_new\r\n",
        "\r\n"
      ]
    },
    {
      "cell_type": "code",
      "metadata": {
        "colab": {
          "base_uri": "https://localhost:8080/"
        },
        "id": "Z5AM8MEyrZWA",
        "outputId": "ca543cdb-c8a2-44d2-99e9-441f8215f810"
      },
      "source": [
        "pip install google_trans_new"
      ],
      "execution_count": 9,
      "outputs": [
        {
          "output_type": "stream",
          "text": [
            "Requirement already satisfied: google_trans_new in /usr/local/lib/python3.7/dist-packages (1.1.9)\n"
          ],
          "name": "stdout"
        }
      ]
    },
    {
      "cell_type": "code",
      "metadata": {
        "id": "dekWzga5r2QS"
      },
      "source": [
        "# Importamos google_translat y creamos una instancia de translator\r\n",
        "from google_trans_new import google_translator  \r\n",
        "translator = google_translator()  \r\n"
      ],
      "execution_count": 11,
      "outputs": []
    },
    {
      "cell_type": "code",
      "metadata": {
        "id": "hMHAQUjWsCm2"
      },
      "source": [
        "# Carga del Dataframe\r\n",
        "import pandas as pd\r\n",
        "# Lectura del Dataframe y asignar a una variable, se debe leer desde github y el archivo en versión raw\r\n",
        "df = pd.read_csv('https://raw.githubusercontent.com/RaulTostadoB/Test2/main/Education_index1.csv')\r\n",
        "\r\n"
      ],
      "execution_count": 12,
      "outputs": []
    },
    {
      "cell_type": "code",
      "metadata": {
        "id": "V1uXGV0LsMWV"
      },
      "source": [
        "#Cambio de idioma\r\n",
        "# Se trabaja con un ciclo for para recorrer todas las filas\r\n",
        "num_registros_a_convertir = df.Country.count() #Contamos cuantos registros son para indicar el final del ciclo\r\n",
        "\r\n",
        "for i in range(0,num_registros_a_convertir):\r\n",
        "  df.Country[i] = translator.translate(df.Country[i],lang_tgt='es',lang_src='en')\r\n",
        "df"
      ],
      "execution_count": null,
      "outputs": []
    }
  ]
}