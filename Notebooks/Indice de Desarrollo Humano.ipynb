{
 "metadata": {
  "language_info": {
   "codemirror_mode": {
    "name": "ipython",
    "version": 3
   },
   "file_extension": ".py",
   "mimetype": "text/x-python",
   "name": "python",
   "nbconvert_exporter": "python",
   "pygments_lexer": "ipython3",
   "version": "3.6.8-final"
  },
  "orig_nbformat": 2,
  "kernelspec": {
   "name": "python3",
   "display_name": "Python 3.6.8 64-bit",
   "metadata": {
    "interpreter": {
     "hash": "58bc13ec4dd135858b8220102d0ad3358f57eb64d131366ec25c4d4365eacf63"
    }
   }
  }
 },
 "nbformat": 4,
 "nbformat_minor": 2,
 "cells": [
  {
   "source": [
    "<!-- PROJECT LOGO -->\n",
    "<br/>\n",
    "<p align=\"center\">\n",
    "    <img src=\"https://raw.githubusercontent.com/Team-17-Bedu/proyecto_python/main/img/icono.png\" alt=\"Logo\" width=\"135\" height=\"135\">\n",
    "\n",
    "  <h3 align=\"center\"><strong>Países con mayor calidad de vida</strong></h3>\n",
    "\n",
    "  <p align=\"center\">\n",
    "    Proyecto final para el modulo \"Procesamiento de datos con Python\"\n",
    "  </p>\n",
    "</p>\n",
    "\n",
    "#### Acerca del proyecto:\n",
    "\n",
    "Este proyecto tiene como proposito realizar un analisis de la calidad de vida de ciertos paises, con el fin de determinar cuál de ellos podria ser la mejor opcion para vivir o buscar un empleo, todo esto, haciendo uso de herramientas estadísticas y computacionales, siendo el principal aliado, el lenguaje de programacion Python. \n",
    "\n",
    "\n",
    "En este caso se tendra como principal objetivo en calcular el IDH por medio de la documentación proporcionada del __*Human Development Report 2020*__, presente en el siguiente [enlace](http://hdr.undp.org/sites/default/files/hdr2020_technical_notes.pdf). Y con tales resultados justificar nuestro anterior proyecto elaborado en el lenguaje R, el proyecto esta presente en el siguiente [enlace](https://github.com/Team-17-Bedu/proyecto).\n",
    "\n",
    "Todos los datos serán obtenidos por medio de la API proporcionada por la UNDP\n",
    "\n",
    "#### Procedimiento:\n",
    "Para comenzar se importaron los modulos necesarios (dadas las limitaciones de github no es posible renderizar los widgets, para ello sera necesario visualuzar el notebook en Google Colab)\n"
   ],
   "cell_type": "markdown",
   "metadata": {}
  },
  {
   "cell_type": "code",
   "execution_count": 92,
   "metadata": {},
   "outputs": [],
   "source": [
    "import pandas as pd\n",
    "import requests\n",
    "import ipywidgets as widgets\n",
    "from IPython.display import display"
   ]
  },
  {
   "source": [
    "Debido a que el acceso a la API requiere un inicio de sesion, se recurrió al objeto `Session` del modulo `requests`  "
   ],
   "cell_type": "markdown",
   "metadata": {}
  },
  {
   "cell_type": "code",
   "execution_count": 93,
   "metadata": {},
   "outputs": [],
   "source": [
    "session = requests.Session()"
   ]
  },
  {
   "source": [
    "Mediante el modulo `widgets` se definieron dos text box para introducir los datos de autenticación, `user` y `password` respectivamente "
   ],
   "cell_type": "markdown",
   "metadata": {}
  },
  {
   "cell_type": "code",
   "execution_count": 94,
   "metadata": {},
   "outputs": [
    {
     "output_type": "display_data",
     "data": {
      "text/plain": "Text(value='')",
      "application/vnd.jupyter.widget-view+json": {
       "version_major": 2,
       "version_minor": 0,
       "model_id": "a6f8aab6e5d84a3ab87743d281010415"
      }
     },
     "metadata": {}
    },
    {
     "output_type": "display_data",
     "data": {
      "text/plain": "Text(value='')",
      "application/vnd.jupyter.widget-view+json": {
       "version_major": 2,
       "version_minor": 0,
       "model_id": "55f3d386244c4d03a6924051c7ee7fec"
      }
     },
     "metadata": {}
    }
   ],
   "source": [
    "user = widgets.Text()\n",
    "password = widgets.Text()\n",
    "display(user, password)"
   ]
  },
  {
   "source": [
    "Definición de la tupla que contendra los datos de acceso"
   ],
   "cell_type": "markdown",
   "metadata": {}
  },
  {
   "cell_type": "code",
   "execution_count": 96,
   "metadata": {},
   "outputs": [],
   "source": [
    "access = (user.value, password.value)"
   ]
  },
  {
   "source": [
    "Inicio de sesión en la API de la UNDP"
   ],
   "cell_type": "markdown",
   "metadata": {}
  },
  {
   "cell_type": "code",
   "execution_count": 97,
   "metadata": {},
   "outputs": [
    {
     "output_type": "execute_result",
     "data": {
      "text/plain": [
       "<Response [200]>"
      ]
     },
     "metadata": {},
     "execution_count": 97
    }
   ],
   "source": [
    "session.get(\"http://ec2-54-174-131-205.compute-1.amazonaws.com/API/Login.php\",\n",
    "            auth=access)"
   ]
  },
  {
   "source": [
    "Dada la estructura del `json` recibido, se construyo una funcion para normalizar los datos, a modo de obtener un `DataFrame` homogeneo"
   ],
   "cell_type": "markdown",
   "metadata": {}
  },
  {
   "cell_type": "code",
   "execution_count": 118,
   "metadata": {},
   "outputs": [],
   "source": [
    "def normalize_data(data_dirt: dict, indicator_id: str) -> dict:\n",
    "    new_data = {\n",
    "        'Country': list(data_dirt['country_name'].values())\n",
    "    }\n",
    "    countries = list(data_dirt['country_name'].keys())\n",
    "    for year, year_data in data_dirt['indicator_value'].items():\n",
    "        values = []\n",
    "        last_key = ''\n",
    "        for key, val in year_data[indicator_id].items():\n",
    "            current_pos = countries.index(key)\n",
    "            last_pos = countries.index(last_key) if last_key != '' else 0\n",
    "            last_key = key\n",
    "            zeros = current_pos - last_pos\n",
    "            i = 1\n",
    "            while i < zeros and zeros != 0:\n",
    "                values.append(0)\n",
    "                i += 1\n",
    "            values.append(val)\n",
    "        new_data[year] = values\n",
    "    return  new_data"
   ]
  },
  {
   "source": [
    "Definición del indicador a consultar"
   ],
   "cell_type": "markdown",
   "metadata": {}
  },
  {
   "cell_type": "code",
   "execution_count": 119,
   "metadata": {},
   "outputs": [],
   "source": [
    "indicator = '137506'"
   ]
  },
  {
   "source": [
    "Realización de la consulta (puesto que la estructura es diferente a la de otras peticiones, esta se realizo con un `fstring`)"
   ],
   "cell_type": "markdown",
   "metadata": {}
  },
  {
   "cell_type": "code",
   "execution_count": 120,
   "metadata": {},
   "outputs": [],
   "source": [
    "data = session.get(f'http://ec2-54-174-131-205.compute-1.amazonaws.com/API/HDRO_API.php/indicator_id={indicator}/structure=yic')"
   ]
  },
  {
   "source": [
    "Normalizacion del `json` obtenido en la consulta"
   ],
   "cell_type": "markdown",
   "metadata": {}
  },
  {
   "cell_type": "code",
   "execution_count": 121,
   "metadata": {},
   "outputs": [],
   "source": [
    "clean = normalize_data(data.json(), indicator)"
   ]
  },
  {
   "source": [
    "Creación del `DataFrame` con los datos normalizados"
   ],
   "cell_type": "markdown",
   "metadata": {}
  },
  {
   "cell_type": "code",
   "execution_count": 123,
   "metadata": {},
   "outputs": [
    {
     "output_type": "execute_result",
     "data": {
      "text/plain": [
       "                  Country   1990   1991   1992   1993   1994   1995   1996  \\\n",
       "0             Afghanistan  0.302  0.307  0.316  0.312  0.307  0.331  0.335   \n",
       "1                  Angola  0.000  0.000  0.000  0.000  0.000  0.000  0.000   \n",
       "2                 Albania  0.650  0.631  0.615  0.618  0.624  0.637  0.646   \n",
       "3                 Andorra  0.000  0.000  0.000  0.000  0.000  0.000  0.000   \n",
       "4    United Arab Emirates  0.723  0.735  0.738  0.745  0.755  0.764  0.765   \n",
       "..                    ...    ...    ...    ...    ...    ...    ...    ...   \n",
       "184                 Samoa  0.633  0.634  0.634  0.639  0.618  0.624  0.633   \n",
       "185                 Yemen  0.401  0.401  0.404  0.406  0.408  0.414  0.421   \n",
       "186          South Africa  0.627  0.634  0.642  0.648  0.650  0.653  0.650   \n",
       "187                Zambia  0.421  0.417  0.416  0.419  0.414  0.415  0.416   \n",
       "188              Zimbabwe  0.478  0.481  0.467  0.463  0.460  0.453  0.453   \n",
       "\n",
       "      1997   1998  ...   2010   2011   2012   2013   2014   2015   2016  \\\n",
       "0    0.339  0.344  ...  0.472  0.477  0.489  0.496  0.500  0.500  0.502   \n",
       "1    0.000  0.000  ...  0.517  0.533  0.544  0.555  0.565  0.572  0.578   \n",
       "2    0.645  0.655  ...  0.745  0.764  0.775  0.782  0.787  0.788  0.788   \n",
       "3    0.000  0.000  ...  0.837  0.836  0.858  0.856  0.863  0.862  0.866   \n",
       "4    0.766  0.769  ...  0.820  0.826  0.832  0.838  0.847  0.859  0.864   \n",
       "..     ...    ...  ...    ...    ...    ...    ...    ...    ...    ...   \n",
       "184  0.635  0.641  ...  0.698  0.701  0.698  0.700  0.703  0.707  0.710   \n",
       "185  0.426  0.431  ...  0.506  0.506  0.504  0.509  0.502  0.483  0.474   \n",
       "186  0.646  0.640  ...  0.664  0.665  0.675  0.685  0.693  0.701  0.703   \n",
       "187  0.416  0.416  ...  0.527  0.534  0.549  0.557  0.561  0.569  0.571   \n",
       "188  0.447  0.442  ...  0.482  0.499  0.525  0.537  0.547  0.553  0.558   \n",
       "\n",
       "      2017   2018   2019  \n",
       "0    0.506  0.509  0.511  \n",
       "1    0.582  0.582  0.581  \n",
       "2    0.790  0.792  0.795  \n",
       "3    0.863  0.867  0.868  \n",
       "4    0.881  0.889  0.890  \n",
       "..     ...    ...    ...  \n",
       "184  0.710  0.709  0.715  \n",
       "185  0.467  0.468  0.470  \n",
       "186  0.705  0.707  0.709  \n",
       "187  0.578  0.582  0.584  \n",
       "188  0.563  0.569  0.571  \n",
       "\n",
       "[189 rows x 31 columns]"
      ],
      "text/html": "<div>\n<style scoped>\n    .dataframe tbody tr th:only-of-type {\n        vertical-align: middle;\n    }\n\n    .dataframe tbody tr th {\n        vertical-align: top;\n    }\n\n    .dataframe thead th {\n        text-align: right;\n    }\n</style>\n<table border=\"1\" class=\"dataframe\">\n  <thead>\n    <tr style=\"text-align: right;\">\n      <th></th>\n      <th>Country</th>\n      <th>1990</th>\n      <th>1991</th>\n      <th>1992</th>\n      <th>1993</th>\n      <th>1994</th>\n      <th>1995</th>\n      <th>1996</th>\n      <th>1997</th>\n      <th>1998</th>\n      <th>...</th>\n      <th>2010</th>\n      <th>2011</th>\n      <th>2012</th>\n      <th>2013</th>\n      <th>2014</th>\n      <th>2015</th>\n      <th>2016</th>\n      <th>2017</th>\n      <th>2018</th>\n      <th>2019</th>\n    </tr>\n  </thead>\n  <tbody>\n    <tr>\n      <th>0</th>\n      <td>Afghanistan</td>\n      <td>0.302</td>\n      <td>0.307</td>\n      <td>0.316</td>\n      <td>0.312</td>\n      <td>0.307</td>\n      <td>0.331</td>\n      <td>0.335</td>\n      <td>0.339</td>\n      <td>0.344</td>\n      <td>...</td>\n      <td>0.472</td>\n      <td>0.477</td>\n      <td>0.489</td>\n      <td>0.496</td>\n      <td>0.500</td>\n      <td>0.500</td>\n      <td>0.502</td>\n      <td>0.506</td>\n      <td>0.509</td>\n      <td>0.511</td>\n    </tr>\n    <tr>\n      <th>1</th>\n      <td>Angola</td>\n      <td>0.000</td>\n      <td>0.000</td>\n      <td>0.000</td>\n      <td>0.000</td>\n      <td>0.000</td>\n      <td>0.000</td>\n      <td>0.000</td>\n      <td>0.000</td>\n      <td>0.000</td>\n      <td>...</td>\n      <td>0.517</td>\n      <td>0.533</td>\n      <td>0.544</td>\n      <td>0.555</td>\n      <td>0.565</td>\n      <td>0.572</td>\n      <td>0.578</td>\n      <td>0.582</td>\n      <td>0.582</td>\n      <td>0.581</td>\n    </tr>\n    <tr>\n      <th>2</th>\n      <td>Albania</td>\n      <td>0.650</td>\n      <td>0.631</td>\n      <td>0.615</td>\n      <td>0.618</td>\n      <td>0.624</td>\n      <td>0.637</td>\n      <td>0.646</td>\n      <td>0.645</td>\n      <td>0.655</td>\n      <td>...</td>\n      <td>0.745</td>\n      <td>0.764</td>\n      <td>0.775</td>\n      <td>0.782</td>\n      <td>0.787</td>\n      <td>0.788</td>\n      <td>0.788</td>\n      <td>0.790</td>\n      <td>0.792</td>\n      <td>0.795</td>\n    </tr>\n    <tr>\n      <th>3</th>\n      <td>Andorra</td>\n      <td>0.000</td>\n      <td>0.000</td>\n      <td>0.000</td>\n      <td>0.000</td>\n      <td>0.000</td>\n      <td>0.000</td>\n      <td>0.000</td>\n      <td>0.000</td>\n      <td>0.000</td>\n      <td>...</td>\n      <td>0.837</td>\n      <td>0.836</td>\n      <td>0.858</td>\n      <td>0.856</td>\n      <td>0.863</td>\n      <td>0.862</td>\n      <td>0.866</td>\n      <td>0.863</td>\n      <td>0.867</td>\n      <td>0.868</td>\n    </tr>\n    <tr>\n      <th>4</th>\n      <td>United Arab Emirates</td>\n      <td>0.723</td>\n      <td>0.735</td>\n      <td>0.738</td>\n      <td>0.745</td>\n      <td>0.755</td>\n      <td>0.764</td>\n      <td>0.765</td>\n      <td>0.766</td>\n      <td>0.769</td>\n      <td>...</td>\n      <td>0.820</td>\n      <td>0.826</td>\n      <td>0.832</td>\n      <td>0.838</td>\n      <td>0.847</td>\n      <td>0.859</td>\n      <td>0.864</td>\n      <td>0.881</td>\n      <td>0.889</td>\n      <td>0.890</td>\n    </tr>\n    <tr>\n      <th>...</th>\n      <td>...</td>\n      <td>...</td>\n      <td>...</td>\n      <td>...</td>\n      <td>...</td>\n      <td>...</td>\n      <td>...</td>\n      <td>...</td>\n      <td>...</td>\n      <td>...</td>\n      <td>...</td>\n      <td>...</td>\n      <td>...</td>\n      <td>...</td>\n      <td>...</td>\n      <td>...</td>\n      <td>...</td>\n      <td>...</td>\n      <td>...</td>\n      <td>...</td>\n      <td>...</td>\n    </tr>\n    <tr>\n      <th>184</th>\n      <td>Samoa</td>\n      <td>0.633</td>\n      <td>0.634</td>\n      <td>0.634</td>\n      <td>0.639</td>\n      <td>0.618</td>\n      <td>0.624</td>\n      <td>0.633</td>\n      <td>0.635</td>\n      <td>0.641</td>\n      <td>...</td>\n      <td>0.698</td>\n      <td>0.701</td>\n      <td>0.698</td>\n      <td>0.700</td>\n      <td>0.703</td>\n      <td>0.707</td>\n      <td>0.710</td>\n      <td>0.710</td>\n      <td>0.709</td>\n      <td>0.715</td>\n    </tr>\n    <tr>\n      <th>185</th>\n      <td>Yemen</td>\n      <td>0.401</td>\n      <td>0.401</td>\n      <td>0.404</td>\n      <td>0.406</td>\n      <td>0.408</td>\n      <td>0.414</td>\n      <td>0.421</td>\n      <td>0.426</td>\n      <td>0.431</td>\n      <td>...</td>\n      <td>0.506</td>\n      <td>0.506</td>\n      <td>0.504</td>\n      <td>0.509</td>\n      <td>0.502</td>\n      <td>0.483</td>\n      <td>0.474</td>\n      <td>0.467</td>\n      <td>0.468</td>\n      <td>0.470</td>\n    </tr>\n    <tr>\n      <th>186</th>\n      <td>South Africa</td>\n      <td>0.627</td>\n      <td>0.634</td>\n      <td>0.642</td>\n      <td>0.648</td>\n      <td>0.650</td>\n      <td>0.653</td>\n      <td>0.650</td>\n      <td>0.646</td>\n      <td>0.640</td>\n      <td>...</td>\n      <td>0.664</td>\n      <td>0.665</td>\n      <td>0.675</td>\n      <td>0.685</td>\n      <td>0.693</td>\n      <td>0.701</td>\n      <td>0.703</td>\n      <td>0.705</td>\n      <td>0.707</td>\n      <td>0.709</td>\n    </tr>\n    <tr>\n      <th>187</th>\n      <td>Zambia</td>\n      <td>0.421</td>\n      <td>0.417</td>\n      <td>0.416</td>\n      <td>0.419</td>\n      <td>0.414</td>\n      <td>0.415</td>\n      <td>0.416</td>\n      <td>0.416</td>\n      <td>0.416</td>\n      <td>...</td>\n      <td>0.527</td>\n      <td>0.534</td>\n      <td>0.549</td>\n      <td>0.557</td>\n      <td>0.561</td>\n      <td>0.569</td>\n      <td>0.571</td>\n      <td>0.578</td>\n      <td>0.582</td>\n      <td>0.584</td>\n    </tr>\n    <tr>\n      <th>188</th>\n      <td>Zimbabwe</td>\n      <td>0.478</td>\n      <td>0.481</td>\n      <td>0.467</td>\n      <td>0.463</td>\n      <td>0.460</td>\n      <td>0.453</td>\n      <td>0.453</td>\n      <td>0.447</td>\n      <td>0.442</td>\n      <td>...</td>\n      <td>0.482</td>\n      <td>0.499</td>\n      <td>0.525</td>\n      <td>0.537</td>\n      <td>0.547</td>\n      <td>0.553</td>\n      <td>0.558</td>\n      <td>0.563</td>\n      <td>0.569</td>\n      <td>0.571</td>\n    </tr>\n  </tbody>\n</table>\n<p>189 rows × 31 columns</p>\n</div>"
     },
     "metadata": {},
     "execution_count": 123
    }
   ],
   "source": [
    "df = pd.DataFrame(clean)\n",
    "df"
   ]
  }
 ]
}