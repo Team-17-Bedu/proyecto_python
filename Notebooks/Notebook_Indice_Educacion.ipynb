{
 "cells": [
  {
   "cell_type": "markdown",
   "metadata": {
    "collapsed": true,
    "pycharm": {
     "name": "#%% md\n"
    }
   },
   "source": [
    "# Limpieza de los `DataFrames` relacionados con educación"
   ]
  },
  {
   "cell_type": "code",
   "execution_count": 20,
   "outputs": [],
   "source": [
    "import pandas as pd\n",
    "from scripts.translate import *"
   ],
   "metadata": {
    "collapsed": false,
    "pycharm": {
     "name": "#%%\n"
    }
   }
  },
  {
   "cell_type": "code",
   "execution_count": 22,
   "outputs": [],
   "source": [
    "df = get_df_translated(\"Expected years of schooling (years).csv\")"
   ],
   "metadata": {
    "collapsed": false,
    "pycharm": {
     "name": "#%%\n"
    }
   }
  },
  {
   "cell_type": "code",
   "execution_count": 26,
   "outputs": [
    {
     "output_type": "execute_result",
     "data": {
      "text/plain": [
       "  HDI Rank      Country  1990  Unnamed: 3  1991  Unnamed: 5  1992  Unnamed: 7  \\\n",
       "0      169  Afganistán    2.6         NaN   2.9         NaN   3.2         NaN   \n",
       "1       69     Albania   11.6         NaN  11.8         NaN  10.7         NaN   \n",
       "2       91     Argelia    9.6         NaN   9.7         NaN   9.8         NaN   \n",
       "3       36     Andorra   10.8         NaN  10.8         NaN  10.8         NaN   \n",
       "4      148      Angola    3.4         NaN   3.3         NaN   3.2         NaN   \n",
       "\n",
       "   1993  Unnamed: 9  ...  2015  Unnamed: 53  2016  Unnamed: 55  2017  \\\n",
       "0   3.6         NaN  ...  10.2          NaN  10.3          NaN  10.1   \n",
       "1  10.1         NaN  ...  15.1          NaN  14.8          NaN  14.8   \n",
       "2   9.8         NaN  ...  14.2          NaN  14.2          NaN  14.4   \n",
       "3  10.8         NaN  ...  13.1          NaN  13.3          NaN  13.0   \n",
       "4   3.7         NaN  ...  11.0          NaN  11.4          NaN  11.8   \n",
       "\n",
       "   Unnamed: 57  2018  Unnamed: 59  2019  Unnamed: 61  \n",
       "0          NaN  10.1          NaN  10.2            a  \n",
       "1          NaN  14.7          NaN  14.7            a  \n",
       "2          NaN  14.5          NaN  14.6            a  \n",
       "3          NaN  13.3          NaN  13.3          a,b  \n",
       "4          NaN  11.8          NaN  11.8          a,c  \n",
       "\n",
       "[5 rows x 62 columns]"
      ],
      "text/html": "<div>\n<style scoped>\n    .dataframe tbody tr th:only-of-type {\n        vertical-align: middle;\n    }\n\n    .dataframe tbody tr th {\n        vertical-align: top;\n    }\n\n    .dataframe thead th {\n        text-align: right;\n    }\n</style>\n<table border=\"1\" class=\"dataframe\">\n  <thead>\n    <tr style=\"text-align: right;\">\n      <th></th>\n      <th>HDI Rank</th>\n      <th>Country</th>\n      <th>1990</th>\n      <th>Unnamed: 3</th>\n      <th>1991</th>\n      <th>Unnamed: 5</th>\n      <th>1992</th>\n      <th>Unnamed: 7</th>\n      <th>1993</th>\n      <th>Unnamed: 9</th>\n      <th>...</th>\n      <th>2015</th>\n      <th>Unnamed: 53</th>\n      <th>2016</th>\n      <th>Unnamed: 55</th>\n      <th>2017</th>\n      <th>Unnamed: 57</th>\n      <th>2018</th>\n      <th>Unnamed: 59</th>\n      <th>2019</th>\n      <th>Unnamed: 61</th>\n    </tr>\n  </thead>\n  <tbody>\n    <tr>\n      <th>0</th>\n      <td>169</td>\n      <td>Afganistán</td>\n      <td>2.6</td>\n      <td>NaN</td>\n      <td>2.9</td>\n      <td>NaN</td>\n      <td>3.2</td>\n      <td>NaN</td>\n      <td>3.6</td>\n      <td>NaN</td>\n      <td>...</td>\n      <td>10.2</td>\n      <td>NaN</td>\n      <td>10.3</td>\n      <td>NaN</td>\n      <td>10.1</td>\n      <td>NaN</td>\n      <td>10.1</td>\n      <td>NaN</td>\n      <td>10.2</td>\n      <td>a</td>\n    </tr>\n    <tr>\n      <th>1</th>\n      <td>69</td>\n      <td>Albania</td>\n      <td>11.6</td>\n      <td>NaN</td>\n      <td>11.8</td>\n      <td>NaN</td>\n      <td>10.7</td>\n      <td>NaN</td>\n      <td>10.1</td>\n      <td>NaN</td>\n      <td>...</td>\n      <td>15.1</td>\n      <td>NaN</td>\n      <td>14.8</td>\n      <td>NaN</td>\n      <td>14.8</td>\n      <td>NaN</td>\n      <td>14.7</td>\n      <td>NaN</td>\n      <td>14.7</td>\n      <td>a</td>\n    </tr>\n    <tr>\n      <th>2</th>\n      <td>91</td>\n      <td>Argelia</td>\n      <td>9.6</td>\n      <td>NaN</td>\n      <td>9.7</td>\n      <td>NaN</td>\n      <td>9.8</td>\n      <td>NaN</td>\n      <td>9.8</td>\n      <td>NaN</td>\n      <td>...</td>\n      <td>14.2</td>\n      <td>NaN</td>\n      <td>14.2</td>\n      <td>NaN</td>\n      <td>14.4</td>\n      <td>NaN</td>\n      <td>14.5</td>\n      <td>NaN</td>\n      <td>14.6</td>\n      <td>a</td>\n    </tr>\n    <tr>\n      <th>3</th>\n      <td>36</td>\n      <td>Andorra</td>\n      <td>10.8</td>\n      <td>NaN</td>\n      <td>10.8</td>\n      <td>NaN</td>\n      <td>10.8</td>\n      <td>NaN</td>\n      <td>10.8</td>\n      <td>NaN</td>\n      <td>...</td>\n      <td>13.1</td>\n      <td>NaN</td>\n      <td>13.3</td>\n      <td>NaN</td>\n      <td>13.0</td>\n      <td>NaN</td>\n      <td>13.3</td>\n      <td>NaN</td>\n      <td>13.3</td>\n      <td>a,b</td>\n    </tr>\n    <tr>\n      <th>4</th>\n      <td>148</td>\n      <td>Angola</td>\n      <td>3.4</td>\n      <td>NaN</td>\n      <td>3.3</td>\n      <td>NaN</td>\n      <td>3.2</td>\n      <td>NaN</td>\n      <td>3.7</td>\n      <td>NaN</td>\n      <td>...</td>\n      <td>11.0</td>\n      <td>NaN</td>\n      <td>11.4</td>\n      <td>NaN</td>\n      <td>11.8</td>\n      <td>NaN</td>\n      <td>11.8</td>\n      <td>NaN</td>\n      <td>11.8</td>\n      <td>a,c</td>\n    </tr>\n  </tbody>\n</table>\n<p>5 rows × 62 columns</p>\n</div>"
     },
     "metadata": {},
     "execution_count": 26
    }
   ],
   "source": [
    "df.head()"
   ],
   "metadata": {
    "collapsed": false,
    "pycharm": {
     "name": "#%%\n"
    }
   }
  },
  {
   "cell_type": "code",
   "execution_count": 27,
   "metadata": {},
   "outputs": [
    {
     "output_type": "execute_result",
     "data": {
      "text/plain": [
       "    HDI Rank                                Country  1990  Unnamed: 3  1991  \\\n",
       "188      113  Venezuela (República Bolivariana de)   10.5         NaN  10.7   \n",
       "189      117                               Vietnam    7.8         NaN   8.1   \n",
       "190      179                                 Yemen    7.5         NaN   7.5   \n",
       "191      146                                Zambia    7.5         NaN   7.7   \n",
       "192      150                              Zimbabue    9.8         NaN  10.2   \n",
       "\n",
       "     Unnamed: 5  1992  Unnamed: 7  1993  Unnamed: 9  ...  2015  Unnamed: 53  \\\n",
       "188         NaN  10.8         NaN  10.8         NaN  ...  14.0          NaN   \n",
       "189         NaN   8.4         NaN   8.7         NaN  ...  12.7          NaN   \n",
       "190         NaN   7.6         NaN   7.6         NaN  ...   8.7          NaN   \n",
       "191         NaN   8.0         NaN   8.2         NaN  ...  11.1          NaN   \n",
       "192         NaN   9.8         NaN   9.8         NaN  ...  10.3          NaN   \n",
       "\n",
       "     2016  Unnamed: 55  2017  Unnamed: 57  2018  Unnamed: 59  2019  \\\n",
       "188  13.6          NaN  12.8          NaN  12.8          NaN  12.8   \n",
       "189  12.7          NaN  12.7          NaN  12.7          NaN  12.7   \n",
       "190   8.7          NaN   8.7          NaN   8.7          NaN   8.8   \n",
       "191  11.2          NaN  11.3          NaN  11.4          NaN  11.5   \n",
       "192  10.4          NaN  10.5          NaN  10.5          NaN  11.0   \n",
       "\n",
       "     Unnamed: 61  \n",
       "188          a,d  \n",
       "189          a,d  \n",
       "190          a,d  \n",
       "191          a,c  \n",
       "192          a,h  \n",
       "\n",
       "[5 rows x 62 columns]"
      ],
      "text/html": "<div>\n<style scoped>\n    .dataframe tbody tr th:only-of-type {\n        vertical-align: middle;\n    }\n\n    .dataframe tbody tr th {\n        vertical-align: top;\n    }\n\n    .dataframe thead th {\n        text-align: right;\n    }\n</style>\n<table border=\"1\" class=\"dataframe\">\n  <thead>\n    <tr style=\"text-align: right;\">\n      <th></th>\n      <th>HDI Rank</th>\n      <th>Country</th>\n      <th>1990</th>\n      <th>Unnamed: 3</th>\n      <th>1991</th>\n      <th>Unnamed: 5</th>\n      <th>1992</th>\n      <th>Unnamed: 7</th>\n      <th>1993</th>\n      <th>Unnamed: 9</th>\n      <th>...</th>\n      <th>2015</th>\n      <th>Unnamed: 53</th>\n      <th>2016</th>\n      <th>Unnamed: 55</th>\n      <th>2017</th>\n      <th>Unnamed: 57</th>\n      <th>2018</th>\n      <th>Unnamed: 59</th>\n      <th>2019</th>\n      <th>Unnamed: 61</th>\n    </tr>\n  </thead>\n  <tbody>\n    <tr>\n      <th>188</th>\n      <td>113</td>\n      <td>Venezuela (República Bolivariana de)</td>\n      <td>10.5</td>\n      <td>NaN</td>\n      <td>10.7</td>\n      <td>NaN</td>\n      <td>10.8</td>\n      <td>NaN</td>\n      <td>10.8</td>\n      <td>NaN</td>\n      <td>...</td>\n      <td>14.0</td>\n      <td>NaN</td>\n      <td>13.6</td>\n      <td>NaN</td>\n      <td>12.8</td>\n      <td>NaN</td>\n      <td>12.8</td>\n      <td>NaN</td>\n      <td>12.8</td>\n      <td>a,d</td>\n    </tr>\n    <tr>\n      <th>189</th>\n      <td>117</td>\n      <td>Vietnam</td>\n      <td>7.8</td>\n      <td>NaN</td>\n      <td>8.1</td>\n      <td>NaN</td>\n      <td>8.4</td>\n      <td>NaN</td>\n      <td>8.7</td>\n      <td>NaN</td>\n      <td>...</td>\n      <td>12.7</td>\n      <td>NaN</td>\n      <td>12.7</td>\n      <td>NaN</td>\n      <td>12.7</td>\n      <td>NaN</td>\n      <td>12.7</td>\n      <td>NaN</td>\n      <td>12.7</td>\n      <td>a,d</td>\n    </tr>\n    <tr>\n      <th>190</th>\n      <td>179</td>\n      <td>Yemen</td>\n      <td>7.5</td>\n      <td>NaN</td>\n      <td>7.5</td>\n      <td>NaN</td>\n      <td>7.6</td>\n      <td>NaN</td>\n      <td>7.6</td>\n      <td>NaN</td>\n      <td>...</td>\n      <td>8.7</td>\n      <td>NaN</td>\n      <td>8.7</td>\n      <td>NaN</td>\n      <td>8.7</td>\n      <td>NaN</td>\n      <td>8.7</td>\n      <td>NaN</td>\n      <td>8.8</td>\n      <td>a,d</td>\n    </tr>\n    <tr>\n      <th>191</th>\n      <td>146</td>\n      <td>Zambia</td>\n      <td>7.5</td>\n      <td>NaN</td>\n      <td>7.7</td>\n      <td>NaN</td>\n      <td>8.0</td>\n      <td>NaN</td>\n      <td>8.2</td>\n      <td>NaN</td>\n      <td>...</td>\n      <td>11.1</td>\n      <td>NaN</td>\n      <td>11.2</td>\n      <td>NaN</td>\n      <td>11.3</td>\n      <td>NaN</td>\n      <td>11.4</td>\n      <td>NaN</td>\n      <td>11.5</td>\n      <td>a,c</td>\n    </tr>\n    <tr>\n      <th>192</th>\n      <td>150</td>\n      <td>Zimbabue</td>\n      <td>9.8</td>\n      <td>NaN</td>\n      <td>10.2</td>\n      <td>NaN</td>\n      <td>9.8</td>\n      <td>NaN</td>\n      <td>9.8</td>\n      <td>NaN</td>\n      <td>...</td>\n      <td>10.3</td>\n      <td>NaN</td>\n      <td>10.4</td>\n      <td>NaN</td>\n      <td>10.5</td>\n      <td>NaN</td>\n      <td>10.5</td>\n      <td>NaN</td>\n      <td>11.0</td>\n      <td>a,h</td>\n    </tr>\n  </tbody>\n</table>\n<p>5 rows × 62 columns</p>\n</div>"
     },
     "metadata": {},
     "execution_count": 27
    }
   ],
   "source": [
    "df.tail()"
   ]
  },
  {
   "cell_type": "code",
   "execution_count": 34,
   "outputs": [
    {
     "output_type": "execute_result",
     "data": {
      "text/plain": [
       "Empty DataFrame\n",
       "Columns: [HDI Rank, Country, 1990, Unnamed: 3, 1991, Unnamed: 5, 1992, Unnamed: 7, 1993, Unnamed: 9, 1994, Unnamed: 11, 1995, Unnamed: 13, 1996, Unnamed: 15, 1997, Unnamed: 17, 1998, Unnamed: 19, 1999, Unnamed: 21, 2000, Unnamed: 23, 2001, Unnamed: 25, 2002, Unnamed: 27, 2003, Unnamed: 29, 2004, Unnamed: 31, 2005, Unnamed: 33, 2006, Unnamed: 35, 2007, Unnamed: 37, 2008, Unnamed: 39, 2009, Unnamed: 41, 2010, Unnamed: 43, 2011, Unnamed: 45, 2012, Unnamed: 47, 2013, Unnamed: 49, 2014, Unnamed: 51, 2015, Unnamed: 53, 2016, Unnamed: 55, 2017, Unnamed: 57, 2018, Unnamed: 59, 2019, Unnamed: 61]\n",
       "Index: []\n",
       "\n",
       "[0 rows x 62 columns]"
      ],
      "text/html": "<div>\n<style scoped>\n    .dataframe tbody tr th:only-of-type {\n        vertical-align: middle;\n    }\n\n    .dataframe tbody tr th {\n        vertical-align: top;\n    }\n\n    .dataframe thead th {\n        text-align: right;\n    }\n</style>\n<table border=\"1\" class=\"dataframe\">\n  <thead>\n    <tr style=\"text-align: right;\">\n      <th></th>\n      <th>HDI Rank</th>\n      <th>Country</th>\n      <th>1990</th>\n      <th>Unnamed: 3</th>\n      <th>1991</th>\n      <th>Unnamed: 5</th>\n      <th>1992</th>\n      <th>Unnamed: 7</th>\n      <th>1993</th>\n      <th>Unnamed: 9</th>\n      <th>...</th>\n      <th>2015</th>\n      <th>Unnamed: 53</th>\n      <th>2016</th>\n      <th>Unnamed: 55</th>\n      <th>2017</th>\n      <th>Unnamed: 57</th>\n      <th>2018</th>\n      <th>Unnamed: 59</th>\n      <th>2019</th>\n      <th>Unnamed: 61</th>\n    </tr>\n  </thead>\n  <tbody>\n  </tbody>\n</table>\n<p>0 rows × 62 columns</p>\n</div>"
     },
     "metadata": {},
     "execution_count": 34
    }
   ],
   "source": [
    "df[df[\"2019\"] == \"..\"]\n"
   ],
   "metadata": {
    "collapsed": false,
    "pycharm": {
     "name": "#%%\n"
    }
   }
  },
  {
   "cell_type": "code",
   "execution_count": null,
   "metadata": {},
   "outputs": [],
   "source": []
  }
 ],
 "metadata": {
  "kernelspec": {
   "display_name": "Python 3",
   "language": "python",
   "name": "python3"
  },
  "language_info": {
   "codemirror_mode": {
    "name": "ipython",
    "version": 2
   },
   "file_extension": ".py",
   "mimetype": "text/x-python",
   "name": "python",
   "nbconvert_exporter": "python",
   "pygments_lexer": "ipython2",
   "version": "3.9.0-final"
  }
 },
 "nbformat": 4,
 "nbformat_minor": 0
}